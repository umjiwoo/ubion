{
 "cells": [
  {
   "attachments": {},
   "cell_type": "markdown",
   "metadata": {},
   "source": [
    "## 클래스"
   ]
  },
  {
   "cell_type": "code",
   "execution_count": 2,
   "metadata": {},
   "outputs": [],
   "source": [
    "class Class_1():\n",
    "    #생성자\n",
    "    def __init__(self,input_a,input_b):\n",
    "        self.a=input_a\n",
    "        self.b=input_b"
   ]
  },
  {
   "cell_type": "code",
   "execution_count": 5,
   "metadata": {},
   "outputs": [
    {
     "name": "stdout",
     "output_type": "stream",
     "text": [
      "1\n",
      "<__main__.Class_1 object at 0x00000194C3DDFEB0>\n"
     ]
    }
   ],
   "source": [
    "test_class=Class_1(1,2)\n",
    "print(test_class.a)\n",
    "print(test_class)"
   ]
  },
  {
   "cell_type": "code",
   "execution_count": 7,
   "metadata": {},
   "outputs": [
    {
     "name": "stdout",
     "output_type": "stream",
     "text": [
      "python\n",
      "java\n"
     ]
    }
   ],
   "source": [
    "test_class2=Class_1(\"ubion\",\"python\")\n",
    "print(test_class2.b)\n",
    "test_class2.b=\"java\"\n",
    "print(test_class2.b)"
   ]
  },
  {
   "cell_type": "code",
   "execution_count": null,
   "metadata": {},
   "outputs": [],
   "source": []
  },
  {
   "cell_type": "code",
   "execution_count": 28,
   "metadata": {},
   "outputs": [
    {
     "name": "stdout",
     "output_type": "stream",
     "text": [
      "jiwoo's coffe house\n",
      "{'아메리카노': ['물', '에스프레소'], '바닐라라떼': ['우유', '에스프레소', '바닐라파우더'], '카페모카': ['우유', '에스프레소', '초코파우더', '휘핑크림'], '돌체라떼': ['우유', '에스프레소', '연유']}\n",
      "\n",
      "Cafe UBION\n",
      "{'아메리카노': ['물', '에스프레소'], '바닐라라떼': ['우유', '에스프레소', '바닐라파우더'], '카페모카': ['우유', '에스프레소', '초코파우더', '휘핑크림'], '말차라떼': ['말차파우더', '우유']}\n"
     ]
    }
   ],
   "source": [
    "class Cafe():\n",
    "    #클래스 변수 -> 클래스 변수는 공통 접근 영역\n",
    "    #공통 접근을 막으려면 self.xxx 로 선언해야함-->__init__()에서 선언해줘야\n",
    "    # menu={\n",
    "    #     \"아메리카노\":[\"물\",\"에스프레소\"],\n",
    "    #     \"바닐라라떼\":[\"우유\",\"에스프레소\",\"바닐라파우더\"],\n",
    "    #     \"카페모카\":[\"우유\",\"에스프레소\",\"초코파우더\",\"휘핑크림\"]\n",
    "    # }\n",
    "\n",
    "    def __init__(self,input_name):\n",
    "        self.name=input_name\n",
    "\n",
    "        #default값 매개변수에 설정x, self.xxx에 직접 대입\n",
    "        self.menu={\n",
    "        \"아메리카노\":[\"물\",\"에스프레소\"],\n",
    "        \"바닐라라떼\":[\"우유\",\"에스프레소\",\"바닐라파우더\"],\n",
    "        \"카페모카\":[\"우유\",\"에스프레소\",\"초코파우더\",\"휘핑크림\"]}\n",
    "\n",
    "    def make_coffee(self,input_select,input_bean,input_ice):\n",
    "        self.select=input_select\n",
    "        self.bean=input_bean\n",
    "        self.ice=input_ice\n",
    "\n",
    "        #선택된 메뉴 재료\n",
    "        self.data=self.menu[self.select]\n",
    "\n",
    "        if self.ice==True:\n",
    "            print(\"ice\",self.select,\"준비물\",self.data,\"-\",self.bean)\n",
    "        else:\n",
    "            print(self.select,\"준비물\",self.data,\"-\",self.bean)\n",
    "\n",
    "\n",
    "    def add_menu(self,input_menu_name,input_data):\n",
    "        self.menu[input_menu_name]=input_data\n",
    "\n",
    "\n",
    "\n",
    "jiwoo_coffee=Cafe(\"jiwoo's coffe house\")\n",
    "print(jiwoo_coffee.name)\n",
    "# jiwoo_coffee.make_coffee(\"아메리카노\",\"케냐AA\",True)\n",
    "# jiwoo_coffee.make_coffee(\"아메리카노\",\"에티오피아\",False)\n",
    "jiwoo_coffee.add_menu(\"돌체라떼\",[\"우유\",\"에스프레소\",\"연유\"])\n",
    "print(jiwoo_coffee.menu)\n",
    "\n",
    "print()\n",
    "\n",
    "ubion_coffee=Cafe(\"Cafe UBION\")\n",
    "print(ubion_coffee.name)\n",
    "ubion_coffee.add_menu(\"말차라떼\",[\"말차파우더\",\"우유\"])\n",
    "print(ubion_coffee.menu)\n",
    "\n"
   ]
  },
  {
   "cell_type": "code",
   "execution_count": null,
   "metadata": {},
   "outputs": [],
   "source": []
  },
  {
   "cell_type": "code",
   "execution_count": null,
   "metadata": {},
   "outputs": [],
   "source": []
  },
  {
   "cell_type": "code",
   "execution_count": null,
   "metadata": {},
   "outputs": [],
   "source": []
  },
  {
   "cell_type": "code",
   "execution_count": null,
   "metadata": {},
   "outputs": [],
   "source": []
  }
 ],
 "metadata": {
  "kernelspec": {
   "display_name": "Python 3",
   "language": "python",
   "name": "python3"
  },
  "language_info": {
   "codemirror_mode": {
    "name": "ipython",
    "version": 3
   },
   "file_extension": ".py",
   "mimetype": "text/x-python",
   "name": "python",
   "nbconvert_exporter": "python",
   "pygments_lexer": "ipython3",
   "version": "3.9.6"
  },
  "orig_nbformat": 4
 },
 "nbformat": 4,
 "nbformat_minor": 2
}
