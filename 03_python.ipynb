{
 "cells": [
  {
   "cell_type": "code",
   "execution_count": null,
   "metadata": {},
   "outputs": [],
   "source": [
    "# PANDAS -> 데이터 정제"
   ]
  },
  {
   "cell_type": "code",
   "execution_count": null,
   "metadata": {},
   "outputs": [],
   "source": [
    "# NUMPY -> 수치데이터를 다루는 라이브러리 \n",
    "#           ; 다차원 행렬 자료구조인 ndarray를 이용해 벡터 및 행렬을 사용하는 선형대수 계산에서 주로 사용\n",
    "\n",
    "# numpy.zeros((a,b)) -> axb사이즈의 영행렬 생성\n",
    "# numpy.ones((a,b)) -> axb사이즈의 모든 원소가 1인 행렬 생성\n",
    "# numpy.eye(n) -> 단위행렬(행렬 a와 행렬곱을 했을 때 똑같이 행렬 a가 나오는 행렬) ; 대각선으로 1이 할당, 그 외 0 할당\n",
    "# numpy.random.random((a,b)) -> a에서 b사이의 랜덤값 반환\n",
    "# numpy.full() -> 행렬의 모든 값을 10으로 초기화\n",
    "# numpy.arange() -> default) 0부터 n-1까지의 원소값을 가지는 배열 생성\n",
    "# numpy.arange(i,j,k) -> i부터 j까지 k씩 증가하는 원소값을 가지는 배열 생성\n",
    "\n",
    "# + -> add()    - -> subtract()    * -> multiply()     / -> divide()\n",
    "\n",
    "# 행렬곱 -> @(;연산자) or dot()(함수)"
   ]
  },
  {
   "cell_type": "code",
   "execution_count": null,
   "metadata": {},
   "outputs": [],
   "source": [
    "# Matplotlib -> 데이터 시각화(차트, 플롯)(; 파이 차트, 바 차트, 라인 플롯, Scatter)\n",
    "\n",
    "# plot(x축리스트, y축리스트, 옵션...) -> matplotlib.pyplot 에 위치, 값들은 리스트로 입력, x는 자동으로 0,1,2,3...(default)로 지정됨\n",
    "# xx_chart = matplotlib.pyplot.plot()\n",
    "# xx_chart.show() 를 통해 차트를 실제로 그림\n",
    "\n",
    "# pyplot.xlabel() or ylabel() -> 그래프의 x,y축에 대한 레이블 표시(각 축에 대한 이름 지정)\n",
    "# pypot.~~() -> ㅌ,\n",
    "# pyplot.legend() -> 그래프 라인의 범례 추가,\n",
    "#                    매개변수로 loc=\"위치(upper center등과 같이 str 지정 or 코드 지정)\" 지정 시 지정 위치에 범례 나타남\n",
    "\n",
    "\n",
    "# pyplot.subplot(row,col,pos) -> 행의 수, 열의 수, 위치(어느 위치에 거칠지ㅒ)\n"
   ]
  },
  {
   "cell_type": "code",
   "execution_count": 1,
   "metadata": {},
   "outputs": [
    {
     "name": "stdout",
     "output_type": "stream",
     "text": [
      "Requirement already satisfied: pandas in c:\\users\\umjiwoo\\appdata\\local\\programs\\python\\python39\\lib\\site-packages (1.5.3)\n",
      "Requirement already satisfied: pytz>=2020.1 in c:\\users\\umjiwoo\\appdata\\roaming\\python\\python39\\site-packages (from pandas) (2022.7.1)\n",
      "Requirement already satisfied: python-dateutil>=2.8.1 in c:\\users\\umjiwoo\\appdata\\local\\programs\\python\\python39\\lib\\site-packages (from pandas) (2.8.2)\n",
      "Requirement already satisfied: numpy>=1.20.3 in c:\\users\\umjiwoo\\appdata\\local\\programs\\python\\python39\\lib\\site-packages (from pandas) (1.23.1)\n",
      "Requirement already satisfied: six>=1.5 in c:\\users\\umjiwoo\\appdata\\local\\programs\\python\\python39\\lib\\site-packages (from python-dateutil>=2.8.1->pandas) (1.16.0)\n"
     ]
    }
   ],
   "source": [
    "!pip install pandas\n"
   ]
  },
  {
   "cell_type": "code",
   "execution_count": 2,
   "metadata": {},
   "outputs": [],
   "source": [
    "import pandas as pd"
   ]
  },
  {
   "cell_type": "code",
   "execution_count": 3,
   "metadata": {},
   "outputs": [],
   "source": [
    "pd_list = pd.Series([5000, 6000, 6500,6500], index=[\"아메리카노\",\"카페라떼\",\"카페모카\",\"카푸치노\"])\n"
   ]
  },
  {
   "cell_type": "code",
   "execution_count": 4,
   "metadata": {},
   "outputs": [
    {
     "name": "stdout",
     "output_type": "stream",
     "text": [
      "아메리카노    5000\n",
      "카페라떼     6000\n",
      "카페모카     6500\n",
      "카푸치노     6500\n",
      "dtype: int64\n"
     ]
    }
   ],
   "source": [
    "print(pd_list)"
   ]
  },
  {
   "cell_type": "code",
   "execution_count": 5,
   "metadata": {},
   "outputs": [
    {
     "name": "stdout",
     "output_type": "stream",
     "text": [
      "시리즈 형태의 데이터에서 index 값:  Index(['아메리카노', '카페라떼', '카페모카', '카푸치노'], dtype='object')\n",
      "시리즈 형태의 데이터에서 value 값:  [5000 6000 6500 6500]\n"
     ]
    }
   ],
   "source": [
    "print(\"시리즈 형태의 데이터에서 index 값: \", pd_list.index)\n",
    "print(\"시리즈 형태의 데이터에서 value 값: \", pd_list.values)"
   ]
  },
  {
   "cell_type": "code",
   "execution_count": 7,
   "metadata": {},
   "outputs": [
    {
     "data": {
      "text/html": [
       "<div>\n",
       "<style scoped>\n",
       "    .dataframe tbody tr th:only-of-type {\n",
       "        vertical-align: middle;\n",
       "    }\n",
       "\n",
       "    .dataframe tbody tr th {\n",
       "        vertical-align: top;\n",
       "    }\n",
       "\n",
       "    .dataframe thead th {\n",
       "        text-align: right;\n",
       "    }\n",
       "</style>\n",
       "<table border=\"1\" class=\"dataframe\">\n",
       "  <thead>\n",
       "    <tr style=\"text-align: right;\">\n",
       "      <th></th>\n",
       "      <th>A</th>\n",
       "      <th>B</th>\n",
       "      <th>C</th>\n",
       "    </tr>\n",
       "  </thead>\n",
       "  <tbody>\n",
       "    <tr>\n",
       "      <th>a</th>\n",
       "      <td>1</td>\n",
       "      <td>2</td>\n",
       "      <td>3</td>\n",
       "    </tr>\n",
       "    <tr>\n",
       "      <th>b</th>\n",
       "      <td>4</td>\n",
       "      <td>5</td>\n",
       "      <td>6</td>\n",
       "    </tr>\n",
       "    <tr>\n",
       "      <th>c</th>\n",
       "      <td>7</td>\n",
       "      <td>8</td>\n",
       "      <td>9</td>\n",
       "    </tr>\n",
       "  </tbody>\n",
       "</table>\n",
       "</div>"
      ],
      "text/plain": [
       "   A  B  C\n",
       "a  1  2  3\n",
       "b  4  5  6\n",
       "c  7  8  9"
      ]
     },
     "execution_count": 7,
     "metadata": {},
     "output_type": "execute_result"
    }
   ],
   "source": [
    "# 2차원 데이터셋 DataFrame = 여러 Series를 합한 것 ; 분리도 가능\n",
    "# 데이터프레임 생성\n",
    "\n",
    "_value = [[1,2,3],[4,5,6],[7,8,9]]\n",
    "_index = ['a','b','c']\n",
    "_column = ['A','B','C']\n",
    "\n",
    "df = pd.DataFrame(data=_value, index=_index, columns=_column)\n",
    "df"
   ]
  },
  {
   "cell_type": "code",
   "execution_count": 11,
   "metadata": {},
   "outputs": [
    {
     "name": "stdout",
     "output_type": "stream",
     "text": [
      "데이터프레임의 index 값:  Index(['a', 'b', 'c'], dtype='object')\n",
      "데이터프레임의 column 값:  Index(['A', 'B', 'C'], dtype='object')\n",
      "데이터프레임의 value 값:\n",
      " [[1 2 3]\n",
      " [4 5 6]\n",
      " [7 8 9]]\n"
     ]
    }
   ],
   "source": [
    "print(\"데이터프레임의 index 값: \", df.index)\n",
    "print(\"데이터프레임의 column 값: \", df.columns)\n",
    "print(\"데이터프레임의 value 값:\\n\", df.values)"
   ]
  },
  {
   "cell_type": "code",
   "execution_count": 12,
   "metadata": {},
   "outputs": [
    {
     "name": "stdout",
     "output_type": "stream",
     "text": [
      "{'name': ['test', 'test2', 'test3'], 'age': [20, 30, 25], 'phone': ['01012345667', '01022223333', '01043215432']}\n"
     ]
    }
   ],
   "source": [
    "# 딕셔너리 형태의 데이터를 이용해 데이터프레임 생성\n",
    "\n",
    "_value = {\n",
    "    \"name\":[\"test\",\"test2\",\"test3\"],\n",
    "    \"age\":[20,30,25],\n",
    "    \"phone\":[\"01012345667\",\"01022223333\",\"01043215432\"]\n",
    "    }\n",
    "\n",
    "print(_value)"
   ]
  },
  {
   "cell_type": "code",
   "execution_count": 14,
   "metadata": {},
   "outputs": [
    {
     "data": {
      "text/html": [
       "<div>\n",
       "<style scoped>\n",
       "    .dataframe tbody tr th:only-of-type {\n",
       "        vertical-align: middle;\n",
       "    }\n",
       "\n",
       "    .dataframe tbody tr th {\n",
       "        vertical-align: top;\n",
       "    }\n",
       "\n",
       "    .dataframe thead th {\n",
       "        text-align: right;\n",
       "    }\n",
       "</style>\n",
       "<table border=\"1\" class=\"dataframe\">\n",
       "  <thead>\n",
       "    <tr style=\"text-align: right;\">\n",
       "      <th></th>\n",
       "      <th>name</th>\n",
       "      <th>age</th>\n",
       "      <th>phone</th>\n",
       "    </tr>\n",
       "  </thead>\n",
       "  <tbody>\n",
       "    <tr>\n",
       "      <th>0</th>\n",
       "      <td>test</td>\n",
       "      <td>20</td>\n",
       "      <td>01012345667</td>\n",
       "    </tr>\n",
       "    <tr>\n",
       "      <th>1</th>\n",
       "      <td>test2</td>\n",
       "      <td>30</td>\n",
       "      <td>01022223333</td>\n",
       "    </tr>\n",
       "    <tr>\n",
       "      <th>2</th>\n",
       "      <td>test3</td>\n",
       "      <td>25</td>\n",
       "      <td>01043215432</td>\n",
       "    </tr>\n",
       "  </tbody>\n",
       "</table>\n",
       "</div>"
      ],
      "text/plain": [
       "    name  age        phone\n",
       "0   test   20  01012345667\n",
       "1  test2   30  01022223333\n",
       "2  test3   25  01043215432"
      ]
     },
     "execution_count": 14,
     "metadata": {},
     "output_type": "execute_result"
    }
   ],
   "source": [
    "# 딕셔너리의 키가 컬럼명이 됨\n",
    "df2 = pd.DataFrame(_value)\n",
    "\n",
    "df2"
   ]
  },
  {
   "cell_type": "code",
   "execution_count": 23,
   "metadata": {},
   "outputs": [
    {
     "data": {
      "text/plain": [
       "0    20\n",
       "1    30\n",
       "2    25\n",
       "Name: age, dtype: int64"
      ]
     },
     "execution_count": 23,
     "metadata": {},
     "output_type": "execute_result"
    }
   ],
   "source": [
    "df2[\"age\"]"
   ]
  },
  {
   "cell_type": "code",
   "execution_count": 24,
   "metadata": {},
   "outputs": [
    {
     "data": {
      "text/plain": [
       "0    20\n",
       "1    30\n",
       "2    25\n",
       "Name: age, dtype: int64"
      ]
     },
     "execution_count": 24,
     "metadata": {},
     "output_type": "execute_result"
    }
   ],
   "source": [
    "df2.age"
   ]
  },
  {
   "cell_type": "code",
   "execution_count": null,
   "metadata": {},
   "outputs": [],
   "source": []
  },
  {
   "cell_type": "code",
   "execution_count": null,
   "metadata": {},
   "outputs": [],
   "source": [
    "## 경로\n",
    "#1.절대경로 ; 환경이 바뀌어도 항상 같은 장소를 가리킴 -> full path\n",
    "#2.상대경로 ; 환경에 따라 가리키는 장소가 달라짐 ->  ./ (현재위치)  ../(상위)   폴더명/(하위폴더)"
   ]
  },
  {
   "cell_type": "code",
   "execution_count": 25,
   "metadata": {},
   "outputs": [],
   "source": [
    "# .csv .tsv -> comma(tab) seperated value\n",
    "# .json -> [{\"a\":\"b\"},...]"
   ]
  },
  {
   "cell_type": "code",
   "execution_count": 28,
   "metadata": {},
   "outputs": [
    {
     "data": {
      "text/html": [
       "<div>\n",
       "<style scoped>\n",
       "    .dataframe tbody tr th:only-of-type {\n",
       "        vertical-align: middle;\n",
       "    }\n",
       "\n",
       "    .dataframe tbody tr th {\n",
       "        vertical-align: top;\n",
       "    }\n",
       "\n",
       "    .dataframe thead th {\n",
       "        text-align: right;\n",
       "    }\n",
       "</style>\n",
       "<table border=\"1\" class=\"dataframe\">\n",
       "  <thead>\n",
       "    <tr style=\"text-align: right;\">\n",
       "      <th></th>\n",
       "      <th>Unnamed: 0</th>\n",
       "      <th>createDt</th>\n",
       "      <th>deathCnt</th>\n",
       "      <th>decideCnt</th>\n",
       "      <th>seq</th>\n",
       "      <th>stateDt</th>\n",
       "      <th>stateTime</th>\n",
       "      <th>updateDt</th>\n",
       "      <th>accExamCnt</th>\n",
       "      <th>accDefRate</th>\n",
       "    </tr>\n",
       "  </thead>\n",
       "  <tbody>\n",
       "    <tr>\n",
       "      <th>0</th>\n",
       "      <td>0</td>\n",
       "      <td>2022-06-08 09:09:05.982</td>\n",
       "      <td>24305</td>\n",
       "      <td>18188200</td>\n",
       "      <td>904</td>\n",
       "      <td>20220608</td>\n",
       "      <td>00:00</td>\n",
       "      <td>NaN</td>\n",
       "      <td>NaN</td>\n",
       "      <td>NaN</td>\n",
       "    </tr>\n",
       "    <tr>\n",
       "      <th>1</th>\n",
       "      <td>1</td>\n",
       "      <td>2022-06-07 09:09:00.897</td>\n",
       "      <td>24299</td>\n",
       "      <td>18174842</td>\n",
       "      <td>903</td>\n",
       "      <td>20220607</td>\n",
       "      <td>00:00</td>\n",
       "      <td>2022-06-08 09:10:36.846</td>\n",
       "      <td>NaN</td>\n",
       "      <td>NaN</td>\n",
       "    </tr>\n",
       "    <tr>\n",
       "      <th>2</th>\n",
       "      <td>2</td>\n",
       "      <td>2022-06-06 09:00:06.734</td>\n",
       "      <td>24279</td>\n",
       "      <td>18168670</td>\n",
       "      <td>902</td>\n",
       "      <td>20220606</td>\n",
       "      <td>00:00</td>\n",
       "      <td>2022-06-08 09:10:50.441</td>\n",
       "      <td>NaN</td>\n",
       "      <td>NaN</td>\n",
       "    </tr>\n",
       "    <tr>\n",
       "      <th>3</th>\n",
       "      <td>3</td>\n",
       "      <td>2022-06-05 08:53:19.426</td>\n",
       "      <td>24258</td>\n",
       "      <td>18163648</td>\n",
       "      <td>901</td>\n",
       "      <td>20220605</td>\n",
       "      <td>00:00</td>\n",
       "      <td>2022-06-08 09:11:04.758</td>\n",
       "      <td>NaN</td>\n",
       "      <td>NaN</td>\n",
       "    </tr>\n",
       "    <tr>\n",
       "      <th>4</th>\n",
       "      <td>4</td>\n",
       "      <td>2022-06-04 08:56:49.219</td>\n",
       "      <td>24238</td>\n",
       "      <td>18153814</td>\n",
       "      <td>900</td>\n",
       "      <td>20220604</td>\n",
       "      <td>00:00</td>\n",
       "      <td>2022-06-08 09:11:26.303</td>\n",
       "      <td>NaN</td>\n",
       "      <td>NaN</td>\n",
       "    </tr>\n",
       "    <tr>\n",
       "      <th>...</th>\n",
       "      <td>...</td>\n",
       "      <td>...</td>\n",
       "      <td>...</td>\n",
       "      <td>...</td>\n",
       "      <td>...</td>\n",
       "      <td>...</td>\n",
       "      <td>...</td>\n",
       "      <td>...</td>\n",
       "      <td>...</td>\n",
       "      <td>...</td>\n",
       "    </tr>\n",
       "    <tr>\n",
       "      <th>815</th>\n",
       "      <td>815</td>\n",
       "      <td>2020-03-14 00:00:00.000</td>\n",
       "      <td>72</td>\n",
       "      <td>8086</td>\n",
       "      <td>55</td>\n",
       "      <td>20200314</td>\n",
       "      <td>00:00</td>\n",
       "      <td>2021-10-07 10:30:51.51</td>\n",
       "      <td>261335.0</td>\n",
       "      <td>3.318000</td>\n",
       "    </tr>\n",
       "    <tr>\n",
       "      <th>816</th>\n",
       "      <td>816</td>\n",
       "      <td>2020-03-13 00:00:00.000</td>\n",
       "      <td>67</td>\n",
       "      <td>7979</td>\n",
       "      <td>54</td>\n",
       "      <td>20200313</td>\n",
       "      <td>00:00</td>\n",
       "      <td>2021-10-07 10:30:51.51</td>\n",
       "      <td>248647.0</td>\n",
       "      <td>3.458499</td>\n",
       "    </tr>\n",
       "    <tr>\n",
       "      <th>817</th>\n",
       "      <td>817</td>\n",
       "      <td>2020-03-12 00:00:00.000</td>\n",
       "      <td>66</td>\n",
       "      <td>7869</td>\n",
       "      <td>53</td>\n",
       "      <td>20200312</td>\n",
       "      <td>00:00</td>\n",
       "      <td>2021-10-07 10:30:51.51</td>\n",
       "      <td>234998.0</td>\n",
       "      <td>3.621744</td>\n",
       "    </tr>\n",
       "    <tr>\n",
       "      <th>818</th>\n",
       "      <td>818</td>\n",
       "      <td>2020-03-11 00:00:00.000</td>\n",
       "      <td>60</td>\n",
       "      <td>7755</td>\n",
       "      <td>52</td>\n",
       "      <td>20200311</td>\n",
       "      <td>00:00</td>\n",
       "      <td>2021-10-07 10:30:51.51</td>\n",
       "      <td>222395.0</td>\n",
       "      <td>3.804175</td>\n",
       "    </tr>\n",
       "    <tr>\n",
       "      <th>819</th>\n",
       "      <td>819</td>\n",
       "      <td>2020-03-10 00:00:00.000</td>\n",
       "      <td>54</td>\n",
       "      <td>7513</td>\n",
       "      <td>51</td>\n",
       "      <td>20200310</td>\n",
       "      <td>00:00</td>\n",
       "      <td>2021-10-07 10:30:51.51</td>\n",
       "      <td>210144.0</td>\n",
       "      <td>3.919308</td>\n",
       "    </tr>\n",
       "  </tbody>\n",
       "</table>\n",
       "<p>820 rows × 10 columns</p>\n",
       "</div>"
      ],
      "text/plain": [
       "     Unnamed: 0                 createDt  deathCnt  decideCnt  seq   stateDt  \\\n",
       "0             0  2022-06-08 09:09:05.982     24305   18188200  904  20220608   \n",
       "1             1  2022-06-07 09:09:00.897     24299   18174842  903  20220607   \n",
       "2             2  2022-06-06 09:00:06.734     24279   18168670  902  20220606   \n",
       "3             3  2022-06-05 08:53:19.426     24258   18163648  901  20220605   \n",
       "4             4  2022-06-04 08:56:49.219     24238   18153814  900  20220604   \n",
       "..          ...                      ...       ...        ...  ...       ...   \n",
       "815         815  2020-03-14 00:00:00.000        72       8086   55  20200314   \n",
       "816         816  2020-03-13 00:00:00.000        67       7979   54  20200313   \n",
       "817         817  2020-03-12 00:00:00.000        66       7869   53  20200312   \n",
       "818         818  2020-03-11 00:00:00.000        60       7755   52  20200311   \n",
       "819         819  2020-03-10 00:00:00.000        54       7513   51  20200310   \n",
       "\n",
       "    stateTime                 updateDt  accExamCnt  accDefRate  \n",
       "0       00:00                      NaN         NaN         NaN  \n",
       "1       00:00  2022-06-08 09:10:36.846         NaN         NaN  \n",
       "2       00:00  2022-06-08 09:10:50.441         NaN         NaN  \n",
       "3       00:00  2022-06-08 09:11:04.758         NaN         NaN  \n",
       "4       00:00  2022-06-08 09:11:26.303         NaN         NaN  \n",
       "..        ...                      ...         ...         ...  \n",
       "815     00:00   2021-10-07 10:30:51.51    261335.0    3.318000  \n",
       "816     00:00   2021-10-07 10:30:51.51    248647.0    3.458499  \n",
       "817     00:00   2021-10-07 10:30:51.51    234998.0    3.621744  \n",
       "818     00:00   2021-10-07 10:30:51.51    222395.0    3.804175  \n",
       "819     00:00   2021-10-07 10:30:51.51    210144.0    3.919308  \n",
       "\n",
       "[820 rows x 10 columns]"
      ]
     },
     "execution_count": 28,
     "metadata": {},
     "output_type": "execute_result"
    }
   ],
   "source": [
    "# 코로나 데이터 로드\n",
    "# 현재파일>csv>corona.csv\n",
    "\n",
    "data=pd.read_csv(\"./csv/corona.csv\")\n",
    "# data=pd.read_csv(\"C:/Users/umjiwoo/OneDrive/문서/금융빅데이터 과정/ubion/csv/corona.csv\")\n",
    "data"
   ]
  },
  {
   "cell_type": "code",
   "execution_count": null,
   "metadata": {},
   "outputs": [],
   "source": [
    "data2=pd.read_csv(\"./csv/num_1/chipotle.tsv\")\n"
   ]
  }
 ],
 "metadata": {
  "kernelspec": {
   "display_name": "Python 3",
   "language": "python",
   "name": "python3"
  },
  "language_info": {
   "codemirror_mode": {
    "name": "ipython",
    "version": 3
   },
   "file_extension": ".py",
   "mimetype": "text/x-python",
   "name": "python",
   "nbconvert_exporter": "python",
   "pygments_lexer": "ipython3",
   "version": "3.9.6"
  },
  "orig_nbformat": 4
 },
 "nbformat": 4,
 "nbformat_minor": 2
}
