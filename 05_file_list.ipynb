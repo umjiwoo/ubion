{
 "cells": [
  {
   "cell_type": "markdown",
   "metadata": {},
   "source": [
    "#### 특정한 경로에 있는 파일 목록 출력"
   ]
  },
  {
   "cell_type": "code",
   "execution_count": null,
   "metadata": {},
   "outputs": [],
   "source": [
    "import os"
   ]
  },
  {
   "cell_type": "code",
   "execution_count": null,
   "metadata": {},
   "outputs": [],
   "source": [
    "# 지정 디렉토리 경로 하위 파일들의 이름을 가져와 리스트로 반환\n",
    "file_list = os.listdir(\"./csv/2017/\")\n",
    "file_list"
   ]
  },
  {
   "cell_type": "code",
   "execution_count": null,
   "metadata": {},
   "outputs": [],
   "source": [
    "import pandas as pd"
   ]
  },
  {
   "cell_type": "code",
   "execution_count": null,
   "metadata": {},
   "outputs": [],
   "source": [
    "# read_csv(상대경로)\n",
    "# ./csv/2017/파일명\n",
    "\n",
    "for i in range(1,13,1):\n",
    "    a = \"%02d\"%i\n",
    "    file = './csv/2017'+a+'_expense_list.csv'\n",
    "    print(file)"
   ]
  },
  {
   "cell_type": "code",
   "execution_count": null,
   "metadata": {},
   "outputs": [],
   "source": [
    "for i in file_list:\n",
    "    print(\"./csv/2017/\"+i)"
   ]
  },
  {
   "cell_type": "code",
   "execution_count": null,
   "metadata": {},
   "outputs": [],
   "source": [
    "path=\"./csv/2017/\"\n",
    "\n",
    "for i in file_list:\n",
    "    print(path+i)"
   ]
  },
  {
   "cell_type": "code",
   "execution_count": null,
   "metadata": {},
   "outputs": [],
   "source": [
    "# 경로에 있는 파일들을 pandas이용해 데이터프레임으로 불러와 concat() 이용해 결합(행 추가)\n",
    "# 결합을 위해 기준이 되는 데이터프레임 생성\n",
    "file_list = os.listdir(\"./csv/2017/\")\n",
    "path=\"./csv/2017/\"\n",
    "result_csv = pd.DataFrame()\n",
    "\n",
    "for i in file_list:\n",
    "    df = pd.read_csv(path+i)\n",
    "    result_csv = pd.concat([result_csv,df],axis=\"rows\",ignore_index=True)\n",
    "\n",
    "result_csv.info()\n"
   ]
  },
  {
   "cell_type": "code",
   "execution_count": null,
   "metadata": {},
   "outputs": [],
   "source": [
    "file_list = os.listdir(\"./csv/2019/\")\n",
    "path = \"./csv/2019/\"\n",
    "result_json = pd.DataFrame()\n",
    "\n",
    "for i in file_list:\n",
    "    df = pd.read_json(path+i)\n",
    "    result_json = pd.concat([result_json,df],axis=\"rows\",ignore_index=True)\n",
    "\n",
    "\n",
    "result_json.info()\n"
   ]
  },
  {
   "cell_type": "code",
   "execution_count": null,
   "metadata": {},
   "outputs": [],
   "source": [
    "file_list = os.listdir(\"./csv/2020/\")\n",
    "path = \"./csv/2020/\"\n",
    "result_xl = pd.DataFrame()\n",
    "\n",
    "for i in file_list:\n",
    "    df = pd.read_excel(path+i)\n",
    "    result_xl = pd.concat([result_xl,df],axis=\"rows\",ignore_index=True)\n",
    "\n",
    "result_xl.info()"
   ]
  },
  {
   "cell_type": "code",
   "execution_count": null,
   "metadata": {},
   "outputs": [],
   "source": []
  },
  {
   "cell_type": "code",
   "execution_count": null,
   "metadata": {},
   "outputs": [],
   "source": [
    "file_list = os.listdir(\"./csv/2021/\")\n",
    "path = \"./csv/2021/\"\n",
    "\n",
    "# splitext()함수 사용 -> 파일명 전체 다 받아올 때 사용하기 좋음\n",
    "for i in file_list:\n",
    "    ext = os.path.splitext(path+i)[1]\n",
    "    if ext==\".csv\":\n",
    "        print(i)\n",
    "        print(ext)"
   ]
  },
  {
   "cell_type": "code",
   "execution_count": null,
   "metadata": {},
   "outputs": [],
   "source": [
    "file_list = os.listdir(\"./csv/2021/\")\n",
    "path = \"./csv/2021/\"\n",
    "\n",
    "a=\".csv\"\n",
    "\n",
    "# endswith()함수 -> 매개변수로 확장자명 받아올 때 사용하기 좋음\n",
    "for i in file_list:\n",
    "    if i.endswith(a):\n",
    "        print(i)"
   ]
  },
  {
   "cell_type": "code",
   "execution_count": null,
   "metadata": {},
   "outputs": [],
   "source": [
    "import os\n",
    "import pandas as pd\n",
    "\n",
    "# 함수의 형태로 폴더에 있는 파일들을 결합하는 함수 생성\n",
    "def list_load(_dir, _ext):\n",
    "        #_dir : 파일 경로\n",
    "        #_ext : 파일 확장자\n",
    "\n",
    "        if not (_dir.endswith(\"/\")):\n",
    "            _dir += \"/\"\n",
    "\n",
    "        if _ext[0]!=\".\":\n",
    "            _ext = \".\" + _ext\n",
    "\n",
    "        # print(_dir,_ext)\n",
    "        \n",
    "        #1.파일 리스트 호출\n",
    "        file_list = os.listdir(_dir)\n",
    "\n",
    "        #2.비어있는 데이터프레임 생성\n",
    "        result = pd.DataFrame()\n",
    "\n",
    "        #3.파일 리스트에서 확장자가 같은 파일들만 결합\n",
    "        for i in file_list:\n",
    "            if i.endswith(_ext):\n",
    "                if _ext == \".csv\":\n",
    "                    df = pd.read_csv(_dir+i)\n",
    "                    result = pd.concat([result,df],axis=\"rows\",ignore_index=True)\n",
    "\n",
    "                elif _ext == \".json\":\n",
    "                    df = pd.read_json(_dir+i)\n",
    "                    result = pd.concat([result,df],axis=\"rows\",ignore_index=True)\n",
    "\n",
    "                # elif _ext == \".xlsx\" or _ext == \".xls\":\n",
    "                #     df = pd.read_excel(_dir+i)\n",
    "                #     result = pd.concat([result,df],axis=\"rows\",ignore_index=True)\n",
    "                \n",
    "                elif _ext in [\".xlsx\",\".xls\"]:\n",
    "                    df = pd.read_excel(_dir+i)\n",
    "                    result = pd.concat([result,df],axis=\"rows\",ignore_index=True)\n",
    "\n",
    "                else:\n",
    "                    print(\"지원하지 않는 확장자 입니다.\")\n",
    "\n",
    "\n",
    "        return result\n"
   ]
  },
  {
   "cell_type": "code",
   "execution_count": null,
   "metadata": {},
   "outputs": [],
   "source": [
    "list_load(\"./csv/2018/\",\".csv\")"
   ]
  },
  {
   "cell_type": "code",
   "execution_count": null,
   "metadata": {},
   "outputs": [],
   "source": [
    "import list_load as ll\n",
    "\n",
    "ll.load(\"./csv/2022/\",\".json\")"
   ]
  },
  {
   "cell_type": "code",
   "execution_count": null,
   "metadata": {},
   "outputs": [],
   "source": []
  }
 ],
 "metadata": {
  "kernelspec": {
   "display_name": "Python 3",
   "language": "python",
   "name": "python3"
  },
  "language_info": {
   "codemirror_mode": {
    "name": "ipython",
    "version": 3
   },
   "file_extension": ".py",
   "mimetype": "text/x-python",
   "name": "python",
   "nbconvert_exporter": "python",
   "pygments_lexer": "ipython3",
   "version": "3.9.6"
  },
  "orig_nbformat": 4
 },
 "nbformat": 4,
 "nbformat_minor": 2
}
