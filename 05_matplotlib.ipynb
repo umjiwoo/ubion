{
 "cells": [
  {
   "cell_type": "code",
   "execution_count": null,
   "metadata": {},
   "outputs": [],
   "source": [
    "import matplotlib.pyplot as plt\n",
    "import numpy as np"
   ]
  },
  {
   "cell_type": "code",
   "execution_count": null,
   "metadata": {},
   "outputs": [],
   "source": [
    "# 선 그래프\n",
    "x=[1,2,3,4]\n",
    "y=[5,3,2,1]\n",
    "\n",
    "plt.plot(x,y)\n",
    "plt.show()"
   ]
  },
  {
   "cell_type": "code",
   "execution_count": null,
   "metadata": {},
   "outputs": [],
   "source": [
    "plt.bar(x,y)\n",
    "plt.show()"
   ]
  },
  {
   "cell_type": "code",
   "execution_count": null,
   "metadata": {},
   "outputs": [],
   "source": [
    "plt.barh(x,y)\n",
    "plt.show()"
   ]
  },
  {
   "cell_type": "code",
   "execution_count": null,
   "metadata": {},
   "outputs": [],
   "source": [
    "x = np.random.rand(50)\n",
    "y = np.random.rand(50)"
   ]
  },
  {
   "cell_type": "code",
   "execution_count": null,
   "metadata": {},
   "outputs": [],
   "source": [
    "color = np.random.rand(50)\n",
    "area = (20*np.random.rand(50))**2  #random.rand(50)->0~1사이의 값을 50개 반환"
   ]
  },
  {
   "cell_type": "code",
   "execution_count": null,
   "metadata": {},
   "outputs": [],
   "source": [
    "plt.scatter(x,y)\n",
    "plt.show()"
   ]
  },
  {
   "cell_type": "code",
   "execution_count": null,
   "metadata": {},
   "outputs": [],
   "source": [
    "# s=scale,c=color,alpha=transparency(투명도)\n",
    "plt.scatter(x,y,s=area,c=color,alpha=0.6)\n",
    "plt.show()"
   ]
  },
  {
   "cell_type": "code",
   "execution_count": null,
   "metadata": {},
   "outputs": [],
   "source": [
    "!pip install seaborn"
   ]
  },
  {
   "cell_type": "code",
   "execution_count": null,
   "metadata": {},
   "outputs": [],
   "source": [
    "import seaborn as sns"
   ]
  },
  {
   "cell_type": "code",
   "execution_count": null,
   "metadata": {},
   "outputs": [],
   "source": [
    "import pandas as pd"
   ]
  },
  {
   "cell_type": "code",
   "execution_count": null,
   "metadata": {},
   "outputs": [],
   "source": [
    "# drinks.csv 파일 로드\n",
    "drinks = pd.read_csv(\"./csv/drinks.csv\")\n",
    "drinks.head()"
   ]
  },
  {
   "cell_type": "code",
   "execution_count": null,
   "metadata": {},
   "outputs": [],
   "source": [
    "corr = drinks[\n",
    "    ['beer_servings','spirit_servings','wine_servings','total_litres_of_pure_alcohol']\n",
    "].corr(method='pearson')\n",
    "corr"
   ]
  },
  {
   "cell_type": "code",
   "execution_count": null,
   "metadata": {},
   "outputs": [],
   "source": [
    "# 히트맵 출력\n",
    "cols_views = ['beer','spirit','wine','alcohol']\n",
    "sns.set(font_scale=1.5)\n",
    "hm = sns.heatmap(corr.values,\n",
    "                cbar=True, # color_bar ; 상관계수 값에 따른 색상값 바 형태로 보여줌\n",
    "                annot=True, # 각각의 상관계수 값을 칸마다 출력\n",
    "                square=True, # 히트맵을 정사각형으로 출력\n",
    "                fmt='.2f', # 상관계수 값을 소수점 몇자리까지 출력할 것인지 지정\n",
    "                annot_kws={'size':20}, # 상관계수 값 폰트 크기\n",
    "                xticklabels=cols_views,\n",
    "                yticklabels=cols_views)\n",
    "\n",
    "plt.tight_layout()\n",
    "plt.show()"
   ]
  },
  {
   "cell_type": "code",
   "execution_count": null,
   "metadata": {},
   "outputs": [],
   "source": [
    "sns.set(style='darkgrid', context='notebook')\n",
    "\n",
    "\n",
    "sns.pairplot(\n",
    "    drinks[\n",
    "        [\n",
    "        'beer_servings',\n",
    "        'spirit_servings',\n",
    "        'wine_servings',\n",
    "        'total_litres_of_pure_alcohol'\n",
    "        ]\n",
    "    ],height=2.5\n",
    ")\n",
    "\n",
    "plt.show()"
   ]
  },
  {
   "cell_type": "code",
   "execution_count": null,
   "metadata": {},
   "outputs": [],
   "source": []
  }
 ],
 "metadata": {
  "kernelspec": {
   "display_name": "Python 3",
   "language": "python",
   "name": "python3"
  },
  "language_info": {
   "codemirror_mode": {
    "name": "ipython",
    "version": 3
   },
   "file_extension": ".py",
   "mimetype": "text/x-python",
   "name": "python",
   "nbconvert_exporter": "python",
   "pygments_lexer": "ipython3",
   "version": "3.9.6"
  },
  "orig_nbformat": 4
 },
 "nbformat": 4,
 "nbformat_minor": 2
}
