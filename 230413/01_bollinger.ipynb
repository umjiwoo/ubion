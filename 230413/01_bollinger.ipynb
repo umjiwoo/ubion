{
 "cells": [
  {
   "attachments": {},
   "cell_type": "markdown",
   "metadata": {},
   "source": [
    "### 볼린저밴드 함수화(3단계로 분리)\n",
    "1. 첫번째 함수 생성(매개변수;데이터프레임 하나)\n",
    "    - 결측치, 이상치 제거\n",
    "    - 컬럼 종가만 두고 삭제\n",
    "    - 이동 평균선, 상단밴드, 하단밴드 파생변수 생성\n",
    "2. 두번째 함수 생성(매개변수;데이터프레임 하나)\n",
    "    - 거래내역 파생변수 생성(값은 \"\")\n",
    "    - 볼린저밴드 거래내역 추가\n",
    "    - 거래내역 출력\n",
    "3. 세번째 함수 생성(매개변수;데이터프레임 하나)\n",
    "    - 수익률 계산해 수익률 파생변수 생성(기본 값은 \"1\")\n",
    "    - 판매한 날의 수익률 변경\n",
    "    - 누적 수익률 계산해 새로운 파생변수 생성\n",
    "    - 최종 누적 수익률 출력"
   ]
  },
  {
   "cell_type": "code",
   "execution_count": null,
   "metadata": {},
   "outputs": [],
   "source": [
    "import pandas as pd\n",
    "import numpy as np"
   ]
  },
  {
   "cell_type": "code",
   "execution_count": null,
   "metadata": {},
   "outputs": [],
   "source": [
    "df = pd.read_csv(\"../csv/GM.csv\", index_col=\"Date\")"
   ]
  },
  {
   "cell_type": "code",
   "execution_count": null,
   "metadata": {},
   "outputs": [],
   "source": [
    "def bollinger_1(df):\n",
    "    # df = df.loc[~df.isin((np.nan, np.inf, -np.inf)).any(axis=\"columns\")]\n",
    "    # price_df = df[[\"Adj Close\"]]\n",
    "\n",
    "    price_df = df.loc[(~df.isin((np.nan, np.inf, -np.inf)).any(axis=\"columns\")),[\"Adj Close\"]]\n",
    "\n",
    "\n",
    "    price_df[\"center\"] = price_df[\"Adj Close\"].rolling(20).mean()\n",
    "    price_df[\"ub\"] = price_df[\"center\"] + (2 * price_df[\"Adj Close\"].rolling(20).std())\n",
    "    price_df[\"lb\"] = price_df[\"center\"] - (2 * price_df[\"Adj Close\"].rolling(20).std())\n",
    "\n",
    "    return price_df"
   ]
  },
  {
   "cell_type": "code",
   "execution_count": null,
   "metadata": {},
   "outputs": [],
   "source": [
    "df = bollinger_1(df)"
   ]
  },
  {
   "cell_type": "code",
   "execution_count": null,
   "metadata": {},
   "outputs": [],
   "source": [
    "def create_band(df, column_name):\n",
    "    price_df = df.loc[(~df.isin((np.nan, np.inf, -np.inf)).any(axis=\"columns\")),[column_name]]\n",
    "\n",
    "    price_df[\"center\"] = price_df[column_name].rolling(20).mean()\n",
    "    price_df[\"ub\"] = price_df[\"center\"] + (2 * price_df[column_name].rolling(20).std())\n",
    "    price_df[\"lb\"] = price_df[\"center\"] - (2 * price_df[column_name].rolling(20).std())\n",
    "\n",
    "    return price_df"
   ]
  },
  {
   "cell_type": "code",
   "execution_count": null,
   "metadata": {},
   "outputs": [],
   "source": [
    "df2 = create_band(df2,\"Adj Close\")"
   ]
  },
  {
   "cell_type": "code",
   "execution_count": null,
   "metadata": {},
   "outputs": [],
   "source": [
    "def bollinger_2(df):\n",
    "    df[\"trade\"]=\"\"\n",
    "\n",
    "    for i in df.index:\n",
    "        if df.loc[i,\"Adj Close\"] > df.loc[i,\"ub\"]:\n",
    "            if df.shift(1).loc[i,\"trade\"] == \"buy\":\n",
    "                df.loc[i,\"trade\"] = \"\"\n",
    "            else:\n",
    "                df.loc[i,\"trade\"] = \"\"\n",
    "        \n",
    "        elif df.loc[i,\"Adj Close\"] < df.loc[i,\"lb\"]:\n",
    "            if df.shift(1).loc[i,\"trade\"] == \"buy\":\n",
    "                df.loc[i,\"trade\"] = \"buy\"\n",
    "            else:\n",
    "                df.loc[i,\"trade\"] = \"buy\"\n",
    "\n",
    "        else:\n",
    "            if df.shift(1).loc[i,\"trade\"] == \"buy\":\n",
    "                df.loc[i,\"trade\"] = \"buy\"\n",
    "            else:\n",
    "                df.loc[i,\"trade\"] = \"\"\n",
    "\n",
    "    print(\"거래내역\\n\",df[\"trade\"])\n",
    "\n",
    "    return df"
   ]
  },
  {
   "cell_type": "code",
   "execution_count": null,
   "metadata": {},
   "outputs": [],
   "source": [
    "df = bollinger_2(df)\n",
    "df"
   ]
  },
  {
   "cell_type": "code",
   "execution_count": null,
   "metadata": {},
   "outputs": [],
   "source": [
    "df[\"trade\"].value_counts()"
   ]
  },
  {
   "cell_type": "code",
   "execution_count": null,
   "metadata": {},
   "outputs": [],
   "source": [
    "def add_trade(df):\n",
    "    df[\"trade\"]=\"\"\n",
    "\n",
    "    column_name = df.columns[0]\n",
    "\n",
    "    for i in df.index:\n",
    "        if df.loc[i,column_name] > df.loc[i,\"ub\"]:\n",
    "            if df.shift(1).loc[i,\"trade\"] == \"buy\":\n",
    "                df.loc[i,\"trade\"] = \"\"\n",
    "            else:\n",
    "                df.loc[i,\"trade\"] = \"\"\n",
    "        \n",
    "        elif df.loc[i,column_name] < df.loc[i,\"lb\"]:\n",
    "            if df.shift(1).loc[i,\"trade\"] == \"buy\":\n",
    "                df.loc[i,\"trade\"] = \"buy\"\n",
    "            else:\n",
    "                df.loc[i,\"trade\"] = \"buy\"\n",
    "\n",
    "        else:\n",
    "            if df.shift(1).loc[i,\"trade\"] == \"buy\":\n",
    "                df.loc[i,\"trade\"] = \"buy\"\n",
    "            else:\n",
    "                df.loc[i,\"trade\"] = \"\"\n",
    "\n",
    "    print(\"거래내역\\n\",df[\"trade\"])\n",
    "\n",
    "    return df"
   ]
  },
  {
   "cell_type": "code",
   "execution_count": null,
   "metadata": {},
   "outputs": [],
   "source": [
    "df2 = add_trade(df2)\n",
    "df2"
   ]
  },
  {
   "cell_type": "code",
   "execution_count": null,
   "metadata": {},
   "outputs": [],
   "source": [
    "df2[\"trade\"].value_counts()"
   ]
  },
  {
   "cell_type": "code",
   "execution_count": null,
   "metadata": {},
   "outputs": [],
   "source": [
    "def bollinger_3(df):\n",
    "    rtn = 1.0\n",
    "    acc_rtn = 1.0\n",
    "    df['return'] = 1\n",
    "    buy = 0.0\n",
    "    sell = 0.0\n",
    "\n",
    "    for i in df.index:\n",
    "        if (df.shift(1).loc[i, 'trade'] == '') and \\\n",
    "            (df.loc[i, 'trade'] == 'buy'):\n",
    "            buy = df.loc[i, 'Adj Close']\n",
    "            print('진입일 :', i, '구매 가격 :', buy)\n",
    "        elif (df.shift(1).loc[i, 'trade'] == 'buy') and \\\n",
    "            (df.loc[i, 'trade'] == ''):\n",
    "            sell = df.loc[i, 'Adj Close']\n",
    "            rtn = (sell - buy) / buy + 1\n",
    "            df.loc[i, 'return'] = rtn\n",
    "            print('판매일 :', i, '판매 가격 :', sell, '수익율 :', rtn)\n",
    "\n",
    "        if df.loc[i, 'trade'] == '':\n",
    "            buy = 0.0\n",
    "            sell = 0.0\n",
    "\n",
    "    for i in df.index:\n",
    "        _rtn = df.loc[i,\"return\"]\n",
    "        acc_rtn *= _rtn\n",
    "        df.loc[i,\"acc_rtn\"] = acc_rtn\n",
    "\n",
    "    print(\"누적 수익률 : \", acc_rtn)\n",
    "\n",
    "    return"
   ]
  },
  {
   "cell_type": "code",
   "execution_count": null,
   "metadata": {},
   "outputs": [],
   "source": [
    "result = bollinger_3(df)"
   ]
  },
  {
   "cell_type": "code",
   "execution_count": null,
   "metadata": {},
   "outputs": [],
   "source": [
    "def cal_rtn(df):\n",
    "    rtn = 1.0\n",
    "    acc_rtn = 1.0\n",
    "    df['return'] = 1\n",
    "    buy = 0.0\n",
    "    sell = 0.0\n",
    "\n",
    "    column_name = df.columns[0]\n",
    "\n",
    "    for i in df.index:\n",
    "        if (df.shift(1).loc[i, 'trade'] == '') and (df.loc[i, 'trade'] == 'buy'):\n",
    "            buy = df.loc[i, column_name]\n",
    "            print('진입일 :', i, '구매 가격 :', buy)\n",
    "        elif (df.shift(1).loc[i, 'trade'] == 'buy') and (df.loc[i, 'trade'] == ''):\n",
    "            sell = df.loc[i, 'Adj Close']\n",
    "            rtn = (sell - buy) / buy + 1\n",
    "            df.loc[i, 'return'] = rtn\n",
    "            print('판매일 :', i, '판매 가격 :', sell, '수익율 :', rtn)\n",
    "\n",
    "        if df.loc[i, 'trade'] == '':\n",
    "            buy = 0.0\n",
    "            sell = 0.0\n",
    "\n",
    "    for i in df.index:\n",
    "        _rtn = df.loc[i,\"return\"]\n",
    "        acc_rtn *= _rtn\n",
    "        df.loc[i,\"acc_rtn\"] = acc_rtn\n",
    "\n",
    "    print(\"누적 수익률 : \", acc_rtn)\n",
    "\n",
    "    return df"
   ]
  },
  {
   "cell_type": "code",
   "execution_count": null,
   "metadata": {},
   "outputs": [],
   "source": [
    "res = cal_rtn(df2)"
   ]
  },
  {
   "cell_type": "code",
   "execution_count": null,
   "metadata": {},
   "outputs": [],
   "source": []
  },
  {
   "cell_type": "code",
   "execution_count": 139,
   "metadata": {},
   "outputs": [
    {
     "data": {
      "text/plain": [
       "<module 'bollinger' from 'c:\\\\Users\\\\umjiwoo\\\\OneDrive\\\\문서\\\\금융빅데이터 과정\\\\ubion\\\\230413\\\\bollinger.py'>"
      ]
     },
     "execution_count": 139,
     "metadata": {},
     "output_type": "execute_result"
    }
   ],
   "source": [
    "import bollinger as bg\n",
    "import imp\n",
    "\n",
    "imp.reload(bg)"
   ]
  },
  {
   "cell_type": "code",
   "execution_count": 140,
   "metadata": {},
   "outputs": [],
   "source": [
    "df = pd.read_csv(\"../csv/MSFT.csv\", index_col=\"Date\")"
   ]
  },
  {
   "cell_type": "code",
   "execution_count": 141,
   "metadata": {},
   "outputs": [],
   "source": [
    "df = bg.create_band(df,\"Adj Close\",\"20100101\",\"20190101\")"
   ]
  },
  {
   "cell_type": "code",
   "execution_count": 142,
   "metadata": {},
   "outputs": [
    {
     "name": "stdout",
     "output_type": "stream",
     "text": [
      "거래내역\n",
      " Date\n",
      "2010-01-04       \n",
      "2010-01-05       \n",
      "2010-01-06       \n",
      "2010-01-07       \n",
      "2010-01-08       \n",
      "             ... \n",
      "2018-12-24    buy\n",
      "2018-12-26    buy\n",
      "2018-12-27    buy\n",
      "2018-12-28    buy\n",
      "2018-12-31    buy\n",
      "Name: trade, Length: 2264, dtype: object\n"
     ]
    }
   ],
   "source": [
    "df = bg.add_trade(df)"
   ]
  },
  {
   "cell_type": "code",
   "execution_count": 143,
   "metadata": {},
   "outputs": [
    {
     "name": "stdout",
     "output_type": "stream",
     "text": [
      "진입일 : 2010-05-06 00:00:00 구매 가격 : 23.07136\n",
      "판매일 : 2010-09-13 00:00:00 판매 가격 : 20.187721 수익율 : 0.875012179602763\n",
      "진입일 : 2010-11-23 00:00:00 구매 가격 : 20.319853\n",
      "판매일 : 2011-01-06 00:00:00 판매 가격 : 23.312819 수익율 : 1.1472926994107686\n",
      "진입일 : 2011-03-16 00:00:00 구매 가격 : 20.171436\n",
      "판매일 : 2011-04-06 00:00:00 판매 가격 : 21.278055 수익율 : 1.0548606950937949\n",
      "진입일 : 2011-05-16 00:00:00 구매 가격 : 19.992422\n",
      "판매일 : 2011-06-27 00:00:00 판매 가격 : 20.639456 수익율 : 1.032363962705469\n",
      "진입일 : 2011-08-04 00:00:00 구매 가격 : 21.245531\n",
      "판매일 : 2011-08-31 00:00:00 판매 가격 : 21.923595 수익율 : 1.0319156061573607\n",
      "진입일 : 2011-11-01 00:00:00 구매 가격 : 21.420837\n",
      "판매일 : 2012-01-03 00:00:00 판매 가격 : 22.229851 수익율 : 1.037767618510892\n",
      "진입일 : 2012-04-04 00:00:00 구매 가격 : 26.087456\n",
      "판매일 : 2012-06-19 00:00:00 판매 가격 : 25.829544 수익율 : 0.9901135626256542\n",
      "진입일 : 2012-07-12 00:00:00 구매 가격 : 24.087934\n",
      "판매일 : 2012-09-06 00:00:00 판매 가격 : 26.551155 수익율 : 1.1022595379080664\n",
      "진입일 : 2012-09-28 00:00:00 구매 가격 : 25.204538\n",
      "판매일 : 2013-01-25 00:00:00 판매 가격 : 23.806347 수익율 : 0.9445262198418396\n",
      "진입일 : 2013-06-20 00:00:00 구매 가격 : 29.035603\n",
      "판매일 : 2013-07-11 00:00:00 판매 가격 : 30.942978 수익율 : 1.0656909036812496\n",
      "진입일 : 2013-07-19 00:00:00 구매 가격 : 27.223581\n",
      "판매일 : 2013-08-23 00:00:00 판매 가격 : 30.340303 수익율 : 1.11448611407882\n",
      "진입일 : 2014-01-08 00:00:00 구매 가격 : 31.458933\n",
      "판매일 : 2014-01-31 00:00:00 판매 가격 : 33.288746 수익율 : 1.0581651323012133\n",
      "진입일 : 2014-10-10 00:00:00 구매 가격 : 39.545464\n",
      "판매일 : 2015-04-23 00:00:00 판매 가격 : 39.450024 수익율 : 0.9975865752896462\n",
      "진입일 : 2015-06-08 00:00:00 구매 가격 : 41.896034\n",
      "판매일 : 2015-10-02 00:00:00 판매 가격 : 42.024754 수익율 : 1.0030723671839679\n",
      "진입일 : 2016-01-07 00:00:00 구매 가격 : 48.435574\n",
      "판매일 : 2016-03-16 00:00:00 판매 가격 : 50.821819 수익율 : 1.04926637186131\n",
      "진입일 : 2016-04-22 00:00:00 구매 가격 : 48.418652\n",
      "판매일 : 2016-05-25 00:00:00 판매 가격 : 49.077465 수익율 : 1.0136065952435023\n",
      "진입일 : 2016-06-27 00:00:00 구매 가격 : 45.602867\n",
      "판매일 : 2016-07-12 00:00:00 판매 가격 : 50.103844 수익율 : 1.0986994304546684\n",
      "진입일 : 2016-09-09 00:00:00 구매 가격 : 53.258598\n",
      "판매일 : 2016-10-21 00:00:00 판매 가격 : 56.527447 수익율 : 1.0613769254684475\n",
      "진입일 : 2017-08-10 00:00:00 구매 가격 : 68.923355\n",
      "판매일 : 2017-08-30 00:00:00 판매 가격 : 71.813408 수익율 : 1.0419314033682776\n",
      "진입일 : 2017-12-04 00:00:00 구매 가격 : 79.068665\n",
      "판매일 : 2017-12-15 00:00:00 판매 가격 : 84.695534 수익율 : 1.0711643354545066\n",
      "진입일 : 2018-02-08 00:00:00 구매 가격 : 82.901184\n",
      "판매일 : 2018-04-17 00:00:00 판매 가격 : 94.126915 수익율 : 1.135410985203782\n",
      "진입일 : 2018-06-27 00:00:00 구매 가격 : 95.981407\n",
      "판매일 : 2018-07-12 00:00:00 판매 가격 : 102.525146 수익율 : 1.068177152268668\n",
      "진입일 : 2018-10-10 00:00:00 구매 가격 : 104.865669\n",
      "누적 수익률 :  2.5478920600997546\n"
     ]
    }
   ],
   "source": [
    "df = bg.cal_rtn(df)"
   ]
  },
  {
   "cell_type": "code",
   "execution_count": 189,
   "metadata": {},
   "outputs": [],
   "source": [
    "import bollinger2 as bg2\n",
    "import imp\n",
    "\n",
    "imp.reload(bg2)\n",
    "\n",
    "data = pd.read_csv(\"../csv/AAPL.csv\", index_col=\"Date\")"
   ]
  },
  {
   "cell_type": "code",
   "execution_count": 190,
   "metadata": {},
   "outputs": [],
   "source": [
    "a =bg2.Invest(data,\"Adj Close\")"
   ]
  },
  {
   "cell_type": "code",
   "execution_count": 191,
   "metadata": {},
   "outputs": [
    {
     "data": {
      "text/plain": [
       "'Adj Close'"
      ]
     },
     "execution_count": 191,
     "metadata": {},
     "output_type": "execute_result"
    }
   ],
   "source": [
    "a.col"
   ]
  },
  {
   "cell_type": "code",
   "execution_count": 192,
   "metadata": {},
   "outputs": [
    {
     "data": {
      "text/html": [
       "<div>\n",
       "<style scoped>\n",
       "    .dataframe tbody tr th:only-of-type {\n",
       "        vertical-align: middle;\n",
       "    }\n",
       "\n",
       "    .dataframe tbody tr th {\n",
       "        vertical-align: top;\n",
       "    }\n",
       "\n",
       "    .dataframe thead th {\n",
       "        text-align: right;\n",
       "    }\n",
       "</style>\n",
       "<table border=\"1\" class=\"dataframe\">\n",
       "  <thead>\n",
       "    <tr style=\"text-align: right;\">\n",
       "      <th></th>\n",
       "      <th>Adj Close</th>\n",
       "      <th>center</th>\n",
       "      <th>ub</th>\n",
       "      <th>lb</th>\n",
       "    </tr>\n",
       "    <tr>\n",
       "      <th>Date</th>\n",
       "      <th></th>\n",
       "      <th></th>\n",
       "      <th></th>\n",
       "      <th></th>\n",
       "    </tr>\n",
       "  </thead>\n",
       "  <tbody>\n",
       "    <tr>\n",
       "      <th>2010-01-04</th>\n",
       "      <td>26.782711</td>\n",
       "      <td>NaN</td>\n",
       "      <td>NaN</td>\n",
       "      <td>NaN</td>\n",
       "    </tr>\n",
       "    <tr>\n",
       "      <th>2010-01-05</th>\n",
       "      <td>26.829010</td>\n",
       "      <td>NaN</td>\n",
       "      <td>NaN</td>\n",
       "      <td>NaN</td>\n",
       "    </tr>\n",
       "    <tr>\n",
       "      <th>2010-01-06</th>\n",
       "      <td>26.402260</td>\n",
       "      <td>NaN</td>\n",
       "      <td>NaN</td>\n",
       "      <td>NaN</td>\n",
       "    </tr>\n",
       "    <tr>\n",
       "      <th>2010-01-07</th>\n",
       "      <td>26.353460</td>\n",
       "      <td>NaN</td>\n",
       "      <td>NaN</td>\n",
       "      <td>NaN</td>\n",
       "    </tr>\n",
       "    <tr>\n",
       "      <th>2010-01-08</th>\n",
       "      <td>26.528664</td>\n",
       "      <td>NaN</td>\n",
       "      <td>NaN</td>\n",
       "      <td>NaN</td>\n",
       "    </tr>\n",
       "    <tr>\n",
       "      <th>...</th>\n",
       "      <td>...</td>\n",
       "      <td>...</td>\n",
       "      <td>...</td>\n",
       "      <td>...</td>\n",
       "    </tr>\n",
       "    <tr>\n",
       "      <th>2014-12-24</th>\n",
       "      <td>103.617920</td>\n",
       "      <td>104.542070</td>\n",
       "      <td>110.388364</td>\n",
       "      <td>98.695775</td>\n",
       "    </tr>\n",
       "    <tr>\n",
       "      <th>2014-12-26</th>\n",
       "      <td>105.449570</td>\n",
       "      <td>104.310338</td>\n",
       "      <td>109.569622</td>\n",
       "      <td>99.051054</td>\n",
       "    </tr>\n",
       "    <tr>\n",
       "      <th>2014-12-29</th>\n",
       "      <td>105.375557</td>\n",
       "      <td>104.078143</td>\n",
       "      <td>108.639948</td>\n",
       "      <td>99.516339</td>\n",
       "    </tr>\n",
       "    <tr>\n",
       "      <th>2014-12-30</th>\n",
       "      <td>104.089706</td>\n",
       "      <td>103.960196</td>\n",
       "      <td>108.383827</td>\n",
       "      <td>99.536566</td>\n",
       "    </tr>\n",
       "    <tr>\n",
       "      <th>2014-12-31</th>\n",
       "      <td>102.110046</td>\n",
       "      <td>103.763618</td>\n",
       "      <td>108.147038</td>\n",
       "      <td>99.380197</td>\n",
       "    </tr>\n",
       "  </tbody>\n",
       "</table>\n",
       "<p>1258 rows × 4 columns</p>\n",
       "</div>"
      ],
      "text/plain": [
       "             Adj Close      center          ub         lb\n",
       "Date                                                     \n",
       "2010-01-04   26.782711         NaN         NaN        NaN\n",
       "2010-01-05   26.829010         NaN         NaN        NaN\n",
       "2010-01-06   26.402260         NaN         NaN        NaN\n",
       "2010-01-07   26.353460         NaN         NaN        NaN\n",
       "2010-01-08   26.528664         NaN         NaN        NaN\n",
       "...                ...         ...         ...        ...\n",
       "2014-12-24  103.617920  104.542070  110.388364  98.695775\n",
       "2014-12-26  105.449570  104.310338  109.569622  99.051054\n",
       "2014-12-29  105.375557  104.078143  108.639948  99.516339\n",
       "2014-12-30  104.089706  103.960196  108.383827  99.536566\n",
       "2014-12-31  102.110046  103.763618  108.147038  99.380197\n",
       "\n",
       "[1258 rows x 4 columns]"
      ]
     },
     "execution_count": 192,
     "metadata": {},
     "output_type": "execute_result"
    }
   ],
   "source": [
    "a.create_band(\"20100101\",\"20150101\")"
   ]
  },
  {
   "cell_type": "code",
   "execution_count": 193,
   "metadata": {},
   "outputs": [
    {
     "name": "stdout",
     "output_type": "stream",
     "text": [
      "거래내역\n",
      " Date\n",
      "2010-01-04       \n",
      "2010-01-05       \n",
      "2010-01-06       \n",
      "2010-01-07       \n",
      "2010-01-08       \n",
      "             ... \n",
      "2014-12-24    buy\n",
      "2014-12-26    buy\n",
      "2014-12-29    buy\n",
      "2014-12-30    buy\n",
      "2014-12-31    buy\n",
      "Name: trade, Length: 1258, dtype: object\n"
     ]
    },
    {
     "data": {
      "text/html": [
       "<div>\n",
       "<style scoped>\n",
       "    .dataframe tbody tr th:only-of-type {\n",
       "        vertical-align: middle;\n",
       "    }\n",
       "\n",
       "    .dataframe tbody tr th {\n",
       "        vertical-align: top;\n",
       "    }\n",
       "\n",
       "    .dataframe thead th {\n",
       "        text-align: right;\n",
       "    }\n",
       "</style>\n",
       "<table border=\"1\" class=\"dataframe\">\n",
       "  <thead>\n",
       "    <tr style=\"text-align: right;\">\n",
       "      <th></th>\n",
       "      <th>Adj Close</th>\n",
       "      <th>center</th>\n",
       "      <th>ub</th>\n",
       "      <th>lb</th>\n",
       "      <th>trade</th>\n",
       "    </tr>\n",
       "    <tr>\n",
       "      <th>Date</th>\n",
       "      <th></th>\n",
       "      <th></th>\n",
       "      <th></th>\n",
       "      <th></th>\n",
       "      <th></th>\n",
       "    </tr>\n",
       "  </thead>\n",
       "  <tbody>\n",
       "    <tr>\n",
       "      <th>2010-01-04</th>\n",
       "      <td>26.782711</td>\n",
       "      <td>NaN</td>\n",
       "      <td>NaN</td>\n",
       "      <td>NaN</td>\n",
       "      <td></td>\n",
       "    </tr>\n",
       "    <tr>\n",
       "      <th>2010-01-05</th>\n",
       "      <td>26.829010</td>\n",
       "      <td>NaN</td>\n",
       "      <td>NaN</td>\n",
       "      <td>NaN</td>\n",
       "      <td></td>\n",
       "    </tr>\n",
       "    <tr>\n",
       "      <th>2010-01-06</th>\n",
       "      <td>26.402260</td>\n",
       "      <td>NaN</td>\n",
       "      <td>NaN</td>\n",
       "      <td>NaN</td>\n",
       "      <td></td>\n",
       "    </tr>\n",
       "    <tr>\n",
       "      <th>2010-01-07</th>\n",
       "      <td>26.353460</td>\n",
       "      <td>NaN</td>\n",
       "      <td>NaN</td>\n",
       "      <td>NaN</td>\n",
       "      <td></td>\n",
       "    </tr>\n",
       "    <tr>\n",
       "      <th>2010-01-08</th>\n",
       "      <td>26.528664</td>\n",
       "      <td>NaN</td>\n",
       "      <td>NaN</td>\n",
       "      <td>NaN</td>\n",
       "      <td></td>\n",
       "    </tr>\n",
       "    <tr>\n",
       "      <th>...</th>\n",
       "      <td>...</td>\n",
       "      <td>...</td>\n",
       "      <td>...</td>\n",
       "      <td>...</td>\n",
       "      <td>...</td>\n",
       "    </tr>\n",
       "    <tr>\n",
       "      <th>2014-12-24</th>\n",
       "      <td>103.617920</td>\n",
       "      <td>104.542070</td>\n",
       "      <td>110.388364</td>\n",
       "      <td>98.695775</td>\n",
       "      <td>buy</td>\n",
       "    </tr>\n",
       "    <tr>\n",
       "      <th>2014-12-26</th>\n",
       "      <td>105.449570</td>\n",
       "      <td>104.310338</td>\n",
       "      <td>109.569622</td>\n",
       "      <td>99.051054</td>\n",
       "      <td>buy</td>\n",
       "    </tr>\n",
       "    <tr>\n",
       "      <th>2014-12-29</th>\n",
       "      <td>105.375557</td>\n",
       "      <td>104.078143</td>\n",
       "      <td>108.639948</td>\n",
       "      <td>99.516339</td>\n",
       "      <td>buy</td>\n",
       "    </tr>\n",
       "    <tr>\n",
       "      <th>2014-12-30</th>\n",
       "      <td>104.089706</td>\n",
       "      <td>103.960196</td>\n",
       "      <td>108.383827</td>\n",
       "      <td>99.536566</td>\n",
       "      <td>buy</td>\n",
       "    </tr>\n",
       "    <tr>\n",
       "      <th>2014-12-31</th>\n",
       "      <td>102.110046</td>\n",
       "      <td>103.763618</td>\n",
       "      <td>108.147038</td>\n",
       "      <td>99.380197</td>\n",
       "      <td>buy</td>\n",
       "    </tr>\n",
       "  </tbody>\n",
       "</table>\n",
       "<p>1258 rows × 5 columns</p>\n",
       "</div>"
      ],
      "text/plain": [
       "             Adj Close      center          ub         lb trade\n",
       "Date                                                           \n",
       "2010-01-04   26.782711         NaN         NaN        NaN      \n",
       "2010-01-05   26.829010         NaN         NaN        NaN      \n",
       "2010-01-06   26.402260         NaN         NaN        NaN      \n",
       "2010-01-07   26.353460         NaN         NaN        NaN      \n",
       "2010-01-08   26.528664         NaN         NaN        NaN      \n",
       "...                ...         ...         ...        ...   ...\n",
       "2014-12-24  103.617920  104.542070  110.388364  98.695775   buy\n",
       "2014-12-26  105.449570  104.310338  109.569622  99.051054   buy\n",
       "2014-12-29  105.375557  104.078143  108.639948  99.516339   buy\n",
       "2014-12-30  104.089706  103.960196  108.383827  99.536566   buy\n",
       "2014-12-31  102.110046  103.763618  108.147038  99.380197   buy\n",
       "\n",
       "[1258 rows x 5 columns]"
      ]
     },
     "execution_count": 193,
     "metadata": {},
     "output_type": "execute_result"
    }
   ],
   "source": [
    "a.add_trade()"
   ]
  },
  {
   "cell_type": "code",
   "execution_count": 194,
   "metadata": {},
   "outputs": [
    {
     "name": "stdout",
     "output_type": "stream",
     "text": [
      "진입일 : 2010-08-24 00:00:00 구매 가격 : 30.026524\n",
      "판매일 : 2010-09-08 00:00:00 판매 가격 : 32.90366 수익율 : 1.0958198158401553\n",
      "진입일 : 2011-03-16 00:00:00 구매 가격 : 41.299767\n",
      "판매일 : 2011-07-01 00:00:00 판매 가격 : 42.957966 수익율 : 1.040150323366231\n",
      "진입일 : 2011-11-14 00:00:00 구매 가격 : 47.463268\n",
      "판매일 : 2011-12-27 00:00:00 판매 가격 : 50.876015 수익율 : 1.0719029081604747\n",
      "진입일 : 2012-04-16 00:00:00 구매 가격 : 72.601524\n",
      "판매일 : 2012-06-18 00:00:00 판매 가격 : 73.308609 수익율 : 1.0097392583659814\n",
      "진입일 : 2012-10-08 00:00:00 구매 가격 : 80.207954\n",
      "판매일 : 2013-07-29 00:00:00 판매 가격 : 57.243137 수익율 : 0.7136840443530077\n",
      "진입일 : 2013-09-11 00:00:00 구매 가격 : 60.184383\n",
      "판매일 : 2013-10-18 00:00:00 판매 가격 : 65.48336 수익율 : 1.0880457144505413\n",
      "진입일 : 2014-01-03 00:00:00 구매 가격 : 70.019096\n",
      "판매일 : 2014-03-25 00:00:00 판매 가격 : 70.960335 수익율 : 1.0134426042861222\n",
      "진입일 : 2014-10-15 00:00:00 구매 가격 : 89.842468\n",
      "판매일 : 2014-10-23 00:00:00 판매 가격 : 96.557182 수익율 : 1.0747387527243797\n",
      "진입일 : 2014-12-12 00:00:00 구매 가격 : 101.508751\n",
      "누적 수익률 :  1.0434103630482257\n"
     ]
    }
   ],
   "source": [
    "a.cal_rtn()"
   ]
  },
  {
   "cell_type": "code",
   "execution_count": null,
   "metadata": {},
   "outputs": [],
   "source": []
  }
 ],
 "metadata": {
  "kernelspec": {
   "display_name": "Python 3",
   "language": "python",
   "name": "python3"
  },
  "language_info": {
   "codemirror_mode": {
    "name": "ipython",
    "version": 3
   },
   "file_extension": ".py",
   "mimetype": "text/x-python",
   "name": "python",
   "nbconvert_exporter": "python",
   "pygments_lexer": "ipython3",
   "version": "3.9.6"
  },
  "orig_nbformat": 4
 },
 "nbformat": 4,
 "nbformat_minor": 2
}
