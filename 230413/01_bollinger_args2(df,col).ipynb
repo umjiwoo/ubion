{
 "cells": [
  {
   "cell_type": "code",
   "execution_count": 11,
   "metadata": {},
   "outputs": [],
   "source": [
    "import pandas as pd\n",
    "import numpy as np"
   ]
  },
  {
   "cell_type": "code",
   "execution_count": 12,
   "metadata": {},
   "outputs": [],
   "source": [
    "df = pd.read_csv(\"../csv/GM.csv\", index_col=\"Date\")"
   ]
  },
  {
   "cell_type": "code",
   "execution_count": 13,
   "metadata": {},
   "outputs": [],
   "source": [
    "def create_band(df, column_name):\n",
    "    price_df = df.loc[(~df.isin((np.nan, np.inf, -np.inf)).any(axis=\"columns\")),[column_name]]\n",
    "\n",
    "    price_df[\"center\"] = price_df[column_name].rolling(20).mean()\n",
    "    price_df[\"ub\"] = price_df[\"center\"] + (2 * price_df[column_name].rolling(20).std())\n",
    "    price_df[\"lb\"] = price_df[\"center\"] - (2 * price_df[column_name].rolling(20).std())\n",
    "\n",
    "    return price_df"
   ]
  },
  {
   "cell_type": "code",
   "execution_count": 14,
   "metadata": {},
   "outputs": [],
   "source": [
    "df = create_band(df,\"Close\")"
   ]
  },
  {
   "cell_type": "code",
   "execution_count": 15,
   "metadata": {},
   "outputs": [],
   "source": [
    "def add_trade(df):\n",
    "    df[\"trade\"]=\"\"\n",
    "\n",
    "    # 기준 컬럼 ; 컬럼 중 첫번째 값\n",
    "    column_name = df.columns[0]\n",
    "\n",
    "    for i in df.index:\n",
    "        if df.loc[i,column_name] > df.loc[i,\"ub\"]:\n",
    "            if df.shift(1).loc[i,\"trade\"] == \"buy\":\n",
    "                df.loc[i,\"trade\"] = \"\"\n",
    "            else:\n",
    "                df.loc[i,\"trade\"] = \"\"\n",
    "        \n",
    "        elif df.loc[i,column_name] < df.loc[i,\"lb\"]:\n",
    "            if df.shift(1).loc[i,\"trade\"] == \"buy\":\n",
    "                df.loc[i,\"trade\"] = \"buy\"\n",
    "            else:\n",
    "                df.loc[i,\"trade\"] = \"buy\"\n",
    "\n",
    "        else:\n",
    "            if df.shift(1).loc[i,\"trade\"] == \"buy\":\n",
    "                df.loc[i,\"trade\"] = \"buy\"\n",
    "            else:\n",
    "                df.loc[i,\"trade\"] = \"\"\n",
    "\n",
    "    print(\"거래내역\\n\",df[\"trade\"])\n",
    "\n",
    "    return df"
   ]
  },
  {
   "cell_type": "code",
   "execution_count": 16,
   "metadata": {},
   "outputs": [
    {
     "name": "stdout",
     "output_type": "stream",
     "text": [
      "거래내역\n",
      " Date\n",
      "2010-11-18       \n",
      "2010-11-19       \n",
      "2010-11-22       \n",
      "2010-11-23       \n",
      "2010-11-24       \n",
      "             ... \n",
      "2019-06-18    buy\n",
      "2019-06-19    buy\n",
      "2019-06-20    buy\n",
      "2019-06-21    buy\n",
      "2019-06-24    buy\n",
      "Name: trade, Length: 2162, dtype: object\n"
     ]
    }
   ],
   "source": [
    "df = add_trade(df)"
   ]
  },
  {
   "cell_type": "code",
   "execution_count": 17,
   "metadata": {},
   "outputs": [
    {
     "data": {
      "text/plain": [
       "buy    1187\n",
       "        975\n",
       "Name: trade, dtype: int64"
      ]
     },
     "execution_count": 17,
     "metadata": {},
     "output_type": "execute_result"
    }
   ],
   "source": [
    "df[\"trade\"].value_counts()"
   ]
  },
  {
   "cell_type": "code",
   "execution_count": 18,
   "metadata": {},
   "outputs": [],
   "source": [
    "def cal_rtn(df):\n",
    "    rtn = 1.0\n",
    "    acc_rtn = 1.0\n",
    "    df['return'] = 1\n",
    "    buy = 0.0\n",
    "    sell = 0.0\n",
    "\n",
    "    column_name = df.columns[0]\n",
    "\n",
    "    for i in df.index:\n",
    "        if (df.shift(1).loc[i, 'trade'] == '') and (df.loc[i, 'trade'] == 'buy'):\n",
    "            buy = df.loc[i, column_name]\n",
    "            print('진입일 :', i, '구매 가격 :', buy)\n",
    "        elif (df.shift(1).loc[i, 'trade'] == 'buy') and (df.loc[i, 'trade'] == ''):\n",
    "            sell = df.loc[i, column_name]\n",
    "            rtn = (sell - buy) / buy + 1\n",
    "            df.loc[i, 'return'] = rtn\n",
    "            print('판매일 :', i, '판매 가격 :', sell, '수익율 :', rtn)\n",
    "\n",
    "        if df.loc[i, 'trade'] == '':\n",
    "            buy = 0.0\n",
    "            sell = 0.0\n",
    "\n",
    "    for i in df.index:\n",
    "        _rtn = df.loc[i,\"return\"]\n",
    "        acc_rtn *= _rtn\n",
    "        df.loc[i,\"acc_rtn\"] = acc_rtn\n",
    "\n",
    "    print(\"누적 수익률 : \", acc_rtn)\n",
    "\n",
    "    return"
   ]
  },
  {
   "cell_type": "code",
   "execution_count": 19,
   "metadata": {},
   "outputs": [
    {
     "name": "stdout",
     "output_type": "stream",
     "text": [
      "진입일 : 2011-02-02 구매 가격 : 35.68\n",
      "판매일 : 2011-04-05 판매 가격 : 32.869999 수익율 : 0.9212443665919282\n",
      "진입일 : 2011-06-02 구매 가격 : 29.6\n",
      "판매일 : 2011-07-07 판매 가격 : 31.799999 수익율 : 1.0743242905405406\n",
      "진입일 : 2011-07-27 구매 가격 : 28.139999\n",
      "판매일 : 2012-01-05 판매 가격 : 22.17 수익율 : 0.7878465098737211\n",
      "진입일 : 2012-03-06 구매 가격 : 24.58\n",
      "판매일 : 2012-04-02 판매 가격 : 26.76 수익율 : 1.0886899918633037\n",
      "진입일 : 2012-04-09 구매 가격 : 24.200001\n",
      "판매일 : 2012-08-07 판매 가격 : 20.42 수익율 : 0.8438016180247265\n",
      "진입일 : 2013-02-20 구매 가격 : 27.1\n",
      "판매일 : 2013-03-20 판매 가격 : 29.200001 수익율 : 1.0774908118081181\n",
      "진입일 : 2013-06-20 구매 가격 : 32.560001\n",
      "판매일 : 2013-09-10 판매 가격 : 37.0 수익율 : 1.1363636014630343\n",
      "진입일 : 2013-10-03 구매 가격 : 35.290001\n",
      "판매일 : 2013-10-30 판매 가격 : 37.23 수익율 : 1.0549730502982984\n",
      "진입일 : 2014-01-16 구매 가격 : 39.0\n",
      "판매일 : 2014-03-05 판매 가격 : 37.52 수익율 : 0.9620512820512821\n",
      "진입일 : 2014-03-13 구매 가격 : 34.09\n",
      "판매일 : 2014-06-04 판매 가격 : 36.52 수익율 : 1.0712819008506893\n",
      "진입일 : 2014-07-24 구매 가격 : 35.740002\n",
      "판매일 : 2014-11-17 판매 가격 : 32.310001 수익율 : 0.9040290764393355\n",
      "진입일 : 2014-12-15 구매 가격 : 31.0\n",
      "판매일 : 2015-02-10 판매 가격 : 37.52 수익율 : 1.2103225806451614\n",
      "진입일 : 2015-04-07 구매 가격 : 35.73\n",
      "판매일 : 2015-05-28 판매 가격 : 36.389999 수익율 : 1.0184718443884693\n",
      "진입일 : 2015-06-25 구매 가격 : 34.700001\n",
      "판매일 : 2015-10-07 판매 가격 : 33.049999 수익율 : 0.9524495114567864\n",
      "진입일 : 2015-12-11 구매 가격 : 34.549999\n",
      "판매일 : 2016-03-03 판매 가격 : 31.07 수익율 : 0.8992764370268144\n",
      "진입일 : 2016-04-04 구매 가격 : 29.9\n",
      "판매일 : 2016-04-21 판매 가격 : 32.66 수익율 : 1.0923076923076922\n",
      "진입일 : 2016-06-03 구매 가격 : 29.6\n",
      "판매일 : 2016-07-12 판매 가격 : 30.6 수익율 : 1.0337837837837838\n",
      "진입일 : 2016-09-09 구매 가격 : 30.48\n",
      "판매일 : 2016-10-24 판매 가격 : 32.98 수익율 : 1.0820209973753279\n",
      "진입일 : 2017-02-07 구매 가격 : 35.099998\n",
      "판매일 : 2017-06-29 판매 가격 : 34.860001 수익율 : 0.9931624782428762\n",
      "진입일 : 2017-10-31 구매 가격 : 42.98\n",
      "판매일 : 2018-01-04 판매 가격 : 44.139999 수익율 : 1.026989274080968\n",
      "진입일 : 2018-02-02 구매 가격 : 41.0\n",
      "판매일 : 2018-05-31 판매 가격 : 42.700001 수익율 : 1.0414634390243902\n",
      "진입일 : 2018-07-25 구매 가격 : 37.650002\n",
      "판매일 : 2018-10-31 판매 가격 : 36.59 수익율 : 0.9718458979099125\n",
      "진입일 : 2019-03-07 구매 가격 : 38.040001\n",
      "누적 수익률 :  1.1480914103747033\n"
     ]
    }
   ],
   "source": [
    "res = cal_rtn(df)"
   ]
  }
 ],
 "metadata": {
  "kernelspec": {
   "display_name": "Python 3",
   "language": "python",
   "name": "python3"
  },
  "language_info": {
   "codemirror_mode": {
    "name": "ipython",
    "version": 3
   },
   "file_extension": ".py",
   "mimetype": "text/x-python",
   "name": "python",
   "nbconvert_exporter": "python",
   "pygments_lexer": "ipython3",
   "version": "3.9.6"
  },
  "orig_nbformat": 4
 },
 "nbformat": 4,
 "nbformat_minor": 2
}
