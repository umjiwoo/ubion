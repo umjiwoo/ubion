{
 "cells": [
  {
   "cell_type": "code",
   "execution_count": null,
   "metadata": {},
   "outputs": [],
   "source": [
    "import pandas as pd\n",
    "import numpy as np\n",
    "from datetime import datetime"
   ]
  },
  {
   "cell_type": "code",
   "execution_count": null,
   "metadata": {},
   "outputs": [],
   "source": [
    "df = pd.read_csv(\"../csv/GM.csv\", index_col=\"Date\")"
   ]
  },
  {
   "cell_type": "code",
   "execution_count": null,
   "metadata": {},
   "outputs": [],
   "source": [
    "def create_band(df, column_name, start, end):\n",
    "    df.index = pd.to_datetime(df.index)\n",
    "\n",
    "    start = datetime.strptime(start,\"%Y%m%d\").isoformat()\n",
    "    end = datetime.strptime(end,\"%Y%m%d\").isoformat()\n",
    "\n",
    "    df = df.loc[start:end]\n",
    "\n",
    "    price_df = df.loc[(~df.isin((np.nan, np.inf, -np.inf)).any(axis=\"columns\")),[column_name]]\n",
    "\n",
    "    price_df[\"center\"] = price_df[column_name].rolling(20).mean()\n",
    "    price_df[\"ub\"] = price_df[\"center\"] + (2 * price_df[column_name].rolling(20).std())\n",
    "    price_df[\"lb\"] = price_df[\"center\"] - (2 * price_df[column_name].rolling(20).std())\n",
    "\n",
    "    return price_df"
   ]
  },
  {
   "cell_type": "code",
   "execution_count": null,
   "metadata": {},
   "outputs": [],
   "source": [
    "df = create_band(df,\"Adj Close\",\"20100501\",\"20150301\")"
   ]
  },
  {
   "cell_type": "code",
   "execution_count": null,
   "metadata": {},
   "outputs": [],
   "source": [
    "def add_trade(df):\n",
    "    df[\"trade\"]=\"\"\n",
    "\n",
    "    column_name = df.columns[0]\n",
    "\n",
    "    for i in df.index:\n",
    "        if df.loc[i,column_name] > df.loc[i,\"ub\"]:\n",
    "            if df.shift(1).loc[i,\"trade\"] == \"buy\":\n",
    "                df.loc[i,\"trade\"] = \"\"\n",
    "            else:\n",
    "                df.loc[i,\"trade\"] = \"\"\n",
    "        \n",
    "        elif df.loc[i,column_name] < df.loc[i,\"lb\"]:\n",
    "            if df.shift(1).loc[i,\"trade\"] == \"buy\":\n",
    "                df.loc[i,\"trade\"] = \"buy\"\n",
    "            else:\n",
    "                df.loc[i,\"trade\"] = \"buy\"\n",
    "\n",
    "        else:\n",
    "            if df.shift(1).loc[i,\"trade\"] == \"buy\":\n",
    "                df.loc[i,\"trade\"] = \"buy\"\n",
    "            else:\n",
    "                df.loc[i,\"trade\"] = \"\"\n",
    "\n",
    "    print(\"거래내역\\n\",df[\"trade\"])\n",
    "\n",
    "    return df"
   ]
  },
  {
   "cell_type": "code",
   "execution_count": null,
   "metadata": {},
   "outputs": [],
   "source": [
    "df = add_trade(df)"
   ]
  },
  {
   "cell_type": "code",
   "execution_count": null,
   "metadata": {},
   "outputs": [],
   "source": [
    "df[\"trade\"].value_counts()"
   ]
  },
  {
   "cell_type": "code",
   "execution_count": null,
   "metadata": {},
   "outputs": [],
   "source": [
    "def cal_rtn(df):\n",
    "    rtn = 1.0\n",
    "    acc_rtn = 1.0\n",
    "    df['return'] = 1\n",
    "    buy = 0.0\n",
    "    sell = 0.0\n",
    "\n",
    "    column_name = df.columns[0]\n",
    "\n",
    "    for i in df.index:\n",
    "        if (df.shift(1).loc[i, 'trade'] == '') and (df.loc[i, 'trade'] == 'buy'):\n",
    "            buy = df.loc[i, column_name]\n",
    "            print('진입일 :', i, '구매 가격 :', buy)\n",
    "        elif (df.shift(1).loc[i, 'trade'] == 'buy') and (df.loc[i, 'trade'] == ''):\n",
    "            sell = df.loc[i, 'Adj Close']\n",
    "            rtn = (sell - buy) / buy + 1\n",
    "            df.loc[i, 'return'] = rtn\n",
    "            print('판매일 :', i, '판매 가격 :', sell, '수익율 :', rtn)\n",
    "\n",
    "        if df.loc[i, 'trade'] == '':\n",
    "            buy = 0.0\n",
    "            sell = 0.0\n",
    "\n",
    "    for i in df.index:\n",
    "        _rtn = df.loc[i,\"return\"]\n",
    "        acc_rtn *= _rtn\n",
    "        df.loc[i,\"acc_rtn\"] = acc_rtn\n",
    "\n",
    "    print(\"누적 수익률 : \", acc_rtn)\n",
    "\n",
    "    return"
   ]
  },
  {
   "cell_type": "code",
   "execution_count": null,
   "metadata": {},
   "outputs": [],
   "source": [
    "res = cal_rtn(df)"
   ]
  }
 ],
 "metadata": {
  "kernelspec": {
   "display_name": "Python 3",
   "language": "python",
   "name": "python3"
  },
  "language_info": {
   "codemirror_mode": {
    "name": "ipython",
    "version": 3
   },
   "file_extension": ".py",
   "mimetype": "text/x-python",
   "name": "python",
   "nbconvert_exporter": "python",
   "pygments_lexer": "ipython3",
   "version": "3.9.6"
  },
  "orig_nbformat": 4
 },
 "nbformat": 4,
 "nbformat_minor": 2
}
