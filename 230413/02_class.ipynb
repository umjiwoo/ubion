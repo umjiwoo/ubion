{
 "cells": [
  {
   "attachments": {},
   "cell_type": "markdown",
   "metadata": {},
   "source": [
    "### Class 생성\n",
    "1. class 이름 -> User\n",
    "2. 생성자 함수(__init__)에서 유저의 이름, 휴대폰번호, 생년월일 매개변수 이용해 self변수 만들어서 저장\n",
    "3. info()함수 생성해 유저의 정보를 출력하는 함수 생성"
   ]
  },
  {
   "cell_type": "code",
   "execution_count": 30,
   "metadata": {},
   "outputs": [],
   "source": [
    "class User:\n",
    "    def __init__(self,_name,_phone,_birth):\n",
    "        self.name = _name\n",
    "        self.phone = _phone\n",
    "        self.birth = _birth\n",
    "\n",
    "    def info(self):\n",
    "        # print(\"이름\",self.name)\n",
    "        # print(\"휴대폰번호\",self.phone)\n",
    "        # print(\"생년월일\",self.birth)\n",
    "\n",
    "        # return\n",
    "        return (self.name, self.phone, self.birth)"
   ]
  },
  {
   "cell_type": "code",
   "execution_count": 31,
   "metadata": {},
   "outputs": [],
   "source": [
    "user1 = User(\"jiwoo\",\"010-6207-8753\",\"19990513\")"
   ]
  },
  {
   "cell_type": "code",
   "execution_count": 32,
   "metadata": {},
   "outputs": [],
   "source": [
    "name,phone,birth = user1.info()"
   ]
  },
  {
   "cell_type": "code",
   "execution_count": 33,
   "metadata": {},
   "outputs": [
    {
     "name": "stdout",
     "output_type": "stream",
     "text": [
      "jiwoo\n",
      "010-6207-8753\n",
      "19990513\n"
     ]
    }
   ],
   "source": [
    "print(name)\n",
    "print(phone)\n",
    "print(birth)"
   ]
  },
  {
   "attachments": {},
   "cell_type": "markdown",
   "metadata": {},
   "source": [
    "#### 지갑 클래스\n",
    "1. 클래스 이름 ; wallet\n",
    "2. 생성자 함수에는 소유자의 이름, 지갑 브랜드, 지갑 가치, 잔액\n",
    "3. 잔액 기본값 = 0\n",
    "4. work() 함수 생성 -> 매개변수 ; 일의 종류\n",
    "   (\"TM\" -> 지갑 잔액 500증가, \"alba\" -> 지갑 잔액 300증가, \"serving\" -> 지갑 잔액 400증가)\n",
    "5. wallet_info() 함수 생성 -> 지갑 정보(소유자 이름, 지갑 브랜드, 지갑 가치, 잔액)을 출력"
   ]
  },
  {
   "cell_type": "code",
   "execution_count": 83,
   "metadata": {},
   "outputs": [],
   "source": [
    "class Wallet:\n",
    "    # 클래스 변수\n",
    "    work_type = {\n",
    "        \"TM\":500,\n",
    "        \"alba\":300,\n",
    "        \"serving\":400\n",
    "        }\n",
    "    \n",
    "    item_type = {\n",
    "        \"cash\":200,\n",
    "        \"food\":300,\n",
    "        \"clothes\":500\n",
    "    }\n",
    "\n",
    "    def __init__(self,name,brand,value,balance=0):\n",
    "        self.name = name\n",
    "        self.brand = brand\n",
    "        self.value = value\n",
    "        self.balance = balance\n",
    "\n",
    "    def work(self, work_type):\n",
    "        # if work_type == \"TM\":\n",
    "        #     self.balance += 500\n",
    "        # elif work_type == \"alba\":\n",
    "        #     self.balance += 300\n",
    "        # elif work_type == \"serving\":\n",
    "        #     self.balance += 400\n",
    "        # else:\n",
    "        #     return \"일의 타입이 맞지 않습니다.\"\n",
    "\n",
    "        if work_type in self.work_type.keys():\n",
    "            self.balance += self.work_type[work_type]\n",
    "        else:\n",
    "            return \"일의 타입이 맞지 않습니다.\"\n",
    "\n",
    "    def wallet_info(self):\n",
    "        return (self.name, self.brand, self.value, self.balance)\n",
    "    \n",
    "    def buy(self,_item):\n",
    "        # if _item == \"cash\":\n",
    "        #     # self.balance -= 200\n",
    "        #     self.cost = 200\n",
    "        # elif _item == \"food\":\n",
    "        #     # self.balance -= 300\n",
    "        #     self.cost = 300\n",
    "        # elif _item == \"clothes\":\n",
    "        #     # self.balance -= 500\n",
    "        #     self.cost = 500\n",
    "        # else:\n",
    "        #     return \"item 타입이 맞지 않습니다.\"\n",
    "\n",
    "        if _item in self.item_type.keys():\n",
    "            if self.balance >= self.item_type[_item]:\n",
    "                self.balance -= self.item_type[_item]\n",
    "            else:\n",
    "                return \"돈이 부족합니다.\"\n",
    "        \n",
    "            return f\"{_item}을 구매했습니다. 현재 잔액은 {self.balance}입니다.\"\n",
    "        else:\n",
    "            return \"item 타입이 맞지 않습니다.\"\n",
    "        \n",
    "\n",
    "    # 일한 목록과 구매 목록을 추가해주는 함수 생성\n",
    "    def add_type(self,_choose,_key,_value):\n",
    "        if _choose == \"work\":\n",
    "            if _key not in self.work_type.keys():\n",
    "                self.work_type[_key] = _value\n",
    "            else:\n",
    "                return \"일 목록이 존재합니다.\"\n",
    "        elif _choose == \"item\":\n",
    "            if _key not in self.item_type.keys():\n",
    "                self.work_type[_key] = _value\n",
    "            else:\n",
    "                return \"구매 목록이 존재합니다.\"\n",
    "        else:\n",
    "            return \"choose의 값이 잘못되었습니다.\"\n",
    "        \n",
    "        return f\"{_choose} 목록이 추가되었습니다.\"\n",
    "        \n",
    "\n",
    "        \n"
   ]
  },
  {
   "cell_type": "code",
   "execution_count": 86,
   "metadata": {},
   "outputs": [],
   "source": [
    "my_wallet = Wallet(\"jiwoo\",\"MCM\",10000,400)"
   ]
  },
  {
   "cell_type": "code",
   "execution_count": 87,
   "metadata": {},
   "outputs": [],
   "source": [
    "my_wallet2 = Wallet(\"dong\",\"gucci\",100000,1000)"
   ]
  },
  {
   "cell_type": "code",
   "execution_count": 59,
   "metadata": {},
   "outputs": [],
   "source": [
    "my_wallet.work(\"TM\")\n",
    "my_wallet.work(\"alba\")\n",
    "my_wallet.work(\"serving\")"
   ]
  },
  {
   "cell_type": "code",
   "execution_count": 60,
   "metadata": {},
   "outputs": [
    {
     "data": {
      "text/plain": [
       "'일의 타입이 맞지 않습니다.'"
      ]
     },
     "execution_count": 60,
     "metadata": {},
     "output_type": "execute_result"
    }
   ],
   "source": [
    "my_wallet.work(\"teaching\")"
   ]
  },
  {
   "cell_type": "code",
   "execution_count": 61,
   "metadata": {},
   "outputs": [
    {
     "data": {
      "text/plain": [
       "1600"
      ]
     },
     "execution_count": 61,
     "metadata": {},
     "output_type": "execute_result"
    }
   ],
   "source": [
    "my_wallet.balance"
   ]
  },
  {
   "cell_type": "code",
   "execution_count": 62,
   "metadata": {},
   "outputs": [
    {
     "data": {
      "text/plain": [
       "('jiwoo', 'MCM', 10000, 1600)"
      ]
     },
     "execution_count": 62,
     "metadata": {},
     "output_type": "execute_result"
    }
   ],
   "source": [
    "my_wallet.wallet_info()"
   ]
  },
  {
   "cell_type": "code",
   "execution_count": 63,
   "metadata": {},
   "outputs": [
    {
     "data": {
      "text/plain": [
       "'clothes을 구매했습니다. 현재 잔액은 1100입니다.'"
      ]
     },
     "execution_count": 63,
     "metadata": {},
     "output_type": "execute_result"
    }
   ],
   "source": [
    "my_wallet.buy(\"clothes\")"
   ]
  },
  {
   "cell_type": "code",
   "execution_count": 67,
   "metadata": {},
   "outputs": [
    {
     "data": {
      "text/plain": [
       "'돈이 부족합니다.'"
      ]
     },
     "execution_count": 67,
     "metadata": {},
     "output_type": "execute_result"
    }
   ],
   "source": [
    "my_wallet.buy(\"food\")"
   ]
  },
  {
   "cell_type": "code",
   "execution_count": 88,
   "metadata": {},
   "outputs": [
    {
     "data": {
      "text/plain": [
       "'work 목록이 추가되었습니다.'"
      ]
     },
     "execution_count": 88,
     "metadata": {},
     "output_type": "execute_result"
    }
   ],
   "source": [
    "my_wallet.add_type(\"work\",\"teaching\",600)"
   ]
  },
  {
   "cell_type": "code",
   "execution_count": 91,
   "metadata": {},
   "outputs": [
    {
     "data": {
      "text/plain": [
       "'일 목록이 존재합니다.'"
      ]
     },
     "execution_count": 91,
     "metadata": {},
     "output_type": "execute_result"
    }
   ],
   "source": [
    "my_wallet2.add_type(\"work\",\"banking\",700)"
   ]
  },
  {
   "cell_type": "code",
   "execution_count": 90,
   "metadata": {},
   "outputs": [
    {
     "data": {
      "text/plain": [
       "{'TM': 500, 'alba': 300, 'serving': 400, 'teaching': 600, 'banking': 700}"
      ]
     },
     "execution_count": 90,
     "metadata": {},
     "output_type": "execute_result"
    }
   ],
   "source": [
    "my_wallet.work_type"
   ]
  },
  {
   "cell_type": "code",
   "execution_count": null,
   "metadata": {},
   "outputs": [],
   "source": []
  },
  {
   "cell_type": "code",
   "execution_count": 92,
   "metadata": {},
   "outputs": [],
   "source": [
    "class Wallet(User):  ## User 클래스를 상속받는 Wallet 클래스\n",
    "    # 클래스 변수\n",
    "    work_type = {\n",
    "        \"TM\":500,\n",
    "        \"alba\":300,\n",
    "        \"serving\":400\n",
    "        }\n",
    "    \n",
    "    item_type = {\n",
    "        \"cash\":200,\n",
    "        \"food\":300,\n",
    "        \"clothes\":500\n",
    "    }\n",
    "\n",
    "    def __init__(self,name,phone,birth,brand,value,balance=0):\n",
    "        ## 부모 클래스 생성자 실행\n",
    "        super().__init__(name,phone,birth)\n",
    "\n",
    "        self.brand = brand\n",
    "        self.value = value\n",
    "        self.balance = balance\n",
    "\n",
    "    def work(self, work_type):\n",
    "        if work_type in self.work_type.keys():\n",
    "            self.balance += self.work_type[work_type]\n",
    "        else:\n",
    "            return \"일의 타입이 맞지 않습니다.\"\n",
    "\n",
    "    def wallet_info(self):\n",
    "        return (self.name, self.brand, self.value, self.balance)\n",
    "    \n",
    "    def buy(self,_item):\n",
    "        if _item in self.item_type.keys():\n",
    "            if self.balance >= self.item_type[_item]:\n",
    "                self.balance -= self.item_type[_item]\n",
    "            else:\n",
    "                return \"돈이 부족합니다.\"\n",
    "        \n",
    "            return f\"{_item}을 구매했습니다. 현재 잔액은 {self.balance}입니다.\"\n",
    "        else:\n",
    "            return \"item 타입이 맞지 않습니다.\"\n",
    "        \n",
    "\n",
    "    # 일한 목록과 구매 목록을 추가해주는 함수 생성\n",
    "    def add_type(self,_choose,_key,_value):\n",
    "        if _choose == \"work\":\n",
    "            if _key not in self.work_type.keys():\n",
    "                self.work_type[_key] = _value\n",
    "            else:\n",
    "                return \"일 목록이 존재합니다.\"\n",
    "        elif _choose == \"item\":\n",
    "            if _key not in self.item_type.keys():\n",
    "                self.work_type[_key] = _value\n",
    "            else:\n",
    "                return \"구매 목록이 존재합니다.\"\n",
    "        else:\n",
    "            return \"choose의 값이 잘못되었습니다.\"\n",
    "        \n",
    "        return f\"{_choose} 목록이 추가되었습니다.\"\n",
    "        \n",
    "\n",
    "        \n"
   ]
  },
  {
   "cell_type": "code",
   "execution_count": 93,
   "metadata": {},
   "outputs": [],
   "source": [
    "test = Wallet(\"test\",\"01012345678\",\"000101\",\"gucci\",1000)"
   ]
  },
  {
   "cell_type": "code",
   "execution_count": 94,
   "metadata": {},
   "outputs": [
    {
     "data": {
      "text/plain": [
       "('test', '01012345678', '000101')"
      ]
     },
     "execution_count": 94,
     "metadata": {},
     "output_type": "execute_result"
    }
   ],
   "source": [
    "test.info()"
   ]
  },
  {
   "cell_type": "code",
   "execution_count": null,
   "metadata": {},
   "outputs": [],
   "source": []
  }
 ],
 "metadata": {
  "kernelspec": {
   "display_name": "Python 3",
   "language": "python",
   "name": "python3"
  },
  "language_info": {
   "codemirror_mode": {
    "name": "ipython",
    "version": 3
   },
   "file_extension": ".py",
   "mimetype": "text/x-python",
   "name": "python",
   "nbconvert_exporter": "python",
   "pygments_lexer": "ipython3",
   "version": "3.9.6"
  },
  "orig_nbformat": 4
 },
 "nbformat": 4,
 "nbformat_minor": 2
}
