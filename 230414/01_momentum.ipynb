{
 "cells": [
  {
   "cell_type": "code",
   "execution_count": null,
   "metadata": {},
   "outputs": [],
   "source": [
    "import pandas as pd\n",
    "import numpy as np\n",
    "from datetime import datetime"
   ]
  },
  {
   "attachments": {},
   "cell_type": "markdown",
   "metadata": {},
   "source": [
    "### 절대 모멘텀\n",
    "1. 주식데이터 로드\n",
    "2. 년월 파생변수 생성 -> Date 컬럼에서 년-월 추출해 대입\n",
    "3. 년,월 별 마지막 날의 month_last_dt 데이터 프레임 생성\n",
    "4. 전월의 종가를 가지는 파생변수 하나 생성\n",
    "5. 전년의 종가를 가지는 파생변수 하나 생성\n",
    "6. 전월, 전년도의 종가를 가지고 거래내역 생성\n",
    "7. 수익률 계산"
   ]
  },
  {
   "cell_type": "code",
   "execution_count": null,
   "metadata": {},
   "outputs": [],
   "source": [
    "df = pd.read_csv(\"../csv/GDX.csv\", index_col=\"Date\")"
   ]
  },
  {
   "cell_type": "code",
   "execution_count": null,
   "metadata": {},
   "outputs": [],
   "source": [
    "# 변경 전 index 타입 찍어보기\n",
    "print(df.index)\n",
    "# index 를 시계열 데이터로 변경\n",
    "df.index = pd.to_datetime(df.index, format=\"%Y-%m-%d\")"
   ]
  },
  {
   "cell_type": "code",
   "execution_count": null,
   "metadata": {},
   "outputs": [],
   "source": [
    "# 새로운 파생변수 년-월 생성\n",
    "df[\"STD-YM\"] = list(map(lambda x: datetime.strftime(x,\"%Y-%m\"),df.index))\n",
    "df.head(10)\n",
    "\n",
    "\n",
    "# df[\"Date\"]를 인덱스로 바꾸지 않았더라면(컬럼이었으면)\n",
    "# df[\"Date\"].dt.strftime(\"%Y-%m\")으로 변경해서 새로운 파생변수에 담아주면 됨"
   ]
  },
  {
   "cell_type": "code",
   "execution_count": null,
   "metadata": {},
   "outputs": [],
   "source": [
    "# 월별 마지막 인덱스만 추출해 새로운 데이터프레임에 대입\n",
    "\n",
    "# case1 - shift() 이용\n",
    "# 현재의 STD-YM 값과 다음 행의 STD-YM 값이 다른 경우\n",
    "# -> df[\"STD-YM\"]!=df[\"STD-YM\"].shift(-1)\n",
    "# 위의 데이터들을 loc[]의 조건으로 넣으면서 해당 행의 STD-YM 값이 True인 행만 추출\n",
    "monthly_df = df.loc[df[\"STD-YM\"]!=df[\"STD-YM\"].shift(-1)]\n",
    "monthly_df"
   ]
  },
  {
   "cell_type": "code",
   "execution_count": null,
   "metadata": {},
   "outputs": [],
   "source": [
    "# case2 -> for문 이용\n",
    "month_list_df = pd.DataFrame()\n",
    "\n",
    "# for문 돌기 위해 df[\"STD-YM\"] 행 정보의 중복값을 제거하고 원자값으로 구성\n",
    "_list = df[\"STD-YM\"].unique()\n",
    "\n",
    "for i in _list:\n",
    "    # 년-월 별 데이터프레임들로 쪼갠 후 가장 마지막 행을 month_list_df에 추가\n",
    "    last_df = df.loc[df[\"STD-YM\"] == i].tail(1)\n",
    "    month_list_df = pd.concat([month_list_df,last_df])\n",
    "\n",
    "month_list_df"
   ]
  },
  {
   "cell_type": "code",
   "execution_count": null,
   "metadata": {},
   "outputs": [],
   "source": [
    "# 전 월의 종가를 가지는 파생변수(BF_1M)을 생성하고 결측치는 0으로 대체\n",
    "# 전 년도의 종가를 가지는 파생변수(BF_12M)을 생성하고 결측치는 0으로 대체\n",
    "\n",
    "month_list_df[\"BF_1M\"] = month_list_df[\"Adj Close\"].shift(1).fillna(0)\n",
    "month_list_df[\"BF_12M\"] = month_list_df[\"Adj Close\"].shift(12).fillna(0)\n",
    "\n",
    "# month_list_df 의 0,12번째 행 보기\n",
    "month_list_df.iloc[[0,12]]"
   ]
  },
  {
   "cell_type": "code",
   "execution_count": null,
   "metadata": {},
   "outputs": [],
   "source": [
    "# 거래내역 추가\n",
    "# 거래 조건) (전 월 종가 / 전 년도 종가) - 1 값이 0보다 크고 무한대가 아닌 경우\n",
    "\n",
    "df[\"trade\"] = \"\"\n",
    "\n",
    "# month_list_df의 인덱스, 즉 년-월을 기준으로 반복문 실행\n",
    "for i in month_list_df.index:\n",
    "    signal = \"\"\n",
    "\n",
    "    # 절대 모멘텀 계산\n",
    "    momentum_index = (month_list_df.loc[i,\"BF_1M\"] / month_list_df.loc[i,\"BF_12M\"]) - 1\n",
    "\n",
    "    # 절대 모멘텀 지표에 따라 True/False로 구분\n",
    "    flag = True if ((momentum_index > 0) and (momentum_index != -np.inf) and (momentum_index != np.inf)) else False\n",
    "\n",
    "    if flag:\n",
    "        signal = \"buy\"\n",
    "\n",
    "    print(\"날짜 : \",i,\"모멘텀 인덱스 : \",momentum_index,\"flag : \",flag,\"signal : \",signal)\n",
    "\n",
    "    df.loc[i,\"trade\"] = signal"
   ]
  },
  {
   "cell_type": "code",
   "execution_count": null,
   "metadata": {},
   "outputs": [],
   "source": [
    "df[\"trade\"].value_counts()"
   ]
  },
  {
   "attachments": {},
   "cell_type": "markdown",
   "metadata": {},
   "source": [
    "### 수익률 계산\n",
    "1. 파생변수 return 생성 - 1로 초기화\n",
    "2. rtn=1.0,buy,sell 변수 생성 - 0으로 초기화\n",
    "3. 반복문 이용해 구매한 시점 뽑기(현재 행의 trade가 buy이고 전 행의 trade가 \"\"인 경우 구매한 날)\n",
    "4. 수익률 계산해서 return 파생변수에 대입\n",
    "\n",
    "### 누적수익률 계산\n",
    "1. acc_rtn=1.0 변수 생성\n",
    "2. return의 항목들을 누적곱하여 acc_rtn컬럼에 대입\n",
    "3. 최종적으로 acc_rtn 출력"
   ]
  },
  {
   "cell_type": "code",
   "execution_count": null,
   "metadata": {},
   "outputs": [],
   "source": [
    "df.loc[df[\"trade\"]==\"buy\"].index"
   ]
  },
  {
   "cell_type": "code",
   "execution_count": null,
   "metadata": {},
   "outputs": [],
   "source": [
    "df[\"return\"] = 1\n",
    "\n",
    "rtn=1.0\n",
    "buy=0\n",
    "sell=0\n",
    "\n",
    "\n",
    "for i in df.index:\n",
    "    if (df.loc[i,\"trade\"] == \"buy\" and  df.shift(1).loc[i,\"trade\"] == \"\"):\n",
    "        buy = df.loc[i,\"Adj Close\"]\n",
    "\n",
    "        print(\"진입일 : \",i,\"구매가격 : \",buy)\n",
    "    \n",
    "    elif (df.loc[i,\"trade\"] == \"\" and  df.shift(1).loc[i,\"trade\"] == \"buy\"):\n",
    "        sell = df.loc[i,\"Adj Close\"]\n",
    "        rtn = (sell - buy) / buy + 1\n",
    "\n",
    "        print(\"판매일 : \",i,\"sell : \",sell,\"    rtn : \",rtn)\n",
    "\n",
    "        df.loc[i,\"return\"] = (sell - buy) / buy + 1"
   ]
  },
  {
   "cell_type": "code",
   "execution_count": null,
   "metadata": {},
   "outputs": [],
   "source": [
    "df"
   ]
  },
  {
   "cell_type": "code",
   "execution_count": null,
   "metadata": {},
   "outputs": [],
   "source": [
    "# # way1)\n",
    "# # 누적곱 함수\n",
    "# df[\"return\"].cumprod()\n",
    "\n",
    "\n",
    "# way2)\n",
    "# for문 사용해 누적곱\n",
    "df[\"acc_rtn\"] = 1\n",
    "acc_rtn = 1\n",
    "\n",
    "for i in df.index:\n",
    "    rtn = df.loc[i,\"return\"]\n",
    "    acc_rtn *= rtn\n",
    "\n",
    "    df.loc[i,\"acc_rtn\"] = acc_rtn\n",
    "\n",
    "print(\"누적수익률 : \",acc_rtn)"
   ]
  },
  {
   "cell_type": "code",
   "execution_count": null,
   "metadata": {},
   "outputs": [],
   "source": [
    "# way1)\n",
    "# 누적곱 함수\n",
    "df[\"return\"].cumprod()"
   ]
  },
  {
   "cell_type": "code",
   "execution_count": null,
   "metadata": {},
   "outputs": [],
   "source": []
  },
  {
   "cell_type": "code",
   "execution_count": null,
   "metadata": {},
   "outputs": [],
   "source": [
    "df.tail(1)"
   ]
  },
  {
   "cell_type": "code",
   "execution_count": null,
   "metadata": {},
   "outputs": [],
   "source": [
    "df.index.sort_values(ascending=True).value_counts()"
   ]
  },
  {
   "attachments": {},
   "cell_type": "markdown",
   "metadata": {},
   "source": [
    "### 절대 모멘텀 함수화\n",
    "1. 첫번째 함수\n",
    "    - 매개변수 1개(데이터프레임 df1)\n",
    "    - 데이터프레임 결측치와 이상치 제거\n",
    "    - 수정종가 제외한 나머지 컬럼 삭제\n",
    "    - 인덱스 시계열 변경\n",
    "    - \"STD-YM\" 파생변수 생성해 인덱스의 년-월 추출해서 대입\n",
    "\n",
    "2. 두번째 함수\n",
    "    - 매개변수 1개(데이터프레임)\n",
    "    - 새로운 데이터프레임(df2) 생성\n",
    "    - 인자값으로 받아온 데이터프레임에서 년-월별 마지막 데이터 새로운 데이터프레임에 대입\n",
    "    - df2에 파생변수 2개 생성\n",
    "        - \"BF_1M\"(전 월 종가),\"BF_12M\"(전 년도 종가)\n",
    "        - 두 파생변수 모두 결측치는 0으로 대체\n",
    "    - return df2\n",
    "\n",
    "3. 세번째 함수\n",
    "    - 매개변수 2개(첫번째 함수 결과, 두번째 함수 결과)\n",
    "    - df1에 수익률 파생변수 return 생성, 모든 초기값은 1로 설정\n",
    "    - df2 값들을 이용해 momentum_index를 구하고 df1에 거래내역 삽입\n",
    "    - df1의 거래내역을 이용해 수익률 return컬럼에 대입\n",
    "    - return 컬럼의 데이터를 가지고 누적수익률 acc_return 컬럼에 값 채우기\n",
    "    - 누적수익률을 print 이용해 출력\n",
    "    - return df1"
   ]
  },
  {
   "cell_type": "code",
   "execution_count": null,
   "metadata": {},
   "outputs": [],
   "source": [
    "def momentum_1(df):\n",
    "    # 인덱스가 Date가 아닌 경우 -> Date 컬럼을 인덱스로 변경\n",
    "    if \"Date\" in df.columns:\n",
    "        df.set_index(\"Date\", inplace=True)\n",
    "\n",
    "    df = df.loc[~df.isin((np.nan, np.inf, -np.inf)).any(axis=\"columns\")]\n",
    "    print(type(df))\n",
    "\n",
    "    ## 여기서 df1 = df[\"Adj Close\"] 대괄호 하나만 치면\n",
    "    ## Series 형태로 반환\n",
    "    ## -> 데이터프레임 사용하려고 할 때 오류남\n",
    "    df1 = df[[\"Adj Close\"]]\n",
    "    df1.index = pd.to_datetime(df1.index, format=\"%Y-%m-%d\")\n",
    "\n",
    "    df1[\"STD-YM\"] = list(map(lambda x: datetime.strftime(x,\"%Y-%m\"),df1.index))\n",
    "    print(df1)\n",
    "    print(type(df1))\n",
    "\n",
    "    return df1"
   ]
  },
  {
   "cell_type": "code",
   "execution_count": null,
   "metadata": {},
   "outputs": [],
   "source": [
    "def momentum_2(df):\n",
    "    # # 방법1) -df2> for문 이용\n",
    "    # df2 = pd.DataFrame()\n",
    "\n",
    "    # # for문 돌기 위해 df[\"STD-YM\"] 행 정보의 중복값을 제거\n",
    "    # _list = df[\"STD-YM\"].unique()\n",
    "\n",
    "    # for i in _list:\n",
    "    #     # 년-월 별 데이터프레임들로 쪼갠 후 가장 마지막 행을 df2에 추가\n",
    "    #     last_df = df.loc[df[\"STD-YM\"] == i].tail(1)\n",
    "    #     df2 = pd.concat([df2,last_df])\n",
    "\n",
    "    # 방법2)\n",
    "    df2 = df.loc[df[\"STD-YM\"]!=df[\"STD-YM\"].shift(-1)]\n",
    "\n",
    "    df2[\"BF_1M\"] = df2[\"Adj Close\"].shift(1).fillna(0)\n",
    "    df2[\"BF_12M\"] = df2[\"Adj Close\"].shift(12).fillna(0)\n",
    "\n",
    "    return df2"
   ]
  },
  {
   "cell_type": "code",
   "execution_count": null,
   "metadata": {},
   "outputs": [],
   "source": [
    "def momentum_3(df1,df2):\n",
    "    # 수익률 계산을 위한 변수\n",
    "    buy = 0\n",
    "    sell = 0\n",
    "\n",
    "    df1[\"trade\"] = \"\"\n",
    "    df1[\"return\"] = 1\n",
    "\n",
    "    for i in df2.index:\n",
    "        signal = \"\"\n",
    "        momentum_index = (df2.loc[i,\"BF_1M\"] / df2.loc[i,\"BF_12M\"]) - 1\n",
    "\n",
    "        flag = True if ((momentum_index>0) and (momentum_index!=np.inf) and (momentum_index!=-np.inf)) else False\n",
    "\n",
    "        if flag:\n",
    "            signal = \"buy\"\n",
    "\n",
    "        df1.loc[i,\"trade\"] = signal\n",
    "\n",
    "    for i in df1.index:\n",
    "        ## 매수한 경우\n",
    "        if (df1.loc[i,\"trade\"] == \"buy\" and  df1.shift(1).loc[i,\"trade\"] == \"\"):\n",
    "            buy = df1.loc[i,\"Adj Close\"]\n",
    "    \n",
    "        ## 매도한 경우\n",
    "        elif (df1.loc[i,\"trade\"] == \"\" and  df1.shift(1).loc[i,\"trade\"] == \"buy\"):\n",
    "            sell = df1.loc[i,\"Adj Close\"]\n",
    "            rtn = (sell - buy) / buy + 1\n",
    "\n",
    "            df1.loc[i,\"return\"] = (sell - buy) / buy + 1\n",
    "    \n",
    "    df1[\"acc_rtn\"] = df1[\"return\"].cumprod()\n",
    "\n",
    "    print(\"누적수익률\\n\",df1.tail(1)[\"acc_rtn\"])\n",
    "\n",
    "    return df1\n"
   ]
  },
  {
   "cell_type": "code",
   "execution_count": null,
   "metadata": {},
   "outputs": [],
   "source": [
    "df = pd.read_csv(\"../csv/GDX.csv\", index_col=\"Date\")\n",
    "# df = pd.read_csv(\"../csv/GM.csv\")"
   ]
  },
  {
   "cell_type": "code",
   "execution_count": null,
   "metadata": {},
   "outputs": [],
   "source": [
    "_df1 = momentum_1(df)\n",
    "_df2 = momentum_2(_df1)         \n",
    "_df3 = momentum_3(_df1,_df2)"
   ]
  },
  {
   "attachments": {},
   "cell_type": "markdown",
   "metadata": {},
   "source": [
    "#### 날짜형 문자 시계열로 변경하기 변형\n"
   ]
  },
  {
   "cell_type": "code",
   "execution_count": null,
   "metadata": {},
   "outputs": [],
   "source": [
    "# datetime 모듈 이용해 시계열로 변경하기\n",
    "from datetime import datetime\n",
    "\n",
    "# df.index = df.index.apply(lambda x:datetime.strptime(x, \"%Y-%m-%d\"))\n",
    "# df.index  ->  data.index(list형태)에는 .apply() 적용 불가\n",
    "# .apply()는 Series,DataFrame 형태에만 적용 가능\n",
    "def change_index(x):\n",
    "    return datetime.strptime(x,\"%Y-%m-%d\")\n",
    "\n",
    "df.index = list(map(change_index,df.index))"
   ]
  },
  {
   "cell_type": "code",
   "execution_count": null,
   "metadata": {},
   "outputs": [],
   "source": [
    "test_df = df.copy()\n",
    "test_df = test_df.reset_index()\n",
    "test_df[\"Date\"] = test_df[\"Date\"].apply(lambda x:datetime.strptime(x,\"%Y-%m-%d\"))\n",
    "test_df.set_index(\"Date\", inplace=True)\n",
    "test_df.index"
   ]
  },
  {
   "cell_type": "code",
   "execution_count": null,
   "metadata": {},
   "outputs": [],
   "source": [
    "test_df2 = df.copy()\n",
    "\n",
    "def change_index(x):\n",
    "    return datetime.strptime(x,\"%Y-%m-%d\")\n",
    "\n",
    "test_df2.index = list(map(change_index,test_df2.index))\n",
    "test_df2.head(2)"
   ]
  },
  {
   "cell_type": "code",
   "execution_count": null,
   "metadata": {},
   "outputs": [],
   "source": [
    "# map 함수\n",
    "\n",
    "x = [1,2,3,4]\n",
    "\n",
    "def change(x):\n",
    "    return x**2\n",
    "\n",
    "_x = list(map(change,x))\n",
    "__x = list(map(lambda x:x**2,x))\n",
    "\n",
    "print(_x)\n",
    "print(__x)"
   ]
  }
 ],
 "metadata": {
  "kernelspec": {
   "display_name": "Python 3",
   "language": "python",
   "name": "python3"
  },
  "language_info": {
   "codemirror_mode": {
    "name": "ipython",
    "version": 3
   },
   "file_extension": ".py",
   "mimetype": "text/x-python",
   "name": "python",
   "nbconvert_exporter": "python",
   "pygments_lexer": "ipython3",
   "version": "3.9.6"
  },
  "orig_nbformat": 4
 },
 "nbformat": 4,
 "nbformat_minor": 2
}
