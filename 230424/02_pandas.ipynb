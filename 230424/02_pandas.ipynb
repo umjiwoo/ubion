{
 "cells": [
  {
   "cell_type": "code",
   "execution_count": 1,
   "metadata": {},
   "outputs": [],
   "source": [
    "import pandas as pd"
   ]
  },
  {
   "cell_type": "code",
   "execution_count": 24,
   "metadata": {},
   "outputs": [],
   "source": [
    "df = pd.read_csv(\"../csv/AAPL.csv\", index_col=\"Date\")"
   ]
  },
  {
   "cell_type": "code",
   "execution_count": 26,
   "metadata": {},
   "outputs": [],
   "source": [
    "df.columns = ['시가', '고가', '저가', '종가', '수정종가', '거래량']"
   ]
  },
  {
   "cell_type": "code",
   "execution_count": 28,
   "metadata": {},
   "outputs": [],
   "source": [
    "df.index.name = \"날짜\""
   ]
  },
  {
   "cell_type": "code",
   "execution_count": 31,
   "metadata": {},
   "outputs": [
    {
     "data": {
      "text/html": [
       "<div>\n",
       "<style scoped>\n",
       "    .dataframe tbody tr th:only-of-type {\n",
       "        vertical-align: middle;\n",
       "    }\n",
       "\n",
       "    .dataframe tbody tr th {\n",
       "        vertical-align: top;\n",
       "    }\n",
       "\n",
       "    .dataframe thead th {\n",
       "        text-align: right;\n",
       "    }\n",
       "</style>\n",
       "<table border=\"1\" class=\"dataframe\">\n",
       "  <thead>\n",
       "    <tr style=\"text-align: right;\">\n",
       "      <th></th>\n",
       "      <th>고가</th>\n",
       "      <th>저가</th>\n",
       "    </tr>\n",
       "    <tr>\n",
       "      <th>날짜</th>\n",
       "      <th></th>\n",
       "      <th></th>\n",
       "    </tr>\n",
       "  </thead>\n",
       "  <tbody>\n",
       "    <tr>\n",
       "      <th>1980-12-12</th>\n",
       "      <td>0.515625</td>\n",
       "      <td>0.513393</td>\n",
       "    </tr>\n",
       "    <tr>\n",
       "      <th>1980-12-15</th>\n",
       "      <td>0.488839</td>\n",
       "      <td>0.486607</td>\n",
       "    </tr>\n",
       "    <tr>\n",
       "      <th>1980-12-16</th>\n",
       "      <td>0.453125</td>\n",
       "      <td>0.450893</td>\n",
       "    </tr>\n",
       "    <tr>\n",
       "      <th>1980-12-17</th>\n",
       "      <td>0.464286</td>\n",
       "      <td>0.462054</td>\n",
       "    </tr>\n",
       "    <tr>\n",
       "      <th>1980-12-18</th>\n",
       "      <td>0.477679</td>\n",
       "      <td>0.475446</td>\n",
       "    </tr>\n",
       "    <tr>\n",
       "      <th>...</th>\n",
       "      <td>...</td>\n",
       "      <td>...</td>\n",
       "    </tr>\n",
       "    <tr>\n",
       "      <th>2019-06-18</th>\n",
       "      <td>200.289993</td>\n",
       "      <td>195.210007</td>\n",
       "    </tr>\n",
       "    <tr>\n",
       "      <th>2019-06-19</th>\n",
       "      <td>199.880005</td>\n",
       "      <td>197.309998</td>\n",
       "    </tr>\n",
       "    <tr>\n",
       "      <th>2019-06-20</th>\n",
       "      <td>200.610001</td>\n",
       "      <td>198.029999</td>\n",
       "    </tr>\n",
       "    <tr>\n",
       "      <th>2019-06-21</th>\n",
       "      <td>200.850006</td>\n",
       "      <td>198.149994</td>\n",
       "    </tr>\n",
       "    <tr>\n",
       "      <th>2019-06-24</th>\n",
       "      <td>200.160004</td>\n",
       "      <td>198.169998</td>\n",
       "    </tr>\n",
       "  </tbody>\n",
       "</table>\n",
       "<p>9715 rows × 2 columns</p>\n",
       "</div>"
      ],
      "text/plain": [
       "                    고가          저가\n",
       "날짜                                \n",
       "1980-12-12    0.515625    0.513393\n",
       "1980-12-15    0.488839    0.486607\n",
       "1980-12-16    0.453125    0.450893\n",
       "1980-12-17    0.464286    0.462054\n",
       "1980-12-18    0.477679    0.475446\n",
       "...                ...         ...\n",
       "2019-06-18  200.289993  195.210007\n",
       "2019-06-19  199.880005  197.309998\n",
       "2019-06-20  200.610001  198.029999\n",
       "2019-06-21  200.850006  198.149994\n",
       "2019-06-24  200.160004  198.169998\n",
       "\n",
       "[9715 rows x 2 columns]"
      ]
     },
     "execution_count": 31,
     "metadata": {},
     "output_type": "execute_result"
    }
   ],
   "source": [
    "# df에서 시가,수정종가 컬럼 데이터만 뽑기\n",
    "df[[\"시가\",\"수정종가\"]]\n",
    "df.loc[:,\"시가\":\"수정종가\"]\n",
    "df.iloc[:,1:3]"
   ]
  },
  {
   "cell_type": "code",
   "execution_count": 29,
   "metadata": {},
   "outputs": [
    {
     "data": {
      "text/html": [
       "<div>\n",
       "<style scoped>\n",
       "    .dataframe tbody tr th:only-of-type {\n",
       "        vertical-align: middle;\n",
       "    }\n",
       "\n",
       "    .dataframe tbody tr th {\n",
       "        vertical-align: top;\n",
       "    }\n",
       "\n",
       "    .dataframe thead th {\n",
       "        text-align: right;\n",
       "    }\n",
       "</style>\n",
       "<table border=\"1\" class=\"dataframe\">\n",
       "  <thead>\n",
       "    <tr style=\"text-align: right;\">\n",
       "      <th></th>\n",
       "      <th>시가</th>\n",
       "      <th>고가</th>\n",
       "      <th>저가</th>\n",
       "      <th>종가</th>\n",
       "      <th>수정종가</th>\n",
       "      <th>거래량</th>\n",
       "    </tr>\n",
       "    <tr>\n",
       "      <th>날짜</th>\n",
       "      <th></th>\n",
       "      <th></th>\n",
       "      <th></th>\n",
       "      <th></th>\n",
       "      <th></th>\n",
       "      <th></th>\n",
       "    </tr>\n",
       "  </thead>\n",
       "  <tbody>\n",
       "    <tr>\n",
       "      <th>2012-09-19</th>\n",
       "      <td>100.037140</td>\n",
       "      <td>100.570000</td>\n",
       "      <td>99.938568</td>\n",
       "      <td>100.300003</td>\n",
       "      <td>88.242981</td>\n",
       "      <td>81718700.0</td>\n",
       "    </tr>\n",
       "    <tr>\n",
       "      <th>2012-09-21</th>\n",
       "      <td>100.344284</td>\n",
       "      <td>100.724289</td>\n",
       "      <td>99.908569</td>\n",
       "      <td>100.012856</td>\n",
       "      <td>87.990341</td>\n",
       "      <td>142897300.0</td>\n",
       "    </tr>\n",
       "    <tr>\n",
       "      <th>2014-08-20</th>\n",
       "      <td>100.440002</td>\n",
       "      <td>101.089996</td>\n",
       "      <td>99.949997</td>\n",
       "      <td>100.570000</td>\n",
       "      <td>92.633347</td>\n",
       "      <td>52699000.0</td>\n",
       "    </tr>\n",
       "    <tr>\n",
       "      <th>2014-08-21</th>\n",
       "      <td>100.570000</td>\n",
       "      <td>100.940002</td>\n",
       "      <td>100.110001</td>\n",
       "      <td>100.580002</td>\n",
       "      <td>92.642563</td>\n",
       "      <td>33478000.0</td>\n",
       "    </tr>\n",
       "    <tr>\n",
       "      <th>2014-08-22</th>\n",
       "      <td>100.290001</td>\n",
       "      <td>101.470001</td>\n",
       "      <td>100.190002</td>\n",
       "      <td>101.320000</td>\n",
       "      <td>93.324173</td>\n",
       "      <td>44184000.0</td>\n",
       "    </tr>\n",
       "    <tr>\n",
       "      <th>...</th>\n",
       "      <td>...</td>\n",
       "      <td>...</td>\n",
       "      <td>...</td>\n",
       "      <td>...</td>\n",
       "      <td>...</td>\n",
       "      <td>...</td>\n",
       "    </tr>\n",
       "    <tr>\n",
       "      <th>2019-06-18</th>\n",
       "      <td>196.050003</td>\n",
       "      <td>200.289993</td>\n",
       "      <td>195.210007</td>\n",
       "      <td>198.449997</td>\n",
       "      <td>198.449997</td>\n",
       "      <td>26551000.0</td>\n",
       "    </tr>\n",
       "    <tr>\n",
       "      <th>2019-06-19</th>\n",
       "      <td>199.679993</td>\n",
       "      <td>199.880005</td>\n",
       "      <td>197.309998</td>\n",
       "      <td>197.869995</td>\n",
       "      <td>197.869995</td>\n",
       "      <td>21124200.0</td>\n",
       "    </tr>\n",
       "    <tr>\n",
       "      <th>2019-06-20</th>\n",
       "      <td>200.369995</td>\n",
       "      <td>200.610001</td>\n",
       "      <td>198.029999</td>\n",
       "      <td>199.460007</td>\n",
       "      <td>199.460007</td>\n",
       "      <td>21514000.0</td>\n",
       "    </tr>\n",
       "    <tr>\n",
       "      <th>2019-06-21</th>\n",
       "      <td>198.800003</td>\n",
       "      <td>200.850006</td>\n",
       "      <td>198.149994</td>\n",
       "      <td>198.779999</td>\n",
       "      <td>198.779999</td>\n",
       "      <td>47735300.0</td>\n",
       "    </tr>\n",
       "    <tr>\n",
       "      <th>2019-06-24</th>\n",
       "      <td>198.539993</td>\n",
       "      <td>200.160004</td>\n",
       "      <td>198.169998</td>\n",
       "      <td>199.169998</td>\n",
       "      <td>199.169998</td>\n",
       "      <td>9025362.0</td>\n",
       "    </tr>\n",
       "  </tbody>\n",
       "</table>\n",
       "<p>1107 rows × 6 columns</p>\n",
       "</div>"
      ],
      "text/plain": [
       "                    시가          고가          저가          종가        수정종가  \\\n",
       "날짜                                                                       \n",
       "2012-09-19  100.037140  100.570000   99.938568  100.300003   88.242981   \n",
       "2012-09-21  100.344284  100.724289   99.908569  100.012856   87.990341   \n",
       "2014-08-20  100.440002  101.089996   99.949997  100.570000   92.633347   \n",
       "2014-08-21  100.570000  100.940002  100.110001  100.580002   92.642563   \n",
       "2014-08-22  100.290001  101.470001  100.190002  101.320000   93.324173   \n",
       "...                ...         ...         ...         ...         ...   \n",
       "2019-06-18  196.050003  200.289993  195.210007  198.449997  198.449997   \n",
       "2019-06-19  199.679993  199.880005  197.309998  197.869995  197.869995   \n",
       "2019-06-20  200.369995  200.610001  198.029999  199.460007  199.460007   \n",
       "2019-06-21  198.800003  200.850006  198.149994  198.779999  198.779999   \n",
       "2019-06-24  198.539993  200.160004  198.169998  199.169998  199.169998   \n",
       "\n",
       "                    거래량  \n",
       "날짜                       \n",
       "2012-09-19   81718700.0  \n",
       "2012-09-21  142897300.0  \n",
       "2014-08-20   52699000.0  \n",
       "2014-08-21   33478000.0  \n",
       "2014-08-22   44184000.0  \n",
       "...                 ...  \n",
       "2019-06-18   26551000.0  \n",
       "2019-06-19   21124200.0  \n",
       "2019-06-20   21514000.0  \n",
       "2019-06-21   47735300.0  \n",
       "2019-06-24    9025362.0  \n",
       "\n",
       "[1107 rows x 6 columns]"
      ]
     },
     "execution_count": 29,
     "metadata": {},
     "output_type": "execute_result"
    }
   ],
   "source": [
    "# query()함수 ; query(조건식) 형태로 사용\n",
    "# 조건식 한번에 여러개 사용 가능\n",
    "# df.loc[df[\"시가\"]>=100] 과 동일한 값 반환\n",
    "df.query(\"시가>=100\")"
   ]
  },
  {
   "cell_type": "code",
   "execution_count": 5,
   "metadata": {},
   "outputs": [
    {
     "data": {
      "text/html": [
       "<div>\n",
       "<style scoped>\n",
       "    .dataframe tbody tr th:only-of-type {\n",
       "        vertical-align: middle;\n",
       "    }\n",
       "\n",
       "    .dataframe tbody tr th {\n",
       "        vertical-align: top;\n",
       "    }\n",
       "\n",
       "    .dataframe thead tr th {\n",
       "        text-align: left;\n",
       "    }\n",
       "</style>\n",
       "<table border=\"1\" class=\"dataframe\">\n",
       "  <thead>\n",
       "    <tr>\n",
       "      <th></th>\n",
       "      <th colspan=\"2\" halign=\"left\">영업이익</th>\n",
       "      <th colspan=\"2\" halign=\"left\">당기순이익</th>\n",
       "    </tr>\n",
       "    <tr>\n",
       "      <th></th>\n",
       "      <th>컨센서스</th>\n",
       "      <th>잠정치</th>\n",
       "      <th>컨센서스</th>\n",
       "      <th>잠정치</th>\n",
       "    </tr>\n",
       "  </thead>\n",
       "  <tbody>\n",
       "    <tr>\n",
       "      <th>0</th>\n",
       "      <td>100</td>\n",
       "      <td>900</td>\n",
       "      <td>800</td>\n",
       "      <td>700</td>\n",
       "    </tr>\n",
       "    <tr>\n",
       "      <th>1</th>\n",
       "      <td>1200</td>\n",
       "      <td>1400</td>\n",
       "      <td>900</td>\n",
       "      <td>800</td>\n",
       "    </tr>\n",
       "  </tbody>\n",
       "</table>\n",
       "</div>"
      ],
      "text/plain": [
       "   영업이익       당기순이익     \n",
       "   컨센서스   잠정치  컨센서스  잠정치\n",
       "0   100   900   800  700\n",
       "1  1200  1400   900  800"
      ]
     },
     "execution_count": 5,
     "metadata": {},
     "output_type": "execute_result"
    }
   ],
   "source": [
    "data = [\n",
    "    [100,900,800,700],\n",
    "    [1200,1400,900,800]\n",
    "]\n",
    "\n",
    "columns = [\n",
    "    [\"영업이익\",\"영업이익\",\"당기순이익\",\"당기순이익\"],\n",
    "    [\"컨센서스\",\"잠정치\",\"컨센서스\",\"잠정치\"]\n",
    "]\n",
    "\n",
    "df = pd.DataFrame(data,columns=columns)\n",
    "df"
   ]
  },
  {
   "cell_type": "code",
   "execution_count": 6,
   "metadata": {},
   "outputs": [
    {
     "data": {
      "text/html": [
       "<div>\n",
       "<style scoped>\n",
       "    .dataframe tbody tr th:only-of-type {\n",
       "        vertical-align: middle;\n",
       "    }\n",
       "\n",
       "    .dataframe tbody tr th {\n",
       "        vertical-align: top;\n",
       "    }\n",
       "\n",
       "    .dataframe thead th {\n",
       "        text-align: right;\n",
       "    }\n",
       "</style>\n",
       "<table border=\"1\" class=\"dataframe\">\n",
       "  <thead>\n",
       "    <tr style=\"text-align: right;\">\n",
       "      <th></th>\n",
       "      <th></th>\n",
       "      <th>당기순이익</th>\n",
       "      <th>영업이익</th>\n",
       "    </tr>\n",
       "  </thead>\n",
       "  <tbody>\n",
       "    <tr>\n",
       "      <th rowspan=\"2\" valign=\"top\">0</th>\n",
       "      <th>잠정치</th>\n",
       "      <td>700</td>\n",
       "      <td>900</td>\n",
       "    </tr>\n",
       "    <tr>\n",
       "      <th>컨센서스</th>\n",
       "      <td>800</td>\n",
       "      <td>100</td>\n",
       "    </tr>\n",
       "    <tr>\n",
       "      <th rowspan=\"2\" valign=\"top\">1</th>\n",
       "      <th>잠정치</th>\n",
       "      <td>800</td>\n",
       "      <td>1400</td>\n",
       "    </tr>\n",
       "    <tr>\n",
       "      <th>컨센서스</th>\n",
       "      <td>900</td>\n",
       "      <td>1200</td>\n",
       "    </tr>\n",
       "  </tbody>\n",
       "</table>\n",
       "</div>"
      ],
      "text/plain": [
       "        당기순이익  영업이익\n",
       "0 잠정치     700   900\n",
       "  컨센서스    800   100\n",
       "1 잠정치     800  1400\n",
       "  컨센서스    900  1200"
      ]
     },
     "execution_count": 6,
     "metadata": {},
     "output_type": "execute_result"
    }
   ],
   "source": [
    "# stack(), unstack()\n",
    "# stack() -> 컬럼 속성을 인덱스 옆으로 내림\n",
    "# 컬럼 레벨이 2이상인 경우 level옵션을 통해 몇번째 컬럼 리스트를 내릴지 지정\n",
    "# unstack()은 반대\n",
    "df.stack()"
   ]
  },
  {
   "cell_type": "code",
   "execution_count": 7,
   "metadata": {},
   "outputs": [
    {
     "data": {
      "text/html": [
       "<div>\n",
       "<style scoped>\n",
       "    .dataframe tbody tr th:only-of-type {\n",
       "        vertical-align: middle;\n",
       "    }\n",
       "\n",
       "    .dataframe tbody tr th {\n",
       "        vertical-align: top;\n",
       "    }\n",
       "\n",
       "    .dataframe thead th {\n",
       "        text-align: right;\n",
       "    }\n",
       "</style>\n",
       "<table border=\"1\" class=\"dataframe\">\n",
       "  <thead>\n",
       "    <tr style=\"text-align: right;\">\n",
       "      <th></th>\n",
       "      <th></th>\n",
       "      <th>잠정치</th>\n",
       "      <th>컨센서스</th>\n",
       "    </tr>\n",
       "  </thead>\n",
       "  <tbody>\n",
       "    <tr>\n",
       "      <th rowspan=\"2\" valign=\"top\">0</th>\n",
       "      <th>당기순이익</th>\n",
       "      <td>700</td>\n",
       "      <td>800</td>\n",
       "    </tr>\n",
       "    <tr>\n",
       "      <th>영업이익</th>\n",
       "      <td>900</td>\n",
       "      <td>100</td>\n",
       "    </tr>\n",
       "    <tr>\n",
       "      <th rowspan=\"2\" valign=\"top\">1</th>\n",
       "      <th>당기순이익</th>\n",
       "      <td>800</td>\n",
       "      <td>900</td>\n",
       "    </tr>\n",
       "    <tr>\n",
       "      <th>영업이익</th>\n",
       "      <td>1400</td>\n",
       "      <td>1200</td>\n",
       "    </tr>\n",
       "  </tbody>\n",
       "</table>\n",
       "</div>"
      ],
      "text/plain": [
       "          잠정치  컨센서스\n",
       "0 당기순이익   700   800\n",
       "  영업이익    900   100\n",
       "1 당기순이익   800   900\n",
       "  영업이익   1400  1200"
      ]
     },
     "execution_count": 7,
     "metadata": {},
     "output_type": "execute_result"
    }
   ],
   "source": [
    "df.stack(level=0)"
   ]
  },
  {
   "cell_type": "code",
   "execution_count": null,
   "metadata": {},
   "outputs": [],
   "source": []
  },
  {
   "attachments": {},
   "cell_type": "markdown",
   "metadata": {},
   "source": [
    "## 할로윈 투자 전략\n",
    "1. 11월1일에 구매 -> 6개월간 유지하다가 4월 말일에 판매\n",
    "2. 11월 첫날 시가로 구매\n",
    "3. 4월 마지막날 종가로 판매\n",
    "4. 수익률 = (3번 과정 - 2번 과정) / 2번 과정\n",
    "5. AMZN 데이터로 2000년부터 2019년까지 데이터로 백테스팅"
   ]
  },
  {
   "cell_type": "code",
   "execution_count": 17,
   "metadata": {},
   "outputs": [
    {
     "data": {
      "text/html": [
       "<div>\n",
       "<style scoped>\n",
       "    .dataframe tbody tr th:only-of-type {\n",
       "        vertical-align: middle;\n",
       "    }\n",
       "\n",
       "    .dataframe tbody tr th {\n",
       "        vertical-align: top;\n",
       "    }\n",
       "\n",
       "    .dataframe thead th {\n",
       "        text-align: right;\n",
       "    }\n",
       "</style>\n",
       "<table border=\"1\" class=\"dataframe\">\n",
       "  <thead>\n",
       "    <tr style=\"text-align: right;\">\n",
       "      <th></th>\n",
       "      <th>Date</th>\n",
       "      <th>Open</th>\n",
       "      <th>High</th>\n",
       "      <th>Low</th>\n",
       "      <th>Close</th>\n",
       "      <th>Adj Close</th>\n",
       "      <th>Volume</th>\n",
       "    </tr>\n",
       "  </thead>\n",
       "  <tbody>\n",
       "    <tr>\n",
       "      <th>0</th>\n",
       "      <td>1997-05-15</td>\n",
       "      <td>2.437500</td>\n",
       "      <td>2.500000</td>\n",
       "      <td>1.927083</td>\n",
       "      <td>1.958333</td>\n",
       "      <td>1.958333</td>\n",
       "      <td>72156000</td>\n",
       "    </tr>\n",
       "    <tr>\n",
       "      <th>1</th>\n",
       "      <td>1997-05-16</td>\n",
       "      <td>1.968750</td>\n",
       "      <td>1.979167</td>\n",
       "      <td>1.708333</td>\n",
       "      <td>1.729167</td>\n",
       "      <td>1.729167</td>\n",
       "      <td>14700000</td>\n",
       "    </tr>\n",
       "    <tr>\n",
       "      <th>2</th>\n",
       "      <td>1997-05-19</td>\n",
       "      <td>1.760417</td>\n",
       "      <td>1.770833</td>\n",
       "      <td>1.625000</td>\n",
       "      <td>1.708333</td>\n",
       "      <td>1.708333</td>\n",
       "      <td>6106800</td>\n",
       "    </tr>\n",
       "    <tr>\n",
       "      <th>3</th>\n",
       "      <td>1997-05-20</td>\n",
       "      <td>1.729167</td>\n",
       "      <td>1.750000</td>\n",
       "      <td>1.635417</td>\n",
       "      <td>1.635417</td>\n",
       "      <td>1.635417</td>\n",
       "      <td>5467200</td>\n",
       "    </tr>\n",
       "    <tr>\n",
       "      <th>4</th>\n",
       "      <td>1997-05-21</td>\n",
       "      <td>1.635417</td>\n",
       "      <td>1.645833</td>\n",
       "      <td>1.375000</td>\n",
       "      <td>1.427083</td>\n",
       "      <td>1.427083</td>\n",
       "      <td>18853200</td>\n",
       "    </tr>\n",
       "    <tr>\n",
       "      <th>...</th>\n",
       "      <td>...</td>\n",
       "      <td>...</td>\n",
       "      <td>...</td>\n",
       "      <td>...</td>\n",
       "      <td>...</td>\n",
       "      <td>...</td>\n",
       "      <td>...</td>\n",
       "    </tr>\n",
       "    <tr>\n",
       "      <th>5558</th>\n",
       "      <td>2019-06-18</td>\n",
       "      <td>1901.349976</td>\n",
       "      <td>1921.670044</td>\n",
       "      <td>1899.790039</td>\n",
       "      <td>1901.369995</td>\n",
       "      <td>1901.369995</td>\n",
       "      <td>3895700</td>\n",
       "    </tr>\n",
       "    <tr>\n",
       "      <th>5559</th>\n",
       "      <td>2019-06-19</td>\n",
       "      <td>1907.839966</td>\n",
       "      <td>1919.579956</td>\n",
       "      <td>1892.469971</td>\n",
       "      <td>1908.790039</td>\n",
       "      <td>1908.790039</td>\n",
       "      <td>2895300</td>\n",
       "    </tr>\n",
       "    <tr>\n",
       "      <th>5560</th>\n",
       "      <td>2019-06-20</td>\n",
       "      <td>1933.329956</td>\n",
       "      <td>1935.199951</td>\n",
       "      <td>1905.800049</td>\n",
       "      <td>1918.189941</td>\n",
       "      <td>1918.189941</td>\n",
       "      <td>3217200</td>\n",
       "    </tr>\n",
       "    <tr>\n",
       "      <th>5561</th>\n",
       "      <td>2019-06-21</td>\n",
       "      <td>1916.099976</td>\n",
       "      <td>1925.949951</td>\n",
       "      <td>1907.579956</td>\n",
       "      <td>1911.300049</td>\n",
       "      <td>1911.300049</td>\n",
       "      <td>3920300</td>\n",
       "    </tr>\n",
       "    <tr>\n",
       "      <th>5562</th>\n",
       "      <td>2019-06-24</td>\n",
       "      <td>1912.660034</td>\n",
       "      <td>1916.859985</td>\n",
       "      <td>1901.329956</td>\n",
       "      <td>1907.953857</td>\n",
       "      <td>1907.953857</td>\n",
       "      <td>1243601</td>\n",
       "    </tr>\n",
       "  </tbody>\n",
       "</table>\n",
       "<p>5563 rows × 7 columns</p>\n",
       "</div>"
      ],
      "text/plain": [
       "            Date         Open         High          Low        Close  \\\n",
       "0     1997-05-15     2.437500     2.500000     1.927083     1.958333   \n",
       "1     1997-05-16     1.968750     1.979167     1.708333     1.729167   \n",
       "2     1997-05-19     1.760417     1.770833     1.625000     1.708333   \n",
       "3     1997-05-20     1.729167     1.750000     1.635417     1.635417   \n",
       "4     1997-05-21     1.635417     1.645833     1.375000     1.427083   \n",
       "...          ...          ...          ...          ...          ...   \n",
       "5558  2019-06-18  1901.349976  1921.670044  1899.790039  1901.369995   \n",
       "5559  2019-06-19  1907.839966  1919.579956  1892.469971  1908.790039   \n",
       "5560  2019-06-20  1933.329956  1935.199951  1905.800049  1918.189941   \n",
       "5561  2019-06-21  1916.099976  1925.949951  1907.579956  1911.300049   \n",
       "5562  2019-06-24  1912.660034  1916.859985  1901.329956  1907.953857   \n",
       "\n",
       "        Adj Close    Volume  \n",
       "0        1.958333  72156000  \n",
       "1        1.729167  14700000  \n",
       "2        1.708333   6106800  \n",
       "3        1.635417   5467200  \n",
       "4        1.427083  18853200  \n",
       "...           ...       ...  \n",
       "5558  1901.369995   3895700  \n",
       "5559  1908.790039   2895300  \n",
       "5560  1918.189941   3217200  \n",
       "5561  1911.300049   3920300  \n",
       "5562  1907.953857   1243601  \n",
       "\n",
       "[5563 rows x 7 columns]"
      ]
     },
     "execution_count": 17,
     "metadata": {},
     "output_type": "execute_result"
    }
   ],
   "source": [
    "df_amzn = pd.read_csv(\"../csv/AMZN.csv\")\n",
    "\n",
    "df_amzn"
   ]
  },
  {
   "cell_type": "code",
   "execution_count": 38,
   "metadata": {},
   "outputs": [],
   "source": [
    "df_amzn[\"Date\"] = pd.to_datetime(df_amzn[\"Date\"],format=\"%Y-%m-%d\")"
   ]
  },
  {
   "cell_type": "code",
   "execution_count": 39,
   "metadata": {},
   "outputs": [],
   "source": [
    "df_amzn.set_index(\"Date\",inplace=True)"
   ]
  },
  {
   "cell_type": "code",
   "execution_count": 50,
   "metadata": {},
   "outputs": [
    {
     "data": {
      "text/plain": [
       "35.8125"
      ]
     },
     "execution_count": 50,
     "metadata": {},
     "output_type": "execute_result"
    }
   ],
   "source": [
    "# 시계열로 바꿔서 2000-11형태로 검색 가능\n",
    "df_amzn.loc[\"2000-11\"].iloc[0][\"Open\"]"
   ]
  },
  {
   "cell_type": "code",
   "execution_count": 51,
   "metadata": {},
   "outputs": [
    {
     "data": {
      "text/plain": [
       "15.78"
      ]
     },
     "execution_count": 51,
     "metadata": {},
     "output_type": "execute_result"
    }
   ],
   "source": [
    "df_amzn.loc[\"2001-04\"].iloc[-1][\"Adj Close\"]"
   ]
  },
  {
   "cell_type": "code",
   "execution_count": 53,
   "metadata": {},
   "outputs": [
    {
     "name": "stdout",
     "output_type": "stream",
     "text": [
      "구매-35.8125,  판매-15.78,  수익률-0.44062827225130896,  누적수익률-0.44062827225130896\n",
      "구매-7.08,  판매-16.690001,  수익률-2.357344774011299,  누적수익률-1.038712754873251\n",
      "구매-19.219999,  판매-28.690001,  수익률-1.4927160506095758,  누적수익률-1.5505032011721918\n",
      "구매-54.799999,  판매-43.599998,  수익률-0.7956204159784748,  누적수익률-1.233612001892576\n",
      "구매-34.220001,  판매-32.360001,  수익률-0.9456458227455924,  누적수익률-1.1665600364785422\n",
      "구매-39.970001,  판매-35.209999,  수익률-0.8809106359541997,  누적수익률-1.027635143613067\n",
      "구매-38.130001,  판매-61.330002,  수익률-1.608444804394314,  누적수익률-1.6528944075574425\n",
      "구매-87.75,  판매-78.629997,  수익률-0.8960683418803419,  누적수익률-1.4811063510832876\n",
      "구매-56.349998,  판매-80.519997,  수익률-1.4289263506273773,  누적수익률-2.116391893144473\n",
      "구매-118.660004,  판매-137.100006,  수익률-1.155402000492095,  누적수익률-2.4452834271643766\n",
      "구매-164.449997,  판매-195.809998,  수익률-1.1906962698211543,  누적수익률-2.9115898553801114\n",
      "구매-208.110001,  판매-231.899994,  수익률-1.1143145110070898,  누적수익률-3.244426825951092\n",
      "구매-234.229996,  판매-253.809998,  수익률-1.0835930595328191,  누적수익률-3.5156383907626974\n",
      "구매-365.630005,  판매-304.130005,  수익률-0.8317971743046635,  누적수익률-2.924298079313406\n",
      "구매-306.23999,  판매-421.779999,  수익률-1.3772858306323743,  누적수익률-4.027594309183821\n",
      "구매-627.130005,  판매-659.590027,  수익률-1.051759637939824,  누적수익률-4.236061132395672\n",
      "구매-799.0,  판매-924.98999,  수익률-1.157684593241552,  누적수익률-4.904022709003831\n",
      "구매-1105.400024,  판매-1566.130005,  수익률-1.4167993224143443,  누적수익률-6.948016051221185\n",
      "구매-1623.530029,  판매-1926.52002,  수익률-1.1866241988678363,  누적수익률-8.244683980501206\n"
     ]
    }
   ],
   "source": [
    "acc_rtn = 1\n",
    "df_holloween = pd.DataFrame()\n",
    "\n",
    "for i in range(2000,2019,1):\n",
    "    buy_mon = str(i) + \"-11\"\n",
    "    sell_mon = str(i+1) + \"-04\"\n",
    "\n",
    "    # 구입가,판매가\n",
    "    buy = df_amzn.loc[buy_mon].iloc[0][\"Open\"]\n",
    "    sell = df_amzn.loc[sell_mon].iloc[-1][\"Adj Close\"]\n",
    "\n",
    "    # 수익률\n",
    "    rtn = (sell - buy) / buy + 1\n",
    "    # 누적수익률\n",
    "    acc_rtn *= rtn\n",
    "\n",
    "    print(\"구매-%s,  판매-%s,  수익률-%s,  누적수익률-%s\"%(buy,sell,rtn,acc_rtn))"
   ]
  },
  {
   "cell_type": "code",
   "execution_count": 59,
   "metadata": {},
   "outputs": [],
   "source": [
    "# buyandhold 투자전략 사용하는 경우\n",
    "buy = df_amzn.loc[\"2000-11\"].iloc[0][\"Open\"]\n",
    "sell = df_amzn.loc[\"2019-04\"].iloc[-1][\"Adj Close\"]\n",
    "\n",
    "rtn *= (sell - buy) / buy + 1"
   ]
  },
  {
   "cell_type": "code",
   "execution_count": 55,
   "metadata": {},
   "outputs": [
    {
     "name": "stdout",
     "output_type": "stream",
     "text": [
      "11.124213625243007\n"
     ]
    }
   ],
   "source": [
    "# CAGR(연복리수익률)\n",
    "# CAGR =  수익률 ** (1/투자기간) - 1 \n",
    "\n",
    "# 할로윈 CAGR\n",
    "CAGR = acc_rtn ** (1/20) - 1\n",
    "\n",
    "# CAGR을 나타낼 때는 백분율로 나타내는 게 일반적\n",
    "print(CAGR * 100)"
   ]
  },
  {
   "cell_type": "code",
   "execution_count": 60,
   "metadata": {},
   "outputs": [
    {
     "name": "stdout",
     "output_type": "stream",
     "text": [
      "23.098455630803883\n"
     ]
    }
   ],
   "source": [
    "# buyandhold CAGR\n",
    "CAGR_bnh = rtn ** (1/20) - 1\n",
    "print(CAGR_bnh * 100)"
   ]
  },
  {
   "cell_type": "code",
   "execution_count": 57,
   "metadata": {},
   "outputs": [],
   "source": [
    "from datetime import datetime\n",
    "from dateutil.relativedelta import relativedelta"
   ]
  },
  {
   "cell_type": "code",
   "execution_count": 58,
   "metadata": {},
   "outputs": [
    {
     "data": {
      "text/plain": [
       "datetime.datetime(2000, 11, 1, 0, 0)"
      ]
     },
     "execution_count": 58,
     "metadata": {},
     "output_type": "execute_result"
    }
   ],
   "source": [
    "start = datetime(year=2000,month=11,day=1)\n",
    "start"
   ]
  },
  {
   "cell_type": "code",
   "execution_count": null,
   "metadata": {},
   "outputs": [],
   "source": [
    "# start에서 다섯 달 후의 날짜 반환\n",
    "end = start + relativedelta(months=5)"
   ]
  },
  {
   "cell_type": "code",
   "execution_count": null,
   "metadata": {},
   "outputs": [],
   "source": [
    "print(start.strftime(\"%Y-%m\"). end.strftime(\"%Y-%m\"))"
   ]
  },
  {
   "cell_type": "code",
   "execution_count": 65,
   "metadata": {},
   "outputs": [],
   "source": [
    "def six_month(df, start=2000, end=2019, month=11):\n",
    "    if \"Date\" in df.columns:\n",
    "        df[\"Date\"] = pd.to_datetime(df[\"Date\"],format=\"%Y-%m-%d\")\n",
    "        df.set_index(\"Date\", inplace=True)\n",
    "\n",
    "    # 누적수익률 변수 생성 & 1로 초기화\n",
    "    acc_rtn = 1\n",
    "\n",
    "    for i in range(start,end):\n",
    "        _start = datetime(year=i,month=month,day=1)\n",
    "        _end = _start + relativedelta(months=5)\n",
    "\n",
    "        buy_mon = _start.strftime(\"%Y-%m\")\n",
    "        sell_mon = _end.strftime(\"%Y-%m\")\n",
    "\n",
    "        buy = df.loc[buy_mon].iloc[0][\"Open\"]\n",
    "        sell = df.loc[sell_mon].iloc[-1][\"Adj Close\"]\n",
    "\n",
    "        rtn = (sell - buy) / buy + 1\n",
    "        acc_rtn *= rtn\n",
    "\n",
    "\n",
    "    return acc_rtn"
   ]
  },
  {
   "cell_type": "code",
   "execution_count": 62,
   "metadata": {},
   "outputs": [
    {
     "data": {
      "text/plain": [
       "1.122619618972955"
      ]
     },
     "execution_count": 62,
     "metadata": {},
     "output_type": "execute_result"
    }
   ],
   "source": [
    "df_appl = pd.read_csv(\"../csv/AAPL.csv\")\n",
    "\n",
    "six_month(df_appl)"
   ]
  },
  {
   "cell_type": "code",
   "execution_count": 63,
   "metadata": {},
   "outputs": [
    {
     "data": {
      "text/plain": [
       "8.244683980501206"
      ]
     },
     "execution_count": 63,
     "metadata": {},
     "output_type": "execute_result"
    }
   ],
   "source": [
    "df_amzn = pd.read_csv(\"../csv/AMZN.csv\")\n",
    "\n",
    "six_month(df_amzn)"
   ]
  },
  {
   "cell_type": "code",
   "execution_count": 66,
   "metadata": {},
   "outputs": [
    {
     "name": "stdout",
     "output_type": "stream",
     "text": [
      "1월의 수익 4.470910943811504\n",
      "2월의 수익 4.408415564523263\n",
      "3월의 수익 18.50624959809526\n",
      "4월의 수익 13.582616833702685\n",
      "5월의 수익 4.304179383672146\n",
      "6월의 수익 5.111566986774566\n",
      "7월의 수익 3.589575312504607\n",
      "8월의 수익 6.418767529470167\n",
      "9월의 수익 1.3058661611037958\n",
      "10월의 수익 1.9960729229032756\n",
      "11월의 수익 8.244683980501206\n",
      "12월의 수익 6.23900557812782\n"
     ]
    }
   ],
   "source": [
    "df_amzn = pd.read_csv(\"../csv/AMZN.csv\")\n",
    "\n",
    "for i in range(1,13):\n",
    "    print(f\"{i}월의 수익\",six_month(df_amzn,month=i))"
   ]
  },
  {
   "cell_type": "code",
   "execution_count": 70,
   "metadata": {},
   "outputs": [],
   "source": [
    "import mod_halloween as mh"
   ]
  },
  {
   "cell_type": "code",
   "execution_count": 73,
   "metadata": {},
   "outputs": [],
   "source": [
    "df_amzn = pd.read_csv(\"../csv/AMZN.csv\")\n",
    "\n",
    "test = mh.Halloween(df_amzn,2000,2019)"
   ]
  },
  {
   "cell_type": "code",
   "execution_count": 74,
   "metadata": {},
   "outputs": [
    {
     "data": {
      "text/plain": [
       "8.244683980501206"
      ]
     },
     "execution_count": 74,
     "metadata": {},
     "output_type": "execute_result"
    }
   ],
   "source": [
    "test.accrtn()"
   ]
  },
  {
   "cell_type": "code",
   "execution_count": 75,
   "metadata": {},
   "outputs": [
    {
     "data": {
      "text/plain": [
       "11.742834843522832"
      ]
     },
     "execution_count": 75,
     "metadata": {},
     "output_type": "execute_result"
    }
   ],
   "source": [
    "test.cagr()"
   ]
  },
  {
   "cell_type": "code",
   "execution_count": null,
   "metadata": {},
   "outputs": [],
   "source": []
  }
 ],
 "metadata": {
  "kernelspec": {
   "display_name": "Python 3",
   "language": "python",
   "name": "python3"
  },
  "language_info": {
   "codemirror_mode": {
    "name": "ipython",
    "version": 3
   },
   "file_extension": ".py",
   "mimetype": "text/x-python",
   "name": "python",
   "nbconvert_exporter": "python",
   "pygments_lexer": "ipython3",
   "version": "3.9.6"
  },
  "orig_nbformat": 4
 },
 "nbformat": 4,
 "nbformat_minor": 2
}
