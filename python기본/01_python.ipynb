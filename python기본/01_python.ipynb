{
 "cells": [
  {
   "attachments": {},
   "cell_type": "markdown",
   "metadata": {},
   "source": [
    "## 03.31.금"
   ]
  },
  {
   "cell_type": "code",
   "execution_count": null,
   "metadata": {},
   "outputs": [
    {
     "name": "stdout",
     "output_type": "stream",
     "text": [
      "10\n",
      "test\n",
      "<class 'int'>\n",
      "<class 'str'>\n"
     ]
    }
   ],
   "source": [
    "a=10\n",
    "b=\"test\"\n",
    "\n",
    "print(a)\n",
    "print(b)\n",
    "\n",
    "print(type(a))\n",
    "print(type(b))"
   ]
  },
  {
   "cell_type": "code",
   "execution_count": 4,
   "metadata": {},
   "outputs": [
    {
     "name": "stdout",
     "output_type": "stream",
     "text": [
      "10\n",
      "<class 'str'>\n"
     ]
    }
   ],
   "source": [
    "## 숫자 형태의 데이터에 \"\"로 묶어주면 문자열 데이터로 데이터가 대입됨\n",
    "c = \"10\"\n",
    "print(c)\n",
    "print(type(c))"
   ]
  },
  {
   "cell_type": "code",
   "execution_count": 6,
   "metadata": {},
   "outputs": [
    {
     "name": "stdout",
     "output_type": "stream",
     "text": [
      "10 4 21 2.3333333333333335 1 343 "
     ]
    }
   ],
   "source": [
    "## 산술연산자\n",
    "x=7\n",
    "y=3\n",
    "\n",
    "print(x+y,x-y,x*y,x/y,x%y,x**y, end=\" \")"
   ]
  },
  {
   "cell_type": "code",
   "execution_count": 8,
   "metadata": {},
   "outputs": [
    {
     "name": "stdout",
     "output_type": "stream",
     "text": [
      "10\n",
      "11\n",
      "8\n",
      "16\n",
      "5.333333333333333\n"
     ]
    }
   ],
   "source": [
    "## 대입연산자\n",
    "print(x)\n",
    "x+=1\n",
    "print(x)\n",
    "\n",
    "x-=3\n",
    "print(x)\n",
    "\n",
    "x*=2\n",
    "print(x)\n",
    "\n",
    "x/=3\n",
    "print(x)"
   ]
  },
  {
   "cell_type": "code",
   "execution_count": 9,
   "metadata": {},
   "outputs": [
    {
     "name": "stdout",
     "output_type": "stream",
     "text": [
      "600\n"
     ]
    }
   ],
   "source": [
    "# 1부터 50까지 합계\n",
    "\n",
    "result = 0\n",
    "\n",
    "# case1(for문만)\n",
    "for i in range(2,50,2):\n",
    "    result += i\n",
    "\n",
    "print(result)"
   ]
  },
  {
   "cell_type": "code",
   "execution_count": 10,
   "metadata": {},
   "outputs": [
    {
     "name": "stdout",
     "output_type": "stream",
     "text": [
      "600\n"
     ]
    }
   ],
   "source": [
    "# 1부터 50까지 합계\n",
    "\n",
    "result = 0\n",
    "\n",
    "# case2(for문 + if문)\n",
    "for i in range(50):\n",
    "    if i%2==0:\n",
    "        result += i\n",
    "\n",
    "print(result)"
   ]
  },
  {
   "cell_type": "code",
   "execution_count": 14,
   "metadata": {},
   "outputs": [
    {
     "name": "stdout",
     "output_type": "stream",
     "text": [
      "[(1, 4), (2, 3), (3, 2), (4, 1), (4, 6), (5, 5), (6, 4)]\n"
     ]
    }
   ],
   "source": [
    "# 주사위 2개를 굴려서 두 주사위의 합계가 5의 배수인 경우를 출력하시오\n",
    "\n",
    "result=[]\n",
    "\n",
    "for i in range(1,7):\n",
    "    for j in range(1,7):\n",
    "        if (i+j)%5==0:\n",
    "            result.append((i,j))\n",
    "\n",
    "print(result)"
   ]
  },
  {
   "cell_type": "code",
   "execution_count": 17,
   "metadata": {},
   "outputs": [
    {
     "name": "stdout",
     "output_type": "stream",
     "text": [
      "페르마의 마지막 정리는 옳습니다.\n"
     ]
    }
   ],
   "source": [
    "n=3\n",
    "\n",
    "for i in range(1,11):\n",
    "    for j in range(1,11):\n",
    "        for k in range(1,11):\n",
    "            if i**n + j**n == k**n:\n",
    "                print(\"페르마의 마지막 정리는 틀렸습니다.\")\n",
    "                exit()\n",
    "\n",
    "print(\"페르마의 마지막 정리는 옳습니다.\")\n",
    "            "
   ]
  },
  {
   "cell_type": "code",
   "execution_count": 19,
   "metadata": {},
   "outputs": [
    {
     "name": "stdout",
     "output_type": "stream",
     "text": [
      "55\n"
     ]
    }
   ],
   "source": [
    "# while문을 사용한 1~10 합계\n",
    "\n",
    "result=0\n",
    "i=1\n",
    "\n",
    "while i<11:\n",
    "    result+=i\n",
    "    i+=1\n",
    "\n",
    "print(result)"
   ]
  },
  {
   "cell_type": "code",
   "execution_count": 24,
   "metadata": {},
   "outputs": [
    {
     "name": "stdout",
     "output_type": "stream",
     "text": [
      "42\n"
     ]
    }
   ],
   "source": [
    "s=0\n",
    "\n",
    "for i in range(1,1000):\n",
    "    s+=i\n",
    "    if s>=900:\n",
    "        break\n",
    "\n",
    "print(i)"
   ]
  },
  {
   "cell_type": "code",
   "execution_count": 22,
   "metadata": {},
   "outputs": [
    {
     "name": "stdout",
     "output_type": "stream",
     "text": [
      "42\n"
     ]
    }
   ],
   "source": [
    "s=0\n",
    "\n",
    "while s<=900:\n",
    "    s+=1\n",
    "\n",
    "print(i)"
   ]
  },
  {
   "cell_type": "code",
   "execution_count": 31,
   "metadata": {},
   "outputs": [
    {
     "name": "stdout",
     "output_type": "stream",
     "text": [
      "(1, 'string', [1, 2, 3, 4], {1: 'Um', 2: 'jiwoo'})\n"
     ]
    }
   ],
   "source": [
    "# 튜플은 삽입or삭제or수정 불가\n",
    "\n",
    "t1=(1,\"string\",[1,2,3,4],{1:\"Um\",2:\"jiwoo\"})\n",
    "\n",
    "print(t1)"
   ]
  },
  {
   "cell_type": "code",
   "execution_count": 33,
   "metadata": {},
   "outputs": [
    {
     "name": "stdout",
     "output_type": "stream",
     "text": [
      "[3, 6, 9, 12, 15, 18, 21, 24, 27, 30, 33, 36, 39, 42, 45, 48, 51, 54, 57, 60, 63, 66, 69]\n"
     ]
    }
   ],
   "source": [
    "arr=[]\n",
    "\n",
    "for i in range(1,71):\n",
    "    if i%3==0:\n",
    "        arr.append(i)\n",
    "    \n",
    "print(arr)\n"
   ]
  },
  {
   "cell_type": "code",
   "execution_count": 35,
   "metadata": {},
   "outputs": [
    {
     "name": "stdout",
     "output_type": "stream",
     "text": [
      "['test', 'test3']\n"
     ]
    }
   ],
   "source": [
    "# test_data에서 연령대가 20대인 사람의 이름을 리스트로 출력하시오.\n",
    "\n",
    "test_data = [\n",
    "    {\n",
    "        \"name\" : \"test\",\n",
    "        \"age\" : 20\n",
    "    },\n",
    "    {\n",
    "       \"name\": \"test2\",\n",
    "        \"age\" : 30 \n",
    "    },\n",
    "    {\n",
    "        \"name\": \"test3\",\n",
    "        \"age\": 25\n",
    "    }\n",
    "    \n",
    "]\n",
    "\n",
    "age_20=[]\n",
    "\n",
    "for obj in test_data:\n",
    "    age = obj[\"age\"]\n",
    "    if age>=20 and age<30:\n",
    "        age_20.append(obj[\"name\"])\n",
    "\n",
    "print(age_20)"
   ]
  },
  {
   "cell_type": "code",
   "execution_count": null,
   "metadata": {},
   "outputs": [],
   "source": []
  },
  {
   "attachments": {},
   "cell_type": "markdown",
   "metadata": {},
   "source": [
    "## 04.03.월"
   ]
  },
  {
   "cell_type": "code",
   "execution_count": 3,
   "metadata": {},
   "outputs": [
    {
     "name": "stdout",
     "output_type": "stream",
     "text": [
      "jiwoo\n"
     ]
    }
   ],
   "source": [
    "# 일반 함수\n",
    "\n",
    "def func_1():\n",
    "    return \"Hello\"\n",
    "\n",
    "# 파이썬은 오버로딩 불가\n",
    "# def func_1(word):\n",
    "#     return word\n",
    "\n",
    "print(func_1())"
   ]
  },
  {
   "cell_type": "code",
   "execution_count": 4,
   "metadata": {},
   "outputs": [
    {
     "name": "stdout",
     "output_type": "stream",
     "text": [
      "9\n",
      "3\n",
      "HelloWorld\n"
     ]
    }
   ],
   "source": [
    "# 함수 매개변수 개수와 호출 인자 개수가 다를 때 -> type error 발생\n",
    "\n",
    "def func_2(a,b):\n",
    "    c = a+b\n",
    "    return c\n",
    "\n",
    "print(func_2(3,6))\n",
    "print(func_2(1,2))\n",
    "print(func_2(\"Hello\",\"World\"))"
   ]
  },
  {
   "cell_type": "code",
   "execution_count": 6,
   "metadata": {},
   "outputs": [
    {
     "name": "stdout",
     "output_type": "stream",
     "text": [
      "-2\n"
     ]
    }
   ],
   "source": [
    "def func_3(a,b):\n",
    "    c=10\n",
    "    result=a+b-c\n",
    "    return result\n",
    "\n",
    "print(func_3(3,5))"
   ]
  },
  {
   "cell_type": "code",
   "execution_count": null,
   "metadata": {},
   "outputs": [],
   "source": [
    "## 변수 종류\n",
    "#1.전역변수 -> 어디서든 사용 가능한 변수\n",
    "#2.지역변수 -> 특정 범위(공간) 내에서만 사용 가능한 변수 ; 클래스나 함수 내에서 만들어짐"
   ]
  },
  {
   "cell_type": "code",
   "execution_count": 11,
   "metadata": {},
   "outputs": [
    {
     "name": "stdout",
     "output_type": "stream",
     "text": [
      "15원하는 문자로 문장 끝 정하기\n",
      "30\n"
     ]
    }
   ],
   "source": [
    "#전역변수 x\n",
    "x=3\n",
    "\n",
    "#지역변수 a(매개변수도 지역변수의 일종)\n",
    "#매개변수 디폴트 값 설정 가능\n",
    "#->매개변수 여러개인 경우 뒤에서부터 설정해줘야(a=10,b-->x / a,b=10-->o)\n",
    "#매개변수 여러개인 경우 변수명=x로 특정 변수에 대한 특정 값 명시적으로 지정 가능\n",
    "def func_4(a=10):\n",
    "    result=a*x\n",
    "    return result\n",
    "\n",
    "print(func_4(5), end=\"원하는 문자로 문장 끝 정하기\\n\")\n",
    "print(func_4())"
   ]
  },
  {
   "cell_type": "code",
   "execution_count": 14,
   "metadata": {},
   "outputs": [
    {
     "name": "stdout",
     "output_type": "stream",
     "text": [
      "7\n",
      "-1\n",
      "c의 값이 잘못됐습니다.\n"
     ]
    }
   ],
   "source": [
    "# return문은 함수에서 하나만 존재하는 게 좋음\n",
    "# def func_5(a,b,c):\n",
    "#     if c==1:\n",
    "#         return a+b\n",
    "#     elif c==2:\n",
    "#         return a-b\n",
    "#     else:\n",
    "#         return \"c의 값이 잘못됐습니다.\"\n",
    "\n",
    "def func_5(a,b,c):\n",
    "    if c==1:\n",
    "        result=a+b\n",
    "    elif c==2:\n",
    "        result=a-b\n",
    "    else:\n",
    "        result=\"c의 값이 잘못됐습니다.\"\n",
    "\n",
    "    return result\n",
    "    \n",
    "\n",
    "print(func_5(3,4,1))\n",
    "\n",
    "print(func_5(3,4,2))\n",
    "\n",
    "print(func_5(3,4,3))"
   ]
  },
  {
   "cell_type": "code",
   "execution_count": 1,
   "metadata": {},
   "outputs": [
    {
     "name": "stdout",
     "output_type": "stream",
     "text": [
      "52\n",
      "52\n"
     ]
    }
   ],
   "source": [
    "##예제\n",
    "#1.함수생성(매개변수 2개->_min,_max)\n",
    "#2._min부터 _max까지의 합계 출력하는 함수\n",
    "\n",
    "# def add_min_max(_min,_max):\n",
    "#     result=0\n",
    "#     if _min < _max:\n",
    "#         for i in range(_min,_max+1):\n",
    "#             result += i\n",
    "\n",
    "#     else:\n",
    "#         for i in range(_min,_max-1,-1):\n",
    "#             result += i\n",
    "\n",
    "#     return result\n",
    "\n",
    "def add_min_max(_min,_max):\n",
    "    result=0\n",
    "    s_min=min(_min,_max)\n",
    "    s_max=max(_min,_max)\n",
    "    for i in range(s_min,s_max+1):\n",
    "        result += i\n",
    "\n",
    "    return result\n",
    "\n",
    "print(add_min_max(3,10))\n",
    "print(add_min_max(10,3))\n"
   ]
  },
  {
   "cell_type": "code",
   "execution_count": 9,
   "metadata": {},
   "outputs": [
    {
     "name": "stdout",
     "output_type": "stream",
     "text": [
      "하나의 매개변수로 여러 값을 받는 방법 *args\n",
      "1\n",
      "2\n",
      "3\n",
      "4\n",
      "5\n"
     ]
    }
   ],
   "source": [
    "# *사용해서 여러 값 받기\n",
    "def func_6(*args):\n",
    "    print(\"하나의 매개변수로 여러 값을 받는 방법 *args\")\n",
    "    for i in args:\n",
    "        print(i)\n",
    "\n",
    "func_6(1,2,3,4,5)"
   ]
  },
  {
   "cell_type": "code",
   "execution_count": 11,
   "metadata": {},
   "outputs": [
    {
     "name": "stdout",
     "output_type": "stream",
     "text": [
      "단일 매개변수:  10\n",
      "1\n",
      "2\n",
      "3\n",
      "4\n",
      "5\n"
     ]
    }
   ],
   "source": [
    "def func_6(x,*args):\n",
    "    print(\"단일 매개변수: \",x)\n",
    "    for i in args:\n",
    "        print(i)\n",
    "\n",
    "func_6(10,1,2,3,4,5)"
   ]
  },
  {
   "cell_type": "code",
   "execution_count": 14,
   "metadata": {},
   "outputs": [
    {
     "data": {
      "text/plain": [
       "2"
      ]
     },
     "execution_count": 14,
     "metadata": {},
     "output_type": "execute_result"
    }
   ],
   "source": [
    "def find_min(*args):\n",
    "    _min=args[0]\n",
    "    for i in args:\n",
    "        if i<_min:\n",
    "            _min=i\n",
    "    return _min\n",
    "\n",
    "find_min(15,3,6,2,8,2)"
   ]
  },
  {
   "cell_type": "code",
   "execution_count": 58,
   "metadata": {},
   "outputs": [
    {
     "data": {
      "text/plain": [
       "3.0"
      ]
     },
     "execution_count": 58,
     "metadata": {},
     "output_type": "execute_result"
    }
   ],
   "source": [
    "# 평균을 구하는 함수\n",
    "# 인자 수 가변\n",
    "\n",
    "def cal_avg(*args):\n",
    "    d=len(args)\n",
    "    total=sum(args)\n",
    "    return total/d\n",
    "\n",
    "cal_avg(1,2,3,4,5)"
   ]
  },
  {
   "cell_type": "code",
   "execution_count": 68,
   "metadata": {},
   "outputs": [
    {
     "data": {
      "text/plain": [
       "<module 'm1' from 'c:\\\\Users\\\\umjiwoo\\\\OneDrive\\\\문서\\\\금융빅데이터 과정\\\\ubion\\\\m1.py'>"
      ]
     },
     "execution_count": 68,
     "metadata": {},
     "output_type": "execute_result"
    }
   ],
   "source": [
    "import m1\n",
    "\n",
    "## 미미한 수정으로 인해 파일 변경이 인식되지 않을 때\n",
    "## importlib를 가져와 reload()로 인식시켜주기\n",
    "import importlib\n",
    "importlib.reload(m1)"
   ]
  },
  {
   "cell_type": "code",
   "execution_count": 67,
   "metadata": {},
   "outputs": [
    {
     "data": {
      "text/plain": [
       "3.0"
      ]
     },
     "execution_count": 67,
     "metadata": {},
     "output_type": "execute_result"
    }
   ],
   "source": [
    "m1.calc_avg(1,2,3,4,5)"
   ]
  },
  {
   "cell_type": "code",
   "execution_count": null,
   "metadata": {},
   "outputs": [],
   "source": []
  }
 ],
 "metadata": {
  "kernelspec": {
   "display_name": "Python 3",
   "language": "python",
   "name": "python3"
  },
  "language_info": {
   "codemirror_mode": {
    "name": "ipython",
    "version": 3
   },
   "file_extension": ".py",
   "mimetype": "text/x-python",
   "name": "python",
   "nbconvert_exporter": "python",
   "pygments_lexer": "ipython3",
   "version": "3.9.6"
  },
  "orig_nbformat": 4,
  "vscode": {
   "interpreter": {
    "hash": "d77de3425f78c2a90575cb42b9e9a5bbc059131a1a3d1595cfa8ec72762dccda"
   }
  }
 },
 "nbformat": 4,
 "nbformat_minor": 2
}
