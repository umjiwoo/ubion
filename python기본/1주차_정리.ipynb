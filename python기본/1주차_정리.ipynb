{
 "cells": [
  {
   "attachments": {},
   "cell_type": "markdown",
   "metadata": {},
   "source": [
    "### 변수"
   ]
  },
  {
   "attachments": {},
   "cell_type": "markdown",
   "metadata": {},
   "source": [
    "    #### 1. 메모리에 데이터를 저장하는 공간의 이름\n",
    "    #### 2. 데이터 종류\n",
    "    #####   - string\n",
    "    #####   - int\n",
    "    #####   - float\n",
    "    #####   - bool\n",
    "    #####   - tuple\n",
    "    #####   - list\n",
    "    #####   - dict\n",
    "    #### 3.python 특징 ; 변수 생성 시 데이터 타입 미리 지정하지 않아도 됨"
   ]
  },
  {
   "attachments": {},
   "cell_type": "markdown",
   "metadata": {},
   "source": [
    "### 연산자"
   ]
  },
  {
   "attachments": {},
   "cell_type": "markdown",
   "metadata": {},
   "source": [
    "    #### 1. 일반 사칙연산\n",
    "    ####    +(덧셈) , -(뺄셈) , *(곱셈) , /(나눗셈) , //(몫) , %(나머지) , **(제곱)\n",
    "\n",
    "    #### 2. 대입연산자\n",
    "    ####    += , -= , /= , *= , //= , %= , **=\n",
    "\n",
    "    #### 3. 비교연산자\n",
    "    ####    -> 두개의 값을 비교해 참/거짓 형태로 출력\n",
    "    ####    -> 주로 반복문, 조건문에서 사용\n",
    "    ####    -> == , != , > , >= , < , <=\n",
    "    ####    -> 비교 조건이 2개 이상인 경우 ; 두 조건이 모두 참이어야 하는 경우 and(&), 두 조건 중 하나만 참이어도 되는 경우 or(|)\n",
    "    ####    -> not ; 부정의 표현, 참을 거짓으로 거짓을 참으로 출력"
   ]
  },
  {
   "attachments": {},
   "cell_type": "markdown",
   "metadata": {},
   "source": [
    "### 4. 조건문"
   ]
  },
  {
   "attachments": {},
   "cell_type": "markdown",
   "metadata": {},
   "source": [
    "    1. 특정한 조건에 맞춰 컴퓨터에게 지시를 내리는 방법\n",
    "    2. 조건식이 참인 경우 실행할 코드 작성\n",
    "    3. 조건식이 거짓인 경우 실행할 코드 작성\n",
    "    4. python 특징 ; 일반적 프로그래밍 언어에서는 {}를 이용해 실행할 코드를 작성하는데 반해 파이썬에서는 들여쓰기를 이용해 실행할 코드 작성"
   ]
  },
  {
   "attachments": {},
   "cell_type": "markdown",
   "metadata": {},
   "source": [
    "### 5. 반복문"
   ]
  },
  {
   "attachments": {},
   "cell_type": "markdown",
   "metadata": {},
   "source": [
    "    1. for문\n",
    "        -> for 변수명 in range(시작,끝,증가값):\n",
    "            ~~~~\n",
    "        -> for 변수명 in (리스트형태 데이터):\n",
    "            ~~~~\n",
    "            -> 리스트 길이만큼 반복\n",
    "            -> 리스트의 항목을 하나하나씩 변수에 담아 아래 코드 실행\n",
    "\n",
    "    2. while문\n",
    "        -> 초기값을 미리 지정\n",
    "        -> while조건식을 지정해 조건이 거짓이 될 때 까지 반복 실행 ; 무한 반복 주의"
   ]
  },
  {
   "attachments": {},
   "cell_type": "markdown",
   "metadata": {},
   "source": [
    "### 6. 여러 원소를 갖는 자료구조"
   ]
  },
  {
   "attachments": {},
   "cell_type": "markdown",
   "metadata": {},
   "source": [
    "    1. tuple\n",
    "        -> 여러 형태의 데이터를 담아두는 데이터형태\n",
    "        -> 가장 기본적\n",
    "        -> 각 항목을 추가,수정,삭제 불가능\n",
    "        -> () 묶어서 표시\n",
    "\n",
    "    2. list\n",
    "        -> 튜플과 매우 흡사하지만 원소 추가,수정,삭제 가능(list에 있는 내장함수)\n",
    "        -> []로 묵어서 표시\n",
    "\n",
    "    3. dict\n",
    "        -> 사전형 데이터\n",
    "        -> key : value\n",
    "        => lis\n",
    "        리스트와는 달리 위치와 상관없이 원하는 데이터 키 값을 이용해 출력 가능"
   ]
  },
  {
   "attachments": {},
   "cell_type": "markdown",
   "metadata": {},
   "source": [
    "리스트 항목들 중에 3이라는 숫자가 존재하는가?"
   ]
  },
  {
   "cell_type": "code",
   "execution_count": null,
   "metadata": {},
   "outputs": [],
   "source": [
    "for i in _list:\n",
    "    if i == find:\n",
    "        print(\"찾는 숫자가 리스트에 있습니다.\")\n",
    "    else:\n",
    "        print(\"찾는 숫자가 리스트에 없습니다.\")\n"
   ]
  },
  {
   "cell_type": "code",
   "execution_count": null,
   "metadata": {},
   "outputs": [],
   "source": [
    "for i in _list(0,len(_list)):\n",
    "    if find == _list[i]:\n",
    "        print(\"찾는 숫자가 리스트에 있습니다.\")\n",
    "    else:\n",
    "        print(\"찾는 숫자가 리스트에 없습니다.\")\n"
   ]
  },
  {
   "cell_type": "markdown",
   "metadata": {},
   "source": [
    "### 함수"
   ]
  },
  {
   "attachments": {},
   "cell_type": "markdown",
   "metadata": {},
   "source": [
    "    1. 고정된 데이터를 저장하는게 변수라면 함수는 행동을 지정\n",
    "    2. def 키워드를 이영해 함수 생성\n",
    "    3. 함수 호출 시 함수명(인자)\n",
    "    4. 일반적인 경우에는 함수의 매개변수 개수와 인자 개수가 같아야한다."
   ]
  },
  {
   "attachments": {},
   "cell_type": "markdown",
   "metadata": {},
   "source": [
    "    # 연습문제\n",
    "    1. 비어있는 리스트 생성\n",
    "    2. 함수 생성(매개변수 1개, 받아온 인자값을 비어있는 리스트에 추가, 단 이미 인자값이 리스트에 존재하면 추가하지 x)\n",
    "    3. input() 함수를 이용해 2번 과정에 만든 함수를 호출 인자값으로 input에서 받아온 데이터 사용"
   ]
  },
  {
   "cell_type": "code",
   "execution_count": 10,
   "metadata": {},
   "outputs": [],
   "source": [
    "_list = []\n",
    "\n",
    "def list_append(num):\n",
    "    if num in _list:\n",
    "        print(\"이미 등록되어 있는 원소\")\n",
    "    else:\n",
    "        _list.append(num)"
   ]
  },
  {
   "cell_type": "code",
   "execution_count": 18,
   "metadata": {},
   "outputs": [],
   "source": [
    "# in_value = input()\n",
    "# in_value = int(in_value)\n",
    "in_value = int(input())\n",
    "\n",
    "list_append(in_value)"
   ]
  },
  {
   "cell_type": "code",
   "execution_count": 19,
   "metadata": {},
   "outputs": [
    {
     "data": {
      "text/plain": [
       "[3, 5, 7]"
      ]
     },
     "execution_count": 19,
     "metadata": {},
     "output_type": "execute_result"
    }
   ],
   "source": [
    "_list"
   ]
  },
  {
   "attachments": {},
   "cell_type": "markdown",
   "metadata": {},
   "source": [
    "### 라이브러리"
   ]
  },
  {
   "attachments": {},
   "cell_type": "markdown",
   "metadata": {},
   "source": [
    "    1. 함수, 클래스들의 집합체\n",
    "    2. 라이브러리 설치 -> !pip install 라이브러리명\n",
    "    3. 라이브러리 로드 -> import 라이브러리명 as 별칭 / import 라이브러리명.기능명 as 별칭 /  from 라이브러리명 import 함수명(라이브러리 내부 기능)\n"
   ]
  },
  {
   "attachments": {},
   "cell_type": "markdown",
   "metadata": {},
   "source": [
    "### pandas"
   ]
  },
  {
   "attachments": {},
   "cell_type": "markdown",
   "metadata": {},
   "source": [
    "    1. 외부에서 파일을 가져오는 함수\n",
    "        read_csv(),read_json(),read_excel()\n",
    "        -> 한글 전환에 문제 있는 경우 ; encoding=\"utf-8|euc-kr|cp949\" 옵션 설정해주기\n",
    "\n",
    "    2. 데이터프레임 컬럼명 변경\n",
    "        df.columns = [변경할 컬럼명 리스트 항목]  <---원소 개수 맞춰야함\n",
    "\n",
    "    3. 데이터프레임에서 특정 컬럼을 추출하는 방법\n",
    "        - 단일 컬럼 추출 : df[\"컬럼명\"]   -> series 형태\n",
    "        - 여러 개의 컬럼 추출 : df[[\"컬럼1\",\"컬럼2\"]]   -> dataframe 형태\n",
    "\n",
    "    4. series형태의 데이터를 list형태로 변환\n",
    "        시리즈명.tolist()\n",
    "\n",
    "    5. 컬럼값을 기준으로 정렬을 변경하는 함수\n",
    "        sort_values()\n",
    "        옵션 : ascending(오름차순, default=True), inplace(기준 데이터프레임 변경 여부 지정, default=False)\n",
    "\n",
    "    6. 인덱스 재지정\n",
    "        reset_index()\n",
    "        옵션 : drop(기존 인덱스 삭제 여부 지정, default=False), inplace(default=False)\n",
    "\n",
    "    7. 결측치 유무 확인\n",
    "        df.isna()  -> 결측치 여부를 판단해 참거짓 형태로 출력\n",
    "        df.isna().sum()  -> 컬럼별 결측치 개수 확인\n",
    "        fillna(n)  -> 결측치에 값 치환\n",
    "\n",
    "    8. 그룹화 함수\n",
    "        groupby(\"그룹화할 컬럼명\")\n",
    "        - sum(), mean(), min(), max(), count()(<-데이터 개수)\n",
    "        - agg() 로 데이터 연산 한번에 처리 가능\n",
    "\n",
    "    9. 데이터프레임 통계 요약 정보 출력\n",
    "        describe()\n",
    "\n",
    "    10. 데이터 간 차이를 구하기\n",
    "        diff(n)  -> 현재 행의 데이터에서 n만큼 이동한 데이터간 차이 출력\n",
    "\n",
    "    11. 행 이동하기\n",
    "        shift(n)  -> 행을 n만큼 이동한 데이터 값 출력\n",
    "\n",
    "    12. 데이터프레임 결합\n",
    "        - concat([\"df1\",\"df2\",\"df3\",...])  -> 단순하게 행이나 열을 결합\n",
    "        옵션 : axis = \"rows(0)|columns(1)\"\n",
    "\n",
    "        - merge([\"df1\",\"df2\"])  -> 특정한 조건에 맞춰 결합(sql 있는 join 연산과 흡사)\n",
    "        옵션 : on(특정 조건), how(기준이 되는 데이터프레임 ; left|right|inner|outer)\n",
    "\n",
    "    13. apply()\n",
    "        -> 데이터프레임에 있는 각 원소들을 () 안 함수에 대입해 실행\n",
    "        ex) apply(일반함수), apply(lanbda ~)\n",
    "\n",
    "    14. 시계열\n",
    "        - to_datetime(변경할 데이터, format=\"\")\n",
    "        옵션 : format(변경할 데이터 형태)\n",
    "        ex) 201901 데이터를 시계열로 변경 ; format = \"%Y%m\"\n",
    "            01-2019 데이터를 시곌열로 변경 ; format = \"%m-%Y\""
   ]
  },
  {
   "cell_type": "markdown",
   "metadata": {},
   "source": []
  }
 ],
 "metadata": {
  "kernelspec": {
   "display_name": "Python 3",
   "language": "python",
   "name": "python3"
  },
  "language_info": {
   "codemirror_mode": {
    "name": "ipython",
    "version": 3
   },
   "file_extension": ".py",
   "mimetype": "text/x-python",
   "name": "python",
   "nbconvert_exporter": "python",
   "pygments_lexer": "ipython3",
   "version": "3.9.6"
  },
  "orig_nbformat": 4
 },
 "nbformat": 4,
 "nbformat_minor": 2
}
