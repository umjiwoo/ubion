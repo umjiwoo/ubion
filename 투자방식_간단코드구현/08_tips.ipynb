{
 "cells": [
  {
   "cell_type": "code",
   "execution_count": null,
   "metadata": {},
   "outputs": [],
   "source": [
    "import pandas as pd\n",
    "import numpy as np\n",
    "import seaborn as sns\n",
    "import matplotlib.pyplot as plt"
   ]
  },
  {
   "cell_type": "code",
   "execution_count": null,
   "metadata": {},
   "outputs": [],
   "source": [
    "# tips 데이터셋 로드\n",
    "tips = sns.load_dataset(\"tips\")\n",
    "tips"
   ]
  },
  {
   "attachments": {},
   "cell_type": "markdown",
   "metadata": {},
   "source": [
    "1. 컬럼 이름 변경 ; [총금액,팁,성별,흡연여부,요일,시간,인원]\n",
    "2. 총금액,팁 컬럼의 데이터를 소수점 1자리 두고 반올림\n",
    "3. 인원과 성별에 따른(그룹화) 팁의 비율의 평균값을 구하고 그래프 시각화(바그래프)"
   ]
  },
  {
   "cell_type": "code",
   "execution_count": null,
   "metadata": {},
   "outputs": [],
   "source": [
    "tips.columns = [\"총금액\",\"팁\",\"성별\",\"흡연여부\",\"요일\",\"시간\",\"인원\"]"
   ]
  },
  {
   "cell_type": "code",
   "execution_count": null,
   "metadata": {},
   "outputs": [],
   "source": [
    "tips[\"총금액\"] = tips[\"총금액\"].round(1)\n",
    "tips[\"팁\"] = tips[\"팁\"].round(1)\n",
    "\n",
    "# tips[\"총금액\",\"팁\"] = tips[\"총금액\",\"팁\"].round(1)"
   ]
  },
  {
   "cell_type": "code",
   "execution_count": null,
   "metadata": {},
   "outputs": [],
   "source": [
    "tips[\"팁비율\"] = (tips[\"팁\"] / tips[\"총금액\"]) * 100"
   ]
  },
  {
   "cell_type": "code",
   "execution_count": null,
   "metadata": {},
   "outputs": [],
   "source": [
    "# # 팁 비율의 평균값과 인원과 성별을 그룹화하여 모든 컬럼에 대한 평균을 낸 값의 평균과는 당연히 다를수밖에\n",
    "# res = (tips.groupby([\"인원\",\"성별\"]).mean()[\"팁\"] / tips.groupby([\"인원\",\"성별\"]).mean()[\"총금액\"]) * 100\n",
    "# res_df = pd.DataFrame(res,columns=[\"팁비율\"])\n",
    "# res_df\n",
    "# res_df.plot.bar()"
   ]
  },
  {
   "cell_type": "code",
   "execution_count": null,
   "metadata": {},
   "outputs": [],
   "source": [
    "group_data = tips[[\"인원\",\"성별\",\"팁비율\"]].groupby([\"인원\",\"성별\"]).mean()"
   ]
  },
  {
   "cell_type": "code",
   "execution_count": null,
   "metadata": {},
   "outputs": [],
   "source": [
    "group_data.head(2)"
   ]
  },
  {
   "cell_type": "code",
   "execution_count": null,
   "metadata": {},
   "outputs": [],
   "source": [
    "group_data.plot.bar()\n",
    "# plt.rc('font', family=\"Malgun Gothic\")"
   ]
  },
  {
   "cell_type": "code",
   "execution_count": null,
   "metadata": {},
   "outputs": [],
   "source": [
    "x = list(range(0,len(group_data.index)))\n",
    "y = group_data[\"팁비율\"]\n",
    "plt.barh(x,y)\n",
    "plt.yticks(x,group_data.index)\n",
    "plt.legend(\"팁\")\n",
    "plt.show()"
   ]
  },
  {
   "cell_type": "code",
   "execution_count": 116,
   "metadata": {},
   "outputs": [],
   "source": [
    "# group_data에서 남자 데이터/여자 데이터 분리\n",
    "\n",
    "male_data = pd.DataFrame()\n",
    "female_data = pd.DataFrame()\n",
    "\n",
    "for i in group_data.index:\n",
    "    if i[1]==\"Male\":\n",
    "        # male_data.append()\n",
    "        male_data = pd.concat([male_data,group_data.loc[[i]]])\n",
    "    else:\n",
    "        female_data = pd.concat([male_data,group_data.loc[[i]]])"
   ]
  },
  {
   "cell_type": "code",
   "execution_count": 106,
   "metadata": {},
   "outputs": [
    {
     "data": {
      "text/plain": [
       "pandas.core.series.Series"
      ]
     },
     "execution_count": 106,
     "metadata": {},
     "output_type": "execute_result"
    }
   ],
   "source": [
    "# loc함수 사용 시 인덱스값 단일 지정 -> Series 형태 반환\n",
    "type(group_data.loc[(1,\"Male\")])"
   ]
  },
  {
   "cell_type": "code",
   "execution_count": 107,
   "metadata": {},
   "outputs": [
    {
     "data": {
      "text/plain": [
       "pandas.core.frame.DataFrame"
      ]
     },
     "execution_count": 107,
     "metadata": {},
     "output_type": "execute_result"
    }
   ],
   "source": [
    "# loc함수 사용 시 인덱스값 단일 지정하더라도 리스트 형태로 지정 -> DataFrame 형태 반환\n",
    "type(group_data.loc[[(1,\"Male\")]])"
   ]
  },
  {
   "cell_type": "code",
   "execution_count": 109,
   "metadata": {},
   "outputs": [
    {
     "data": {
      "text/html": [
       "<div>\n",
       "<style scoped>\n",
       "    .dataframe tbody tr th:only-of-type {\n",
       "        vertical-align: middle;\n",
       "    }\n",
       "\n",
       "    .dataframe tbody tr th {\n",
       "        vertical-align: top;\n",
       "    }\n",
       "\n",
       "    .dataframe thead th {\n",
       "        text-align: right;\n",
       "    }\n",
       "</style>\n",
       "<table border=\"1\" class=\"dataframe\">\n",
       "  <thead>\n",
       "    <tr style=\"text-align: right;\">\n",
       "      <th></th>\n",
       "      <th></th>\n",
       "      <th>팁비율</th>\n",
       "    </tr>\n",
       "    <tr>\n",
       "      <th>인원</th>\n",
       "      <th>성별</th>\n",
       "      <th></th>\n",
       "    </tr>\n",
       "  </thead>\n",
       "  <tbody>\n",
       "    <tr>\n",
       "      <th>1</th>\n",
       "      <th>Male</th>\n",
       "      <td>22.093023</td>\n",
       "    </tr>\n",
       "  </tbody>\n",
       "</table>\n",
       "</div>"
      ],
      "text/plain": [
       "               팁비율\n",
       "인원 성별             \n",
       "1  Male  22.093023"
      ]
     },
     "execution_count": 109,
     "metadata": {},
     "output_type": "execute_result"
    }
   ],
   "source": [
    "group_data.loc[[(1,\"Male\")]]"
   ]
  },
  {
   "cell_type": "code",
   "execution_count": 108,
   "metadata": {},
   "outputs": [
    {
     "data": {
      "text/plain": [
       "(1, 'Male')"
      ]
     },
     "execution_count": 108,
     "metadata": {},
     "output_type": "execute_result"
    }
   ],
   "source": [
    "group_data.index[0]"
   ]
  },
  {
   "cell_type": "code",
   "execution_count": 141,
   "metadata": {},
   "outputs": [
    {
     "data": {
      "image/png": "[encoded data removed]",
      "text/plain": [
       "<Figure size 640x480 with 1 Axes>"
      ]
     },
     "metadata": {},
     "output_type": "display_data"
    }
   ],
   "source": [
    "# male_x = [i for i in range(1,13,2)]\n",
    "male_x = list(range(1,len(male_data)*2+1, 2))\n",
    "male_y = male_data[\"팁비율\"]\n",
    "\n",
    "female_x = list(range(2,(len(female_data)+1)*2, 2))\n",
    "female_y = female_data[\"팁비율\"]\n",
    "\n",
    "plt.bar(male_x,male_y, width=0.4)\n",
    "plt.bar(female_x,female_y, width=0.4)\n",
    "\n",
    "plt.show()"
   ]
  },
  {
   "attachments": {},
   "cell_type": "markdown",
   "metadata": {},
   "source": [
    "### pivot table\n",
    "1. 그룹화\n",
    "2. 인덱스,컬럼을 기준으로 \n",
    "3. 데이터 집계"
   ]
  },
  {
   "cell_type": "code",
   "execution_count": 125,
   "metadata": {},
   "outputs": [],
   "source": [
    "pivot_data = pd.pivot_table(\n",
    "    tips,\n",
    "    index=\"인원\",\n",
    "    columns=\"성별\",\n",
    "    values=[\"팁비율\"],  # 데이터프레임을 채울 value값의 정보인 column값을 표시하고 싶을 때는 [\"팁비율\"] \n",
    "    aggfunc=\"mean\"\n",
    ")"
   ]
  },
  {
   "cell_type": "code",
   "execution_count": 126,
   "metadata": {},
   "outputs": [
    {
     "data": {
      "text/plain": [
       "<AxesSubplot:xlabel='인원'>"
      ]
     },
     "execution_count": 126,
     "metadata": {},
     "output_type": "execute_result"
    },
    {
     "data": {
      "image/png": "[encoded data removed]",
      "text/plain": [
       "<Figure size 640x480 with 1 Axes>"
      ]
     },
     "metadata": {},
     "output_type": "display_data"
    }
   ],
   "source": [
    "pivot_data.plot.bar()"
   ]
  },
  {
   "cell_type": "code",
   "execution_count": null,
   "metadata": {},
   "outputs": [],
   "source": []
  }
 ],
 "metadata": {
  "kernelspec": {
   "display_name": "Python 3",
   "language": "python",
   "name": "python3"
  },
  "language_info": {
   "codemirror_mode": {
    "name": "ipython",
    "version": 3
   },
   "file_extension": ".py",
   "mimetype": "text/x-python",
   "name": "python",
   "nbconvert_exporter": "python",
   "pygments_lexer": "ipython3",
   "version": "3.9.6"
  },
  "orig_nbformat": 4
 },
 "nbformat": 4,
 "nbformat_minor": 2
}
